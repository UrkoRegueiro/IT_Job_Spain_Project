{
 "cells": [
  {
   "cell_type": "markdown",
   "id": "85e67978-327f-4b34-86b7-9d8f45c647bb",
   "metadata": {
    "tags": []
   },
   "source": [
    "# Paquetes y Funciones"
   ]
  },
  {
   "cell_type": "code",
   "execution_count": 1,
   "id": "feb7cdb7-e23c-47ef-a39d-f6f5997164bf",
   "metadata": {
    "tags": []
   },
   "outputs": [],
   "source": [
    "import nbimporter\n",
    "from funciones import *\n",
    "\n",
    "# Avisos\n",
    "import warnings\n",
    "warnings.filterwarnings(\"ignore\")"
   ]
  },
  {
   "cell_type": "markdown",
   "id": "4710ac85-cee6-46bd-abce-0e1a12f699e3",
   "metadata": {},
   "source": [
    "## El proceso de limpieza y preparación de datos puede observarse en el notebook de funciones."
   ]
  },
  {
   "cell_type": "markdown",
   "id": "f1a01a0d-c4ec-4d8c-a972-668ac7673758",
   "metadata": {
    "tags": []
   },
   "source": [
    "# 1. Carga datos:"
   ]
  },
  {
   "cell_type": "markdown",
   "id": "4b41807a-c974-48f3-8330-b2b66086bb49",
   "metadata": {},
   "source": [
    "### Rutas"
   ]
  },
  {
   "cell_type": "code",
   "execution_count": 3,
   "id": "778ca616-e20c-427d-90a1-cc13f3264599",
   "metadata": {
    "tags": []
   },
   "outputs": [],
   "source": [
    "ruta_actual = os.getcwd()\n",
    "\n",
    "ruta_datos_procesados = ruta_actual.replace(\"Modelo_predictivo\", \"Datos\\\\Procesados\\\\\")\n",
    "ruta_listas = ruta_actual + \"\\\\listas\\\\\"\n",
    "ruta_encoders = ruta_actual + \"\\\\encoders\\\\\"\n",
    "ruta_modelos = ruta_actual + \"\\\\trained_models\\\\\""
   ]
  },
  {
   "cell_type": "markdown",
   "id": "3914f502-51be-4063-93ca-eda4aa4af275",
   "metadata": {},
   "source": [
    "### Datos empleos"
   ]
  },
  {
   "cell_type": "code",
   "execution_count": 5,
   "id": "ef369838-3a3a-4a3f-88bf-487577069e9c",
   "metadata": {
    "tags": []
   },
   "outputs": [],
   "source": [
    "df_empleos = pd.read_csv(ruta_datos_procesados + 'datos_jobs_finales.csv')"
   ]
  },
  {
   "cell_type": "markdown",
   "id": "f637a621-9a1b-463e-8c38-b031b71e24e9",
   "metadata": {},
   "source": [
    "## -----------------------------------------------------------------------------------------------------------------------------"
   ]
  },
  {
   "cell_type": "markdown",
   "id": "3c9d1257-1423-4714-800a-7256e33a7ba7",
   "metadata": {
    "tags": []
   },
   "source": [
    "# 2. Prepocesamiento de datos"
   ]
  },
  {
   "cell_type": "code",
   "execution_count": 7,
   "id": "fde358a9-bd6b-4805-af86-9f0731affc05",
   "metadata": {
    "tags": []
   },
   "outputs": [],
   "source": [
    "rutas = [ruta_listas, ruta_encoders]\n",
    "encoders = [OneHotEncoder(), MultiLabelBinarizer()]"
   ]
  },
  {
   "cell_type": "code",
   "execution_count": 8,
   "id": "eda8210c-8236-44cc-8332-f537caa9de67",
   "metadata": {
    "tags": []
   },
   "outputs": [],
   "source": [
    "df_salario_min, df_salario_max = data_preparator(df_empleos, rutas, encoders)"
   ]
  },
  {
   "cell_type": "markdown",
   "id": "3332bc04-6ed2-4158-a304-e4ba2d54bd52",
   "metadata": {},
   "source": [
    "## -----------------------------------------------------------------------------------------------------------------------------"
   ]
  },
  {
   "cell_type": "markdown",
   "id": "ddaf9656-919b-4954-b5ec-e544ffb45cff",
   "metadata": {
    "tags": []
   },
   "source": [
    "# 3. Modelos de regresión"
   ]
  },
  {
   "cell_type": "markdown",
   "id": "d03af249-e049-4c6b-869a-17e76a08bfa4",
   "metadata": {},
   "source": [
    "## 3.1. Preparación de datos"
   ]
  },
  {
   "cell_type": "markdown",
   "id": "c9e384c4-108b-425c-9341-4c3325defd45",
   "metadata": {},
   "source": [
    "- ### Salario mínimo"
   ]
  },
  {
   "cell_type": "code",
   "execution_count": 6,
   "id": "4fbe44a4-6e18-473f-a6de-d1521aefce6d",
   "metadata": {
    "tags": []
   },
   "outputs": [],
   "source": [
    "X_min = df_salario_min.drop([\"salario_min\"], axis= 1)\n",
    "y_min = df_salario_min[[\"salario_min\"]]"
   ]
  },
  {
   "cell_type": "markdown",
   "id": "e91778fe-aea3-4de9-8822-862c6b87fba1",
   "metadata": {},
   "source": [
    "- ### Salario máximo"
   ]
  },
  {
   "cell_type": "code",
   "execution_count": 7,
   "id": "d96cae8d-fb10-4fff-a087-8760b7e1e38a",
   "metadata": {
    "tags": []
   },
   "outputs": [],
   "source": [
    "X_max = df_salario_max.drop([\"salario_max\"], axis= 1)\n",
    "y_max = df_salario_max[[\"salario_max\"]]"
   ]
  },
  {
   "cell_type": "markdown",
   "id": "3fa5221d-ecce-4d71-b29c-e139bb82a320",
   "metadata": {},
   "source": [
    "## -----------------------------------------------------------------------------------------------------------------------------"
   ]
  },
  {
   "cell_type": "markdown",
   "id": "5616558f-a437-49ff-a2fd-31a4d14f5d7c",
   "metadata": {
    "tags": []
   },
   "source": [
    "## 3.2. Testeo de modelos con cross validation"
   ]
  },
  {
   "cell_type": "code",
   "execution_count": 10,
   "id": "e65b9025-3903-4a0e-b968-7e8d91cc4fa8",
   "metadata": {
    "tags": []
   },
   "outputs": [],
   "source": [
    "modelos = [LinearRegression(), RandomForestRegressor(), AdaBoostRegressor(), GradientBoostingRegressor(), SVR(), KNeighborsRegressor(), DecisionTreeRegressor(), Ridge(), Lasso(), ElasticNet(), XGBRegressor(), LinearSVR()]"
   ]
  },
  {
   "cell_type": "markdown",
   "id": "efaa17c3-dde1-4e3c-84b6-3976a577f36d",
   "metadata": {},
   "source": [
    "- ### Salario mínimo"
   ]
  },
  {
   "cell_type": "code",
   "execution_count": 11,
   "id": "60aa1e0e-a4b9-460e-a9ae-84ef18069a98",
   "metadata": {
    "tags": []
   },
   "outputs": [],
   "source": [
    "MIN_SIN_PCA = model_tester(modelos, X_min, y_min)"
   ]
  },
  {
   "cell_type": "code",
   "execution_count": 12,
   "id": "14ce4bbf-5f57-4b9a-9297-5d50f3569901",
   "metadata": {
    "tags": []
   },
   "outputs": [
    {
     "data": {
      "text/html": [
       "<div>\n",
       "<style scoped>\n",
       "    .dataframe tbody tr th:only-of-type {\n",
       "        vertical-align: middle;\n",
       "    }\n",
       "\n",
       "    .dataframe tbody tr th {\n",
       "        vertical-align: top;\n",
       "    }\n",
       "\n",
       "    .dataframe thead th {\n",
       "        text-align: right;\n",
       "    }\n",
       "</style>\n",
       "<table border=\"1\" class=\"dataframe\">\n",
       "  <thead>\n",
       "    <tr style=\"text-align: right;\">\n",
       "      <th></th>\n",
       "      <th>nombre</th>\n",
       "      <th>mean_r2</th>\n",
       "      <th>mean_MSE</th>\n",
       "      <th>mean_MAE</th>\n",
       "    </tr>\n",
       "  </thead>\n",
       "  <tbody>\n",
       "    <tr>\n",
       "      <th>4</th>\n",
       "      <td>SVR</td>\n",
       "      <td>0.435862</td>\n",
       "      <td>0.053869</td>\n",
       "      <td>0.173324</td>\n",
       "    </tr>\n",
       "    <tr>\n",
       "      <th>3</th>\n",
       "      <td>GradientBoostingRegressor</td>\n",
       "      <td>0.424787</td>\n",
       "      <td>0.052174</td>\n",
       "      <td>0.173443</td>\n",
       "    </tr>\n",
       "    <tr>\n",
       "      <th>1</th>\n",
       "      <td>RandomForestRegressor</td>\n",
       "      <td>0.389427</td>\n",
       "      <td>0.057481</td>\n",
       "      <td>0.179264</td>\n",
       "    </tr>\n",
       "    <tr>\n",
       "      <th>10</th>\n",
       "      <td>XGBRegressor</td>\n",
       "      <td>0.370744</td>\n",
       "      <td>0.057595</td>\n",
       "      <td>0.175459</td>\n",
       "    </tr>\n",
       "    <tr>\n",
       "      <th>5</th>\n",
       "      <td>KNeighborsRegressor</td>\n",
       "      <td>0.346332</td>\n",
       "      <td>0.061191</td>\n",
       "      <td>0.188857</td>\n",
       "    </tr>\n",
       "    <tr>\n",
       "      <th>7</th>\n",
       "      <td>Ridge</td>\n",
       "      <td>0.334090</td>\n",
       "      <td>0.059116</td>\n",
       "      <td>0.184830</td>\n",
       "    </tr>\n",
       "    <tr>\n",
       "      <th>2</th>\n",
       "      <td>AdaBoostRegressor</td>\n",
       "      <td>0.322932</td>\n",
       "      <td>0.062198</td>\n",
       "      <td>0.194327</td>\n",
       "    </tr>\n",
       "  </tbody>\n",
       "</table>\n",
       "</div>"
      ],
      "text/plain": [
       "                       nombre   mean_r2  mean_MSE  mean_MAE\n",
       "4                         SVR  0.435862  0.053869  0.173324\n",
       "3   GradientBoostingRegressor  0.424787  0.052174  0.173443\n",
       "1       RandomForestRegressor  0.389427  0.057481  0.179264\n",
       "10               XGBRegressor  0.370744  0.057595  0.175459\n",
       "5         KNeighborsRegressor  0.346332  0.061191  0.188857\n",
       "7                       Ridge  0.334090  0.059116  0.184830\n",
       "2           AdaBoostRegressor  0.322932  0.062198  0.194327"
      ]
     },
     "execution_count": 12,
     "metadata": {},
     "output_type": "execute_result"
    }
   ],
   "source": [
    "MIN_SIN_PCA[MIN_SIN_PCA[\"mean_r2\"] > 0.3].sort_values(by= \"mean_r2\", ascending= False)"
   ]
  },
  {
   "cell_type": "markdown",
   "id": "a26f197b-be81-4b9b-9292-d17151ee635e",
   "metadata": {},
   "source": [
    "- ### Salario máximo"
   ]
  },
  {
   "cell_type": "code",
   "execution_count": 13,
   "id": "fe3e3954-2342-437d-8a5a-1ba038196ea1",
   "metadata": {
    "tags": []
   },
   "outputs": [],
   "source": [
    "MAX_SIN_PCA = model_tester(modelos, X_max, y_max)"
   ]
  },
  {
   "cell_type": "code",
   "execution_count": 14,
   "id": "0e53656b-857e-49bb-a24e-44ce82243ef8",
   "metadata": {
    "tags": []
   },
   "outputs": [
    {
     "data": {
      "text/html": [
       "<div>\n",
       "<style scoped>\n",
       "    .dataframe tbody tr th:only-of-type {\n",
       "        vertical-align: middle;\n",
       "    }\n",
       "\n",
       "    .dataframe tbody tr th {\n",
       "        vertical-align: top;\n",
       "    }\n",
       "\n",
       "    .dataframe thead th {\n",
       "        text-align: right;\n",
       "    }\n",
       "</style>\n",
       "<table border=\"1\" class=\"dataframe\">\n",
       "  <thead>\n",
       "    <tr style=\"text-align: right;\">\n",
       "      <th></th>\n",
       "      <th>nombre</th>\n",
       "      <th>mean_r2</th>\n",
       "      <th>mean_MSE</th>\n",
       "      <th>mean_MAE</th>\n",
       "    </tr>\n",
       "  </thead>\n",
       "  <tbody>\n",
       "    <tr>\n",
       "      <th>4</th>\n",
       "      <td>SVR</td>\n",
       "      <td>0.467315</td>\n",
       "      <td>0.052025</td>\n",
       "      <td>0.174282</td>\n",
       "    </tr>\n",
       "    <tr>\n",
       "      <th>3</th>\n",
       "      <td>GradientBoostingRegressor</td>\n",
       "      <td>0.438649</td>\n",
       "      <td>0.052626</td>\n",
       "      <td>0.177284</td>\n",
       "    </tr>\n",
       "    <tr>\n",
       "      <th>1</th>\n",
       "      <td>RandomForestRegressor</td>\n",
       "      <td>0.411233</td>\n",
       "      <td>0.058074</td>\n",
       "      <td>0.180589</td>\n",
       "    </tr>\n",
       "    <tr>\n",
       "      <th>10</th>\n",
       "      <td>XGBRegressor</td>\n",
       "      <td>0.394015</td>\n",
       "      <td>0.057287</td>\n",
       "      <td>0.178659</td>\n",
       "    </tr>\n",
       "    <tr>\n",
       "      <th>2</th>\n",
       "      <td>AdaBoostRegressor</td>\n",
       "      <td>0.385294</td>\n",
       "      <td>0.060300</td>\n",
       "      <td>0.193858</td>\n",
       "    </tr>\n",
       "    <tr>\n",
       "      <th>5</th>\n",
       "      <td>KNeighborsRegressor</td>\n",
       "      <td>0.368606</td>\n",
       "      <td>0.062650</td>\n",
       "      <td>0.192500</td>\n",
       "    </tr>\n",
       "    <tr>\n",
       "      <th>7</th>\n",
       "      <td>Ridge</td>\n",
       "      <td>0.342929</td>\n",
       "      <td>0.062083</td>\n",
       "      <td>0.195904</td>\n",
       "    </tr>\n",
       "  </tbody>\n",
       "</table>\n",
       "</div>"
      ],
      "text/plain": [
       "                       nombre   mean_r2  mean_MSE  mean_MAE\n",
       "4                         SVR  0.467315  0.052025  0.174282\n",
       "3   GradientBoostingRegressor  0.438649  0.052626  0.177284\n",
       "1       RandomForestRegressor  0.411233  0.058074  0.180589\n",
       "10               XGBRegressor  0.394015  0.057287  0.178659\n",
       "2           AdaBoostRegressor  0.385294  0.060300  0.193858\n",
       "5         KNeighborsRegressor  0.368606  0.062650  0.192500\n",
       "7                       Ridge  0.342929  0.062083  0.195904"
      ]
     },
     "execution_count": 14,
     "metadata": {},
     "output_type": "execute_result"
    }
   ],
   "source": [
    "MAX_SIN_PCA[MAX_SIN_PCA[\"mean_r2\"] > 0.3].sort_values(by= \"mean_r2\", ascending= False)"
   ]
  },
  {
   "cell_type": "markdown",
   "id": "b26e6c90-47c1-44bd-911e-824867aaa1ca",
   "metadata": {},
   "source": [
    "## -----------------------------------------------------------------------------------------------------------------------------"
   ]
  },
  {
   "cell_type": "markdown",
   "id": "e4724f34-96fa-4764-9765-01bab39f648d",
   "metadata": {},
   "source": [
    "### 3.2.1. TUNING SVR y GBR"
   ]
  },
  {
   "cell_type": "code",
   "execution_count": 16,
   "id": "9f18ccef-39fc-4969-a66f-ab5aa09ee648",
   "metadata": {
    "tags": []
   },
   "outputs": [],
   "source": [
    "params_SVR = {'kernel'      : ['linear', 'poly', 'rbf', 'sigmoid'],\n",
    "              'degree'      : [3, 4],\n",
    "              'gamma'       : ['scale', 'auto'],\n",
    "              'coef0'       : [-0.5, -0.4, -0.3],\n",
    "              'C'           : [0.1, 0.2, 0.3],\n",
    "              'epsilon'     : [0.01, 0.02],\n",
    "              'shrinking'   : [True],\n",
    "              'tol'         : [1e-6, 1e-5, 1e-7],\n",
    "              'cache_size'  : [50, 100, 150],\n",
    "              'verbose'     : [False],\n",
    "              'max_iter'    : [550, 600, 650],\n",
    "             }\n",
    "\n",
    "params_GBR = {'loss'             : [\"squared_error\", \"absolute_error\", \"huber\", \"quantile\"],\n",
    "              'n_estimators'     : [50, 100, 150],\n",
    "              'learning_rate'    : [0.001, 0.01, 0.1],\n",
    "              'max_depth'        : [3, 5],\n",
    "              'min_samples_split': [2, 5, 10],\n",
    "              'min_samples_leaf' : [1, 2, 4],\n",
    "              'subsample'        : [0.5, 0.7, 1.0],\n",
    "              'max_features'     : [None, 'sqrt', 'log2']\n",
    "              }\n",
    "\n",
    "modelos = [SVR(), GradientBoostingRegressor()]\n",
    "parametros = [params_SVR, params_GBR]"
   ]
  },
  {
   "cell_type": "code",
   "execution_count": 17,
   "id": "2b8c840a-8c03-4f2c-b579-791a36cc9231",
   "metadata": {
    "tags": []
   },
   "outputs": [
    {
     "name": "stdout",
     "output_type": "stream",
     "text": [
      "Fitting 5 folds for each of 7776 candidates, totalling 38880 fits\n",
      "Fitting 5 folds for each of 5832 candidates, totalling 29160 fits\n"
     ]
    }
   ],
   "source": [
    "X_train_min, X_test_min, y_train_min, y_test_min = train_test_split(X_min, y_min, test_size = 0.2, random_state=42)\n",
    "\n",
    "resultados_min = []\n",
    "\n",
    "for modelo, params in zip(modelos, parametros):\n",
    "    resultado = tunning(modelo, params, X_train_min, X_test_min, y_train_min, y_test_min, \"min\")\n",
    "    resultados_min.append(resultado)\n",
    "    \n",
    "resultados_min = pd.concat([resultados_min[0], resultados_min[1]], axis= 0)\n",
    "resultados_min.to_csv(\"resultados_tuning_min.csv\", index= False, sep= \",\")"
   ]
  },
  {
   "cell_type": "code",
   "execution_count": 18,
   "id": "5243c864-8660-4451-a4cc-b3e4eb2c26b4",
   "metadata": {
    "tags": []
   },
   "outputs": [
    {
     "data": {
      "text/html": [
       "<div>\n",
       "<style scoped>\n",
       "    .dataframe tbody tr th:only-of-type {\n",
       "        vertical-align: middle;\n",
       "    }\n",
       "\n",
       "    .dataframe tbody tr th {\n",
       "        vertical-align: top;\n",
       "    }\n",
       "\n",
       "    .dataframe thead th {\n",
       "        text-align: right;\n",
       "    }\n",
       "</style>\n",
       "<table border=\"1\" class=\"dataframe\">\n",
       "  <thead>\n",
       "    <tr style=\"text-align: right;\">\n",
       "      <th></th>\n",
       "      <th>Nombre</th>\n",
       "      <th>Modelo</th>\n",
       "      <th>Parametros</th>\n",
       "      <th>r2_score</th>\n",
       "      <th>MAE</th>\n",
       "      <th>MSE</th>\n",
       "    </tr>\n",
       "  </thead>\n",
       "  <tbody>\n",
       "    <tr>\n",
       "      <th>0</th>\n",
       "      <td>SVR</td>\n",
       "      <td>SVR(C=0.2, cache_size=50, coef0=-0.5, epsilon=...</td>\n",
       "      <td>{'C': 0.2, 'cache_size': 50, 'coef0': -0.5, 'd...</td>\n",
       "      <td>0.453050</td>\n",
       "      <td>0.171814</td>\n",
       "      <td>0.050199</td>\n",
       "    </tr>\n",
       "    <tr>\n",
       "      <th>0</th>\n",
       "      <td>GradientBoostingRegressor</td>\n",
       "      <td>([DecisionTreeRegressor(criterion='friedman_ms...</td>\n",
       "      <td>{'alpha': 0.9, 'ccp_alpha': 0.0, 'criterion': ...</td>\n",
       "      <td>0.428094</td>\n",
       "      <td>0.177495</td>\n",
       "      <td>0.052489</td>\n",
       "    </tr>\n",
       "  </tbody>\n",
       "</table>\n",
       "</div>"
      ],
      "text/plain": [
       "                      Nombre  \\\n",
       "0                        SVR   \n",
       "0  GradientBoostingRegressor   \n",
       "\n",
       "                                              Modelo  \\\n",
       "0  SVR(C=0.2, cache_size=50, coef0=-0.5, epsilon=...   \n",
       "0  ([DecisionTreeRegressor(criterion='friedman_ms...   \n",
       "\n",
       "                                          Parametros  r2_score       MAE  \\\n",
       "0  {'C': 0.2, 'cache_size': 50, 'coef0': -0.5, 'd...  0.453050  0.171814   \n",
       "0  {'alpha': 0.9, 'ccp_alpha': 0.0, 'criterion': ...  0.428094  0.177495   \n",
       "\n",
       "        MSE  \n",
       "0  0.050199  \n",
       "0  0.052489  "
      ]
     },
     "execution_count": 18,
     "metadata": {},
     "output_type": "execute_result"
    }
   ],
   "source": [
    "resultados_min"
   ]
  },
  {
   "cell_type": "code",
   "execution_count": 26,
   "id": "da98db71-21c1-446b-933a-06164eced7d1",
   "metadata": {
    "tags": []
   },
   "outputs": [
    {
     "data": {
      "text/plain": [
       "array([{'C': 0.2, 'cache_size': 50, 'coef0': -0.5, 'degree': 3, 'epsilon': 0.02, 'gamma': 'scale', 'kernel': 'rbf', 'max_iter': 600, 'shrinking': True, 'tol': 1e-06, 'verbose': False}],\n",
       "      dtype=object)"
      ]
     },
     "execution_count": 26,
     "metadata": {},
     "output_type": "execute_result"
    }
   ],
   "source": [
    "resultados_min[resultados_min[\"Nombre\"] == \"SVR\"][\"Parametros\"].values"
   ]
  },
  {
   "cell_type": "code",
   "execution_count": 19,
   "id": "2924b0a9-e4e0-4fda-bde6-1037ab4d9d22",
   "metadata": {
    "tags": []
   },
   "outputs": [
    {
     "name": "stdout",
     "output_type": "stream",
     "text": [
      "Fitting 5 folds for each of 7776 candidates, totalling 38880 fits\n",
      "Fitting 5 folds for each of 5832 candidates, totalling 29160 fits\n"
     ]
    }
   ],
   "source": [
    "X_train_max, X_test_max, y_train_max, y_test_max = train_test_split(X_max, y_max, test_size = 0.2, random_state=42)\n",
    "\n",
    "resultados_max = []\n",
    "\n",
    "for modelo, params in zip(modelos, parametros):\n",
    "    resultado = tunning(modelo, params, X_train_max, X_test_max, y_train_max, y_test_max, \"max\")\n",
    "    resultados_max.append(resultado)\n",
    "    \n",
    "resultados_max = pd.concat([resultados_max[0], resultados_max[1]], axis= 0)\n",
    "resultados_max.to_csv(\"resultados_tuning_max.csv\", index= False, sep= \",\")"
   ]
  },
  {
   "cell_type": "code",
   "execution_count": 25,
   "id": "39c9725b-6d5d-46c4-80eb-e532bee6ef9d",
   "metadata": {
    "tags": []
   },
   "outputs": [
    {
     "data": {
      "text/html": [
       "<div>\n",
       "<style scoped>\n",
       "    .dataframe tbody tr th:only-of-type {\n",
       "        vertical-align: middle;\n",
       "    }\n",
       "\n",
       "    .dataframe tbody tr th {\n",
       "        vertical-align: top;\n",
       "    }\n",
       "\n",
       "    .dataframe thead th {\n",
       "        text-align: right;\n",
       "    }\n",
       "</style>\n",
       "<table border=\"1\" class=\"dataframe\">\n",
       "  <thead>\n",
       "    <tr style=\"text-align: right;\">\n",
       "      <th></th>\n",
       "      <th>Nombre</th>\n",
       "      <th>Modelo</th>\n",
       "      <th>Parametros</th>\n",
       "      <th>r2_score</th>\n",
       "      <th>MAE</th>\n",
       "      <th>MSE</th>\n",
       "    </tr>\n",
       "  </thead>\n",
       "  <tbody>\n",
       "    <tr>\n",
       "      <th>0</th>\n",
       "      <td>SVR</td>\n",
       "      <td>SVR(C=0.2, cache_size=50, coef0=-0.5, epsilon=...</td>\n",
       "      <td>{'C': 0.2, 'cache_size': 50, 'coef0': -0.5, 'd...</td>\n",
       "      <td>0.500332</td>\n",
       "      <td>0.178100</td>\n",
       "      <td>0.051543</td>\n",
       "    </tr>\n",
       "    <tr>\n",
       "      <th>0</th>\n",
       "      <td>GradientBoostingRegressor</td>\n",
       "      <td>([DecisionTreeRegressor(criterion='friedman_ms...</td>\n",
       "      <td>{'alpha': 0.9, 'ccp_alpha': 0.0, 'criterion': ...</td>\n",
       "      <td>0.484759</td>\n",
       "      <td>0.179633</td>\n",
       "      <td>0.053149</td>\n",
       "    </tr>\n",
       "  </tbody>\n",
       "</table>\n",
       "</div>"
      ],
      "text/plain": [
       "                      Nombre  \\\n",
       "0                        SVR   \n",
       "0  GradientBoostingRegressor   \n",
       "\n",
       "                                              Modelo  \\\n",
       "0  SVR(C=0.2, cache_size=50, coef0=-0.5, epsilon=...   \n",
       "0  ([DecisionTreeRegressor(criterion='friedman_ms...   \n",
       "\n",
       "                                          Parametros  r2_score       MAE  \\\n",
       "0  {'C': 0.2, 'cache_size': 50, 'coef0': -0.5, 'd...  0.500332  0.178100   \n",
       "0  {'alpha': 0.9, 'ccp_alpha': 0.0, 'criterion': ...  0.484759  0.179633   \n",
       "\n",
       "        MSE  \n",
       "0  0.051543  \n",
       "0  0.053149  "
      ]
     },
     "execution_count": 25,
     "metadata": {},
     "output_type": "execute_result"
    }
   ],
   "source": [
    "resultados_max"
   ]
  },
  {
   "cell_type": "code",
   "execution_count": 24,
   "id": "b79456dd-3ded-4452-9a18-94b0447bf8ae",
   "metadata": {
    "tags": []
   },
   "outputs": [
    {
     "data": {
      "text/plain": [
       "array([{'C': 0.2, 'cache_size': 50, 'coef0': -0.5, 'degree': 3, 'epsilon': 0.02, 'gamma': 'scale', 'kernel': 'rbf', 'max_iter': 600, 'shrinking': True, 'tol': 1e-06, 'verbose': False}],\n",
       "      dtype=object)"
      ]
     },
     "execution_count": 24,
     "metadata": {},
     "output_type": "execute_result"
    }
   ],
   "source": [
    "resultados_max[resultados_max[\"Nombre\"] == \"SVR\"][\"Parametros\"].values"
   ]
  },
  {
   "cell_type": "markdown",
   "id": "76c85300-8c8d-4339-a366-60a5e1f9878e",
   "metadata": {},
   "source": [
    "## -----------------------------------------------------------------------------------------------------------------------------"
   ]
  },
  {
   "cell_type": "markdown",
   "id": "68e4d3f4-2db5-4f97-8788-44ad70732935",
   "metadata": {},
   "source": [
    "### 3.2.2. Best SVR models"
   ]
  },
  {
   "cell_type": "code",
   "execution_count": 14,
   "id": "a72204e1-fb3c-4207-9909-c2fb27b73faa",
   "metadata": {
    "tags": []
   },
   "outputs": [],
   "source": [
    "modelo_SVR = SVR()\n",
    "params_SVR_min = {'kernel': ['rbf'],\n",
    "                  'degree': [3],\n",
    "                  'gamma': ['scale'],\n",
    "                  'coef0': [-0.5],\n",
    "                  'C': [0.2],\n",
    "                  'epsilon': [i/100 for i in range(1,10)],\n",
    "                  'shrinking': [True],\n",
    "                  'tol': [1e-6],\n",
    "                  'cache_size': [200],\n",
    "                  'verbose': [False],\n",
    "                  'max_iter': [i for i in range(500,710,10)],\n",
    "                 }\n",
    "    \n",
    "params_SVR_max = {'kernel': ['rbf'],\n",
    "                  'degree': [3],\n",
    "                  'gamma': ['scale'],\n",
    "                  'coef0': [-0.5],\n",
    "                  'C': [0.2],\n",
    "                  'epsilon': [i/100 for i in range(1,10)],\n",
    "                  'shrinking': [True],\n",
    "                  'tol': [1e-6],\n",
    "                  'cache_size': [200],\n",
    "                  'verbose': [False],\n",
    "                  'max_iter': [i for i in range(500,710,10)],\n",
    "                 }\n",
    "\n",
    "X_train_min, X_test_min, y_train_min, y_test_min = train_test_split(X_min, y_min, test_size = 0.2, random_state=42)\n",
    "X_train_max, X_test_max, y_train_max, y_test_max = train_test_split(X_max, y_max, test_size = 0.2, random_state=42)"
   ]
  },
  {
   "cell_type": "code",
   "execution_count": 15,
   "id": "96792762-34f9-4834-b75a-4234ccec9f2c",
   "metadata": {
    "tags": []
   },
   "outputs": [
    {
     "name": "stdout",
     "output_type": "stream",
     "text": [
      "Fitting 5 folds for each of 189 candidates, totalling 945 fits\n",
      "Fitting 5 folds for each of 189 candidates, totalling 945 fits\n"
     ]
    }
   ],
   "source": [
    "df_resultados_tuning_min = tunning(modelo_SVR, params_SVR_min, X_train_min, X_test_min, y_train_min, y_test_min, \"min\", save= True)\n",
    "df_resultados_tuning_max = tunning(modelo_SVR, params_SVR_max, X_train_max, X_test_max, y_train_max, y_test_max, \"max\", save= True)"
   ]
  },
  {
   "cell_type": "code",
   "execution_count": 16,
   "id": "15591b4e-d168-4287-b930-b956d846fd6e",
   "metadata": {
    "tags": []
   },
   "outputs": [
    {
     "data": {
      "text/html": [
       "<div>\n",
       "<style scoped>\n",
       "    .dataframe tbody tr th:only-of-type {\n",
       "        vertical-align: middle;\n",
       "    }\n",
       "\n",
       "    .dataframe tbody tr th {\n",
       "        vertical-align: top;\n",
       "    }\n",
       "\n",
       "    .dataframe thead th {\n",
       "        text-align: right;\n",
       "    }\n",
       "</style>\n",
       "<table border=\"1\" class=\"dataframe\">\n",
       "  <thead>\n",
       "    <tr style=\"text-align: right;\">\n",
       "      <th></th>\n",
       "      <th>Nombre</th>\n",
       "      <th>Modelo</th>\n",
       "      <th>Parametros</th>\n",
       "      <th>r2_score</th>\n",
       "      <th>MAE</th>\n",
       "      <th>MSE</th>\n",
       "    </tr>\n",
       "  </thead>\n",
       "  <tbody>\n",
       "    <tr>\n",
       "      <th>0</th>\n",
       "      <td>SVR</td>\n",
       "      <td>SVR(C=0.2, coef0=-0.5, epsilon=0.06, max_iter=...</td>\n",
       "      <td>{'C': 0.2, 'cache_size': 200, 'coef0': -0.5, '...</td>\n",
       "      <td>0.455353</td>\n",
       "      <td>0.171879</td>\n",
       "      <td>0.049987</td>\n",
       "    </tr>\n",
       "  </tbody>\n",
       "</table>\n",
       "</div>"
      ],
      "text/plain": [
       "  Nombre                                             Modelo  \\\n",
       "0    SVR  SVR(C=0.2, coef0=-0.5, epsilon=0.06, max_iter=...   \n",
       "\n",
       "                                          Parametros  r2_score       MAE  \\\n",
       "0  {'C': 0.2, 'cache_size': 200, 'coef0': -0.5, '...  0.455353  0.171879   \n",
       "\n",
       "        MSE  \n",
       "0  0.049987  "
      ]
     },
     "execution_count": 16,
     "metadata": {},
     "output_type": "execute_result"
    }
   ],
   "source": [
    "df_resultados_tuning_min"
   ]
  },
  {
   "cell_type": "code",
   "execution_count": 17,
   "id": "0662f8dc-7d7e-4404-a9a3-2c8556c8f996",
   "metadata": {
    "tags": []
   },
   "outputs": [
    {
     "data": {
      "text/plain": [
       "array([{'C': 0.2, 'cache_size': 200, 'coef0': -0.5, 'degree': 3, 'epsilon': 0.06, 'gamma': 'scale', 'kernel': 'rbf', 'max_iter': 550, 'shrinking': True, 'tol': 1e-06, 'verbose': False}],\n",
       "      dtype=object)"
      ]
     },
     "execution_count": 17,
     "metadata": {},
     "output_type": "execute_result"
    }
   ],
   "source": [
    "df_resultados_tuning_min[\"Parametros\"].values"
   ]
  },
  {
   "cell_type": "code",
   "execution_count": 18,
   "id": "0359cf7f-9029-451d-9a1f-b30d4b88c97c",
   "metadata": {
    "tags": []
   },
   "outputs": [
    {
     "data": {
      "text/html": [
       "<div>\n",
       "<style scoped>\n",
       "    .dataframe tbody tr th:only-of-type {\n",
       "        vertical-align: middle;\n",
       "    }\n",
       "\n",
       "    .dataframe tbody tr th {\n",
       "        vertical-align: top;\n",
       "    }\n",
       "\n",
       "    .dataframe thead th {\n",
       "        text-align: right;\n",
       "    }\n",
       "</style>\n",
       "<table border=\"1\" class=\"dataframe\">\n",
       "  <thead>\n",
       "    <tr style=\"text-align: right;\">\n",
       "      <th></th>\n",
       "      <th>Nombre</th>\n",
       "      <th>Modelo</th>\n",
       "      <th>Parametros</th>\n",
       "      <th>r2_score</th>\n",
       "      <th>MAE</th>\n",
       "      <th>MSE</th>\n",
       "    </tr>\n",
       "  </thead>\n",
       "  <tbody>\n",
       "    <tr>\n",
       "      <th>0</th>\n",
       "      <td>SVR</td>\n",
       "      <td>SVR(C=0.2, coef0=-0.5, epsilon=0.04, max_iter=...</td>\n",
       "      <td>{'C': 0.2, 'cache_size': 200, 'coef0': -0.5, '...</td>\n",
       "      <td>0.501798</td>\n",
       "      <td>0.178027</td>\n",
       "      <td>0.051392</td>\n",
       "    </tr>\n",
       "  </tbody>\n",
       "</table>\n",
       "</div>"
      ],
      "text/plain": [
       "  Nombre                                             Modelo  \\\n",
       "0    SVR  SVR(C=0.2, coef0=-0.5, epsilon=0.04, max_iter=...   \n",
       "\n",
       "                                          Parametros  r2_score       MAE  \\\n",
       "0  {'C': 0.2, 'cache_size': 200, 'coef0': -0.5, '...  0.501798  0.178027   \n",
       "\n",
       "        MSE  \n",
       "0  0.051392  "
      ]
     },
     "execution_count": 18,
     "metadata": {},
     "output_type": "execute_result"
    }
   ],
   "source": [
    "df_resultados_tuning_max"
   ]
  },
  {
   "cell_type": "code",
   "execution_count": 19,
   "id": "9a82d582-ed12-4a02-ab7f-2c3314dc87e6",
   "metadata": {
    "tags": []
   },
   "outputs": [
    {
     "data": {
      "text/plain": [
       "array([{'C': 0.2, 'cache_size': 200, 'coef0': -0.5, 'degree': 3, 'epsilon': 0.04, 'gamma': 'scale', 'kernel': 'rbf', 'max_iter': 500, 'shrinking': True, 'tol': 1e-06, 'verbose': False}],\n",
       "      dtype=object)"
      ]
     },
     "execution_count": 19,
     "metadata": {},
     "output_type": "execute_result"
    }
   ],
   "source": [
    "df_resultados_tuning_max[\"Parametros\"].values"
   ]
  },
  {
   "cell_type": "markdown",
   "id": "5af71495-222a-493b-83fc-0517d3cea42c",
   "metadata": {},
   "source": [
    "## -----------------------------------------------------------------------------------------------------------------------------"
   ]
  },
  {
   "cell_type": "markdown",
   "id": "f4ef6357-febc-4aba-9420-6b5134cbfd50",
   "metadata": {},
   "source": [
    "## 3.3. PCA"
   ]
  },
  {
   "cell_type": "markdown",
   "id": "dd14a15a-57c6-4a51-90a0-eacb78e5447a",
   "metadata": {},
   "source": [
    "Abrir los mejores modelos guardados y probar con PCA"
   ]
  },
  {
   "cell_type": "code",
   "execution_count": 20,
   "id": "13d3ae1e-8b6d-4a5e-9e47-ad4eeae60111",
   "metadata": {
    "tags": []
   },
   "outputs": [],
   "source": [
    "modelo_svr_min = load('min_model.pkl')\n",
    "modelo_svr_max = load('max_model.pkl')"
   ]
  },
  {
   "cell_type": "code",
   "execution_count": 21,
   "id": "e3b386bb-0c8b-473b-96c6-c3f9a891f18c",
   "metadata": {
    "tags": []
   },
   "outputs": [],
   "source": [
    "salarios = [\"min\", \"max\"]\n",
    "modelos_svr = [modelo_svr_min, modelo_svr_max]\n",
    "X = [X_min, X_max]\n",
    "y = [y_min, y_max]"
   ]
  },
  {
   "cell_type": "code",
   "execution_count": 22,
   "id": "d6c520a8-52c1-49fe-8ea1-40ee8d0f828b",
   "metadata": {
    "tags": []
   },
   "outputs": [],
   "source": [
    "df_resultados_PCA = pca_tester(salarios, modelos_svr, X, y)"
   ]
  },
  {
   "cell_type": "code",
   "execution_count": 23,
   "id": "7c067e06-40d3-4573-aa60-ccaf11ae26a9",
   "metadata": {
    "tags": []
   },
   "outputs": [
    {
     "data": {
      "text/html": [
       "<div>\n",
       "<style scoped>\n",
       "    .dataframe tbody tr th:only-of-type {\n",
       "        vertical-align: middle;\n",
       "    }\n",
       "\n",
       "    .dataframe tbody tr th {\n",
       "        vertical-align: top;\n",
       "    }\n",
       "\n",
       "    .dataframe thead th {\n",
       "        text-align: right;\n",
       "    }\n",
       "</style>\n",
       "<table border=\"1\" class=\"dataframe\">\n",
       "  <thead>\n",
       "    <tr style=\"text-align: right;\">\n",
       "      <th></th>\n",
       "      <th>salario</th>\n",
       "      <th>componentes</th>\n",
       "      <th>R2</th>\n",
       "      <th>MAE</th>\n",
       "      <th>MSE</th>\n",
       "    </tr>\n",
       "  </thead>\n",
       "  <tbody>\n",
       "    <tr>\n",
       "      <th>25</th>\n",
       "      <td>min</td>\n",
       "      <td>128</td>\n",
       "      <td>0.463391</td>\n",
       "      <td>0.168424</td>\n",
       "      <td>0.04925</td>\n",
       "    </tr>\n",
       "  </tbody>\n",
       "</table>\n",
       "</div>"
      ],
      "text/plain": [
       "   salario  componentes        R2       MAE      MSE\n",
       "25     min          128  0.463391  0.168424  0.04925"
      ]
     },
     "execution_count": 23,
     "metadata": {},
     "output_type": "execute_result"
    }
   ],
   "source": [
    "df_resultados_PCA[df_resultados_PCA[\"salario\"] == \"min\"].sort_values(by= \"R2\", ascending= False).head(1)"
   ]
  },
  {
   "cell_type": "code",
   "execution_count": 24,
   "id": "6aebf879-2e65-466a-b861-a9ff48500b6b",
   "metadata": {
    "tags": []
   },
   "outputs": [
    {
     "data": {
      "text/html": [
       "<div>\n",
       "<style scoped>\n",
       "    .dataframe tbody tr th:only-of-type {\n",
       "        vertical-align: middle;\n",
       "    }\n",
       "\n",
       "    .dataframe tbody tr th {\n",
       "        vertical-align: top;\n",
       "    }\n",
       "\n",
       "    .dataframe thead th {\n",
       "        text-align: right;\n",
       "    }\n",
       "</style>\n",
       "<table border=\"1\" class=\"dataframe\">\n",
       "  <thead>\n",
       "    <tr style=\"text-align: right;\">\n",
       "      <th></th>\n",
       "      <th>salario</th>\n",
       "      <th>componentes</th>\n",
       "      <th>R2</th>\n",
       "      <th>MAE</th>\n",
       "      <th>MSE</th>\n",
       "    </tr>\n",
       "  </thead>\n",
       "  <tbody>\n",
       "    <tr>\n",
       "      <th>157</th>\n",
       "      <td>max</td>\n",
       "      <td>128</td>\n",
       "      <td>0.525775</td>\n",
       "      <td>0.169947</td>\n",
       "      <td>0.048918</td>\n",
       "    </tr>\n",
       "  </tbody>\n",
       "</table>\n",
       "</div>"
      ],
      "text/plain": [
       "    salario  componentes        R2       MAE       MSE\n",
       "157     max          128  0.525775  0.169947  0.048918"
      ]
     },
     "execution_count": 24,
     "metadata": {},
     "output_type": "execute_result"
    }
   ],
   "source": [
    "df_resultados_PCA[df_resultados_PCA[\"salario\"] == \"max\"].sort_values(by= \"R2\", ascending= False).head(1)"
   ]
  },
  {
   "cell_type": "markdown",
   "id": "0fe959ba-4515-4ad1-8a6e-2dabd92c084e",
   "metadata": {},
   "source": [
    "### 3.3.1. TUNING SVR con PCA"
   ]
  },
  {
   "cell_type": "code",
   "execution_count": 25,
   "id": "c2a61f00-52af-44a0-8861-88ca5289eefb",
   "metadata": {
    "tags": []
   },
   "outputs": [],
   "source": [
    "pca_min = PCA(128, random_state=42)\n",
    "pca_max = PCA(128, random_state=42)\n",
    "\n",
    "\n",
    "X_min_pca = pca_min.fit_transform(X_min)\n",
    "#with open(\"pca_min.pickle\", 'wb') as archivo:\n",
    "    #pickle.dump(pca_min, archivo)\n",
    "        \n",
    "X_max_pca = pca_max.fit_transform(X_max)\n",
    "#with open(\"pca_max.pickle\", 'wb') as archivo:\n",
    "    #pickle.dump(pca_max, archivo)        "
   ]
  },
  {
   "cell_type": "code",
   "execution_count": 26,
   "id": "f4bd97e6-2ee8-4307-b464-a958cf58d568",
   "metadata": {
    "tags": []
   },
   "outputs": [],
   "source": [
    "modelo_SVR = SVR()\n",
    "params_SVR_min = {'kernel'      : ['linear', 'poly', 'rbf', 'sigmoid'],\n",
    "                  'degree'      : [3, 4],\n",
    "                  'gamma'       : ['scale', 'auto'],\n",
    "                  'coef0'       : [-0.5, -0.4, -0.3],\n",
    "                  'C'           : [0.1, 0.2, 0.3],\n",
    "                  'epsilon'     : [i/100 for i in range(1,10)],\n",
    "                  'shrinking'   : [True],\n",
    "                  'tol'         : [1e-6, 1e-5, 1e-7],\n",
    "                  'cache_size'  : [200],\n",
    "                  'verbose'     : [False],\n",
    "                  'max_iter'    : [550, 600, 650],\n",
    "                 }\n",
    "    \n",
    "params_SVR_max = {'kernel'      : ['linear', 'poly', 'rbf', 'sigmoid'],\n",
    "                  'degree'      : [3, 4],\n",
    "                  'gamma'       : ['scale', 'auto'],\n",
    "                  'coef0'       : [-0.5, -0.4, -0.3],\n",
    "                  'C'           : [0.1, 0.2, 0.3],\n",
    "                  'epsilon'     : [i/100 for i in range(1,10)],\n",
    "                  'shrinking'   : [True],\n",
    "                  'tol'         : [1e-6, 1e-5, 1e-7],\n",
    "                  'cache_size'  : [200],\n",
    "                  'verbose'     : [False],\n",
    "                  'max_iter'    : [550, 600, 650],\n",
    "                 }\n",
    "\n",
    "X_train_min, X_test_min, y_train_min, y_test_min = train_test_split(X_min_pca, y_min, test_size = 0.2, random_state=42)\n",
    "X_train_max, X_test_max, y_train_max, y_test_max = train_test_split(X_max_pca, y_max, test_size = 0.2, random_state=42)"
   ]
  },
  {
   "cell_type": "code",
   "execution_count": 28,
   "id": "e59336be-f98b-4669-a13b-a6057833c642",
   "metadata": {
    "tags": []
   },
   "outputs": [
    {
     "name": "stdout",
     "output_type": "stream",
     "text": [
      "Fitting 5 folds for each of 11664 candidates, totalling 58320 fits\n",
      "Fitting 5 folds for each of 11664 candidates, totalling 58320 fits\n"
     ]
    }
   ],
   "source": [
    "df_resultados_tuning_min = tunning(modelo_SVR, params_SVR_min, X_train_min, X_test_min, y_train_min, y_test_min, \"min\")\n",
    "df_resultados_tuning_max = tunning(modelo_SVR, params_SVR_max, X_train_max, X_test_max, y_train_max, y_test_max, \"max\")"
   ]
  },
  {
   "cell_type": "code",
   "execution_count": 29,
   "id": "2a60981b-daa5-4b98-b82e-fe64912e2d33",
   "metadata": {
    "tags": []
   },
   "outputs": [
    {
     "data": {
      "text/html": [
       "<div>\n",
       "<style scoped>\n",
       "    .dataframe tbody tr th:only-of-type {\n",
       "        vertical-align: middle;\n",
       "    }\n",
       "\n",
       "    .dataframe tbody tr th {\n",
       "        vertical-align: top;\n",
       "    }\n",
       "\n",
       "    .dataframe thead th {\n",
       "        text-align: right;\n",
       "    }\n",
       "</style>\n",
       "<table border=\"1\" class=\"dataframe\">\n",
       "  <thead>\n",
       "    <tr style=\"text-align: right;\">\n",
       "      <th></th>\n",
       "      <th>Nombre</th>\n",
       "      <th>Modelo</th>\n",
       "      <th>Parametros</th>\n",
       "      <th>r2_score</th>\n",
       "      <th>MAE</th>\n",
       "      <th>MSE</th>\n",
       "    </tr>\n",
       "  </thead>\n",
       "  <tbody>\n",
       "    <tr>\n",
       "      <th>0</th>\n",
       "      <td>SVR</td>\n",
       "      <td>SVR(C=0.2, coef0=-0.5, epsilon=0.02, max_iter=...</td>\n",
       "      <td>{'C': 0.2, 'cache_size': 200, 'coef0': -0.5, '...</td>\n",
       "      <td>0.463684</td>\n",
       "      <td>0.167731</td>\n",
       "      <td>0.049223</td>\n",
       "    </tr>\n",
       "  </tbody>\n",
       "</table>\n",
       "</div>"
      ],
      "text/plain": [
       "  Nombre                                             Modelo  \\\n",
       "0    SVR  SVR(C=0.2, coef0=-0.5, epsilon=0.02, max_iter=...   \n",
       "\n",
       "                                          Parametros  r2_score       MAE  \\\n",
       "0  {'C': 0.2, 'cache_size': 200, 'coef0': -0.5, '...  0.463684  0.167731   \n",
       "\n",
       "        MSE  \n",
       "0  0.049223  "
      ]
     },
     "execution_count": 29,
     "metadata": {},
     "output_type": "execute_result"
    }
   ],
   "source": [
    "df_resultados_tuning_min"
   ]
  },
  {
   "cell_type": "code",
   "execution_count": 31,
   "id": "f908acb5-9341-4007-b85a-b1288fb7406f",
   "metadata": {
    "tags": []
   },
   "outputs": [
    {
     "data": {
      "text/plain": [
       "array([{'C': 0.2, 'cache_size': 200, 'coef0': -0.5, 'degree': 3, 'epsilon': 0.02, 'gamma': 'scale', 'kernel': 'rbf', 'max_iter': 550, 'shrinking': True, 'tol': 1e-06, 'verbose': False}],\n",
       "      dtype=object)"
      ]
     },
     "execution_count": 31,
     "metadata": {},
     "output_type": "execute_result"
    }
   ],
   "source": [
    "df_resultados_tuning_min[\"Parametros\"].values"
   ]
  },
  {
   "cell_type": "code",
   "execution_count": 32,
   "id": "b681c141-1108-4071-b259-275be3d25bce",
   "metadata": {
    "tags": []
   },
   "outputs": [
    {
     "data": {
      "text/html": [
       "<div>\n",
       "<style scoped>\n",
       "    .dataframe tbody tr th:only-of-type {\n",
       "        vertical-align: middle;\n",
       "    }\n",
       "\n",
       "    .dataframe tbody tr th {\n",
       "        vertical-align: top;\n",
       "    }\n",
       "\n",
       "    .dataframe thead th {\n",
       "        text-align: right;\n",
       "    }\n",
       "</style>\n",
       "<table border=\"1\" class=\"dataframe\">\n",
       "  <thead>\n",
       "    <tr style=\"text-align: right;\">\n",
       "      <th></th>\n",
       "      <th>Nombre</th>\n",
       "      <th>Modelo</th>\n",
       "      <th>Parametros</th>\n",
       "      <th>r2_score</th>\n",
       "      <th>MAE</th>\n",
       "      <th>MSE</th>\n",
       "    </tr>\n",
       "  </thead>\n",
       "  <tbody>\n",
       "    <tr>\n",
       "      <th>0</th>\n",
       "      <td>SVR</td>\n",
       "      <td>SVR(C=0.2, coef0=-0.5, epsilon=0.05, max_iter=...</td>\n",
       "      <td>{'C': 0.2, 'cache_size': 200, 'coef0': -0.5, '...</td>\n",
       "      <td>0.525975</td>\n",
       "      <td>0.169931</td>\n",
       "      <td>0.048898</td>\n",
       "    </tr>\n",
       "  </tbody>\n",
       "</table>\n",
       "</div>"
      ],
      "text/plain": [
       "  Nombre                                             Modelo  \\\n",
       "0    SVR  SVR(C=0.2, coef0=-0.5, epsilon=0.05, max_iter=...   \n",
       "\n",
       "                                          Parametros  r2_score       MAE  \\\n",
       "0  {'C': 0.2, 'cache_size': 200, 'coef0': -0.5, '...  0.525975  0.169931   \n",
       "\n",
       "        MSE  \n",
       "0  0.048898  "
      ]
     },
     "execution_count": 32,
     "metadata": {},
     "output_type": "execute_result"
    }
   ],
   "source": [
    "df_resultados_tuning_max"
   ]
  },
  {
   "cell_type": "code",
   "execution_count": 33,
   "id": "bf29a5db-b8a9-4060-91ca-2109fbabf47d",
   "metadata": {
    "tags": []
   },
   "outputs": [
    {
     "data": {
      "text/plain": [
       "array([{'C': 0.2, 'cache_size': 200, 'coef0': -0.5, 'degree': 3, 'epsilon': 0.05, 'gamma': 'scale', 'kernel': 'rbf', 'max_iter': 600, 'shrinking': True, 'tol': 1e-06, 'verbose': False}],\n",
       "      dtype=object)"
      ]
     },
     "execution_count": 33,
     "metadata": {},
     "output_type": "execute_result"
    }
   ],
   "source": [
    "df_resultados_tuning_max[\"Parametros\"].values"
   ]
  },
  {
   "cell_type": "markdown",
   "id": "c9bfa7c8-b912-41b0-aaaf-9f5d41d2f5b5",
   "metadata": {},
   "source": [
    "## -----------------------------------------------------------------------------------------------------------------------------"
   ]
  },
  {
   "cell_type": "code",
   "execution_count": 35,
   "id": "364778ad-339e-47c5-8572-0e6eb8ee8bf9",
   "metadata": {
    "tags": []
   },
   "outputs": [
    {
     "name": "stdout",
     "output_type": "stream",
     "text": [
      "Fitting 5 folds for each of 189 candidates, totalling 945 fits\n",
      "Fitting 5 folds for each of 189 candidates, totalling 945 fits\n"
     ]
    }
   ],
   "source": [
    "modelo_SVR = SVR()\n",
    "params_SVR_min = {'kernel': ['rbf'],\n",
    "                  'degree': [3],\n",
    "                  'gamma': ['scale'],\n",
    "                  'coef0': [-0.5],\n",
    "                  'C': [0.2],\n",
    "                  'epsilon': [i/100 for i in range(1,10)],\n",
    "                  'shrinking': [True],\n",
    "                  'tol': [1e-6],\n",
    "                  'cache_size': [200],\n",
    "                  'verbose': [False],\n",
    "                  'max_iter': [i for i in range(500,710,10)],\n",
    "                 }\n",
    "    \n",
    "params_SVR_max = {'kernel': ['rbf'],\n",
    "                  'degree': [3],\n",
    "                  'gamma': ['scale'],\n",
    "                  'coef0': [-0.5],\n",
    "                  'C': [0.2],\n",
    "                  'epsilon': [i/100 for i in range(1,10)],\n",
    "                  'shrinking': [True],\n",
    "                  'tol': [1e-6],\n",
    "                  'cache_size': [200],\n",
    "                  'verbose': [False],\n",
    "                  'max_iter': [i for i in range(500,710,10)],\n",
    "                 }\n",
    "\n",
    "df_resultados_tuning_min = tunning(modelo_SVR, params_SVR_min, X_train_min, X_test_min, y_train_min, y_test_min, \"min\", save= True)\n",
    "df_resultados_tuning_max = tunning(modelo_SVR, params_SVR_max, X_train_max, X_test_max, y_train_max, y_test_max, \"max\", save= True)\n",
    "df_resultados = pd.concat([df_resultados_tuning_min, df_resultados_tuning_max], axis= 0)"
   ]
  },
  {
   "cell_type": "code",
   "execution_count": 39,
   "id": "781017e2-8c13-44a2-b803-551d370432b4",
   "metadata": {
    "tags": []
   },
   "outputs": [
    {
     "data": {
      "text/html": [
       "<div>\n",
       "<style scoped>\n",
       "    .dataframe tbody tr th:only-of-type {\n",
       "        vertical-align: middle;\n",
       "    }\n",
       "\n",
       "    .dataframe tbody tr th {\n",
       "        vertical-align: top;\n",
       "    }\n",
       "\n",
       "    .dataframe thead th {\n",
       "        text-align: right;\n",
       "    }\n",
       "</style>\n",
       "<table border=\"1\" class=\"dataframe\">\n",
       "  <thead>\n",
       "    <tr style=\"text-align: right;\">\n",
       "      <th></th>\n",
       "      <th>Nombre</th>\n",
       "      <th>Modelo</th>\n",
       "      <th>Parametros</th>\n",
       "      <th>r2_score</th>\n",
       "      <th>MAE</th>\n",
       "      <th>MSE</th>\n",
       "    </tr>\n",
       "  </thead>\n",
       "  <tbody>\n",
       "    <tr>\n",
       "      <th>0</th>\n",
       "      <td>SVR</td>\n",
       "      <td>SVR(C=0.2, coef0=-0.5, epsilon=0.02, max_iter=...</td>\n",
       "      <td>{'C': 0.2, 'cache_size': 200, 'coef0': -0.5, '...</td>\n",
       "      <td>0.463534</td>\n",
       "      <td>0.167824</td>\n",
       "      <td>0.049236</td>\n",
       "    </tr>\n",
       "    <tr>\n",
       "      <th>0</th>\n",
       "      <td>SVR</td>\n",
       "      <td>SVR(C=0.2, coef0=-0.5, epsilon=0.05, max_iter=...</td>\n",
       "      <td>{'C': 0.2, 'cache_size': 200, 'coef0': -0.5, '...</td>\n",
       "      <td>0.526422</td>\n",
       "      <td>0.169887</td>\n",
       "      <td>0.048852</td>\n",
       "    </tr>\n",
       "  </tbody>\n",
       "</table>\n",
       "</div>"
      ],
      "text/plain": [
       "  Nombre                                             Modelo  \\\n",
       "0    SVR  SVR(C=0.2, coef0=-0.5, epsilon=0.02, max_iter=...   \n",
       "0    SVR  SVR(C=0.2, coef0=-0.5, epsilon=0.05, max_iter=...   \n",
       "\n",
       "                                          Parametros  r2_score       MAE  \\\n",
       "0  {'C': 0.2, 'cache_size': 200, 'coef0': -0.5, '...  0.463534  0.167824   \n",
       "0  {'C': 0.2, 'cache_size': 200, 'coef0': -0.5, '...  0.526422  0.169887   \n",
       "\n",
       "        MSE  \n",
       "0  0.049236  \n",
       "0  0.048852  "
      ]
     },
     "execution_count": 39,
     "metadata": {},
     "output_type": "execute_result"
    }
   ],
   "source": [
    "df_resultados"
   ]
  },
  {
   "cell_type": "markdown",
   "id": "8161ddbd-f140-4ba5-b066-9397219f2c32",
   "metadata": {},
   "source": [
    "## -----------------------------------------------------------------------------------------------------------------------------"
   ]
  },
  {
   "cell_type": "markdown",
   "id": "10c57333-d0c7-454b-a612-9cd8146cf76f",
   "metadata": {},
   "source": [
    "# 4. Testing modelos con nuevos datos de entrada:"
   ]
  },
  {
   "cell_type": "markdown",
   "id": "4699d086-ea94-46ae-923c-408dcc13b63c",
   "metadata": {},
   "source": [
    "## Pipeline procesamiento de datos de entrada\n",
    "\n",
    "    - Hago encoding columnas\n",
    "    - Encoding herramientas\n",
    "    - Transformación log\n",
    "    - Limpio columnas   "
   ]
  },
  {
   "cell_type": "markdown",
   "id": "dc378314-a45e-4890-80d5-5c54c4784b7d",
   "metadata": {
    "tags": []
   },
   "source": [
    "- ### Datos de entrada:"
   ]
  },
  {
   "cell_type": "code",
   "execution_count": 7,
   "id": "79f85abd-df14-40a7-bbd9-5001057e1da8",
   "metadata": {
    "tags": []
   },
   "outputs": [],
   "source": [
    "herramientas = [\"python\", \"sql\", \"ia\", \"machine learning\"]\n",
    "jornada = \"jornada completa\"\n",
    "experiencia = 1\n",
    "tipo_contrato = \"indefinido\"\n",
    "beneficios = False\n",
    "comunidad = \"Galicia\"\n",
    "categoria_empleo = \"data driven\"\n",
    "\n",
    "X_datos = {\"herramientas\": [herramientas],\"jornada\": [jornada],\"experiencia\": [experiencia],\"tipo_contrato\": [tipo_contrato],\"beneficios\": [beneficios],\"comunidad\": [comunidad],\"categoria_empleo\": [categoria_empleo]}\n",
    "\n",
    "X = pd.DataFrame(X_datos)"
   ]
  },
  {
   "cell_type": "code",
   "execution_count": 8,
   "id": "019ac36b-7f64-43a9-823a-65387f07b1c0",
   "metadata": {
    "tags": []
   },
   "outputs": [
    {
     "data": {
      "text/html": [
       "<div>\n",
       "<style scoped>\n",
       "    .dataframe tbody tr th:only-of-type {\n",
       "        vertical-align: middle;\n",
       "    }\n",
       "\n",
       "    .dataframe tbody tr th {\n",
       "        vertical-align: top;\n",
       "    }\n",
       "\n",
       "    .dataframe thead th {\n",
       "        text-align: right;\n",
       "    }\n",
       "</style>\n",
       "<table border=\"1\" class=\"dataframe\">\n",
       "  <thead>\n",
       "    <tr style=\"text-align: right;\">\n",
       "      <th></th>\n",
       "      <th>herramientas</th>\n",
       "      <th>jornada</th>\n",
       "      <th>experiencia</th>\n",
       "      <th>tipo_contrato</th>\n",
       "      <th>beneficios</th>\n",
       "      <th>comunidad</th>\n",
       "      <th>categoria_empleo</th>\n",
       "    </tr>\n",
       "  </thead>\n",
       "  <tbody>\n",
       "    <tr>\n",
       "      <th>0</th>\n",
       "      <td>[python, sql, ia, machine learning]</td>\n",
       "      <td>jornada completa</td>\n",
       "      <td>1</td>\n",
       "      <td>indefinido</td>\n",
       "      <td>False</td>\n",
       "      <td>Galicia</td>\n",
       "      <td>data driven</td>\n",
       "    </tr>\n",
       "  </tbody>\n",
       "</table>\n",
       "</div>"
      ],
      "text/plain": [
       "                          herramientas           jornada  experiencia  \\\n",
       "0  [python, sql, ia, machine learning]  jornada completa            1   \n",
       "\n",
       "  tipo_contrato  beneficios comunidad categoria_empleo  \n",
       "0    indefinido       False   Galicia      data driven  "
      ]
     },
     "execution_count": 8,
     "metadata": {},
     "output_type": "execute_result"
    }
   ],
   "source": [
    "X"
   ]
  },
  {
   "cell_type": "markdown",
   "id": "6f344c68-2f4b-42fd-83fa-a437223e7f9a",
   "metadata": {
    "tags": []
   },
   "source": [
    "- ### Transformo los datos de entrada:"
   ]
  },
  {
   "cell_type": "code",
   "execution_count": 9,
   "id": "fd6eb333-8e90-403e-a18c-8564ad8225d5",
   "metadata": {
    "tags": []
   },
   "outputs": [],
   "source": [
    "X_testeo_min, X_testeo_max = data_transformer(X, ruta_encoders, ruta_modelos)"
   ]
  },
  {
   "cell_type": "code",
   "execution_count": 10,
   "id": "c999aca2-a7e7-46a7-b9d4-ecd37be2daad",
   "metadata": {
    "tags": []
   },
   "outputs": [],
   "source": [
    "# Cargo modelos:\n",
    "modelo_svr_min = load(ruta_modelos + 'min_model.pkl')\n",
    "modelo_svr_max = load(ruta_modelos + 'max_model.pkl')"
   ]
  },
  {
   "cell_type": "markdown",
   "id": "81716fb3-c333-4a04-a8f1-dceea49da0fb",
   "metadata": {},
   "source": [
    "## - Predicción salario:"
   ]
  },
  {
   "cell_type": "code",
   "execution_count": 11,
   "id": "5eb72bf0-32a1-4964-938a-76c26f8dcec4",
   "metadata": {
    "tags": []
   },
   "outputs": [
    {
     "name": "stdout",
     "output_type": "stream",
     "text": [
      "El rango salarial con estas características es de 24500 a 30500 € brutos anuales.\n"
     ]
    }
   ],
   "source": [
    "salario_minimo_predicho = np.exp(modelo_svr_min.predict(X_testeo_min))\n",
    "salario_maximo_predicho = np.exp(modelo_svr_max.predict(X_testeo_max))\n",
    "print(f\"El rango salarial con estas características es de {round(int(salario_minimo_predicho), -2)} a {round(int(salario_maximo_predicho), -2)} € brutos anuales.\")"
   ]
  },
  {
   "cell_type": "markdown",
   "id": "f0284f8a-fc43-4ee4-a047-48a0af27a370",
   "metadata": {},
   "source": [
    "## -----------------------------------------------------------------------------------------------------------------------------"
   ]
  },
  {
   "cell_type": "markdown",
   "id": "9c6b43a4-aa3a-45b9-8173-e759a2431c12",
   "metadata": {},
   "source": [
    "## -----------------------------------------------------------------------------------------------------------------------------"
   ]
  },
  {
   "cell_type": "markdown",
   "id": "3b562d3c-08ac-4c1b-8736-6bc5a9ee6172",
   "metadata": {},
   "source": [
    "# 4. Redes Neuronales"
   ]
  },
  {
   "cell_type": "code",
   "execution_count": 472,
   "id": "13a7efbe-58c0-4e9d-971d-db4ea911c558",
   "metadata": {
    "tags": []
   },
   "outputs": [],
   "source": [
    "from tensorflow.keras.models import Sequential\n",
    "from tensorflow.keras.layers import RNN, Dense, LSTM, Embedding, Input\n",
    "from tensorflow.keras.optimizers import Adam\n",
    "\n",
    "from sklearn.preprocessing import OneHotEncoder, StandardScaler\n",
    "from tensorflow.keras.callbacks import EarlyStopping, ModelCheckpoint\n",
    "from tensorflow.keras.layers import BatchNormalization\n",
    "from keras.layers import Dense, Flatten, Dropout, Activation\n",
    "from keras.callbacks import ReduceLROnPlateau"
   ]
  },
  {
   "cell_type": "code",
   "execution_count": 307,
   "id": "0cffaa64-acfe-44fe-a7db-e51431f4d188",
   "metadata": {
    "tags": []
   },
   "outputs": [],
   "source": [
    "# Escalado:\n",
    "scaler = StandardScaler()\n",
    "X_min_scaled = scaler.fit_transform(X_min)"
   ]
  },
  {
   "cell_type": "code",
   "execution_count": 642,
   "id": "dbb2b269-4d7e-4b9b-bdf9-cb4f759ad739",
   "metadata": {
    "tags": []
   },
   "outputs": [],
   "source": [
    "X_min = X_min.values.astype(int)"
   ]
  },
  {
   "cell_type": "code",
   "execution_count": 643,
   "id": "f8bb794c-7714-4226-8fe3-8f071d0484f8",
   "metadata": {
    "tags": []
   },
   "outputs": [],
   "source": [
    "X_train, X_test, y_train, y_test = train_test_split(X_min, y_min, test_size = 0.2, random_state=42)"
   ]
  },
  {
   "cell_type": "code",
   "execution_count": 644,
   "id": "6154f5e8-ff07-4f1c-9a0e-8b07daa4904b",
   "metadata": {
    "tags": []
   },
   "outputs": [],
   "source": [
    "X_train, X_val, y_train, y_val = train_test_split(X_train, y_train, test_size = 0.2, random_state=42)"
   ]
  },
  {
   "cell_type": "code",
   "execution_count": null,
   "id": "119864c1-2420-46b8-8d6b-2f69ef22e5e4",
   "metadata": {},
   "outputs": [],
   "source": []
  },
  {
   "cell_type": "code",
   "execution_count": 645,
   "id": "cf9af2b6-7941-4822-be93-a67de6029f41",
   "metadata": {
    "tags": []
   },
   "outputs": [],
   "source": [
    "# Model definition\n",
    "np.random.seed(42)\n",
    "model = Sequential()\n",
    "\n",
    "model.add(Dense(units = 200, input_shape= (X_train.shape[1],), activation=\"linear\"))  # Adjust input shape\n",
    "model.add(Activation(\"relu\"))\n",
    "model.add(Dropout(0.2))\n",
    "\n",
    "model.add(Dense(units = 128))\n",
    "model.add(Activation(\"relu\"))\n",
    "model.add(Dropout(0.2))\n",
    "\n",
    "model.add(Dense(units = 64))\n",
    "model.add(Activation(\"relu\"))\n",
    "model.add(Dropout(0.2))\n",
    "\n",
    "# Hidden layers (optional, experiment with number and neurons)\n",
    "##model.add(Dense(128, activation=\"relu\"))\n",
    "#model.add(Dense(64, activation=\"relu\"))\n",
    "#model.add(Dense(32, activation=\"relu\"))\n",
    "\n",
    "model.add(Dense(1, activation=\"linear\"))  # Output layer for regression\n",
    "\n",
    "# Model compilation\n",
    "model.compile(loss=\"mse\", optimizer=Adam(learning_rate=0.001))  # Adjust loss and optimizer as needed\n",
    "\n",
    "#model.summary()"
   ]
  },
  {
   "cell_type": "code",
   "execution_count": 646,
   "id": "b0f9e4f0-8125-4e0d-b19e-b012f2d66129",
   "metadata": {
    "tags": []
   },
   "outputs": [
    {
     "name": "stdout",
     "output_type": "stream",
     "text": [
      "Epoch 1/100\n",
      "22/22 [==============================] - 1s 9ms/step - loss: 61.4733 - val_loss: 5.3962\n",
      "Epoch 2/100\n",
      "22/22 [==============================] - 0s 4ms/step - loss: 10.5281 - val_loss: 6.5306\n",
      "Epoch 3/100\n",
      "22/22 [==============================] - 0s 4ms/step - loss: 5.5870 - val_loss: 2.1335\n",
      "Epoch 4/100\n",
      "22/22 [==============================] - 0s 4ms/step - loss: 4.2049 - val_loss: 1.4136\n",
      "Epoch 5/100\n",
      "22/22 [==============================] - 0s 4ms/step - loss: 3.2637 - val_loss: 1.0693\n",
      "Epoch 6/100\n",
      "22/22 [==============================] - 0s 4ms/step - loss: 2.7416 - val_loss: 0.6402\n",
      "Epoch 7/100\n",
      "22/22 [==============================] - 0s 3ms/step - loss: 2.4298 - val_loss: 0.7467\n",
      "Epoch 8/100\n",
      "22/22 [==============================] - 0s 4ms/step - loss: 2.3262 - val_loss: 0.3773\n",
      "Epoch 9/100\n",
      "22/22 [==============================] - 0s 3ms/step - loss: 2.2521 - val_loss: 0.3101\n",
      "Epoch 10/100\n",
      "22/22 [==============================] - 0s 3ms/step - loss: 2.0882 - val_loss: 0.3828\n",
      "Epoch 11/100\n",
      "22/22 [==============================] - 0s 3ms/step - loss: 2.1406 - val_loss: 0.3614\n",
      "Epoch 12/100\n",
      "22/22 [==============================] - 0s 3ms/step - loss: 2.0718 - val_loss: 0.3293\n",
      "Epoch 13/100\n",
      "22/22 [==============================] - 0s 4ms/step - loss: 2.0861 - val_loss: 0.4641\n",
      "Epoch 14/100\n",
      "22/22 [==============================] - 0s 4ms/step - loss: 1.9184 - val_loss: 0.3832\n",
      "7/7 [==============================] - 0s 2ms/step - loss: 0.3453\n"
     ]
    },
    {
     "data": {
      "text/plain": [
       "0.34529343247413635"
      ]
     },
     "execution_count": 646,
     "metadata": {},
     "output_type": "execute_result"
    }
   ],
   "source": [
    "# Early stopping to prevent overfitting\n",
    "early_stopping = EarlyStopping(monitor=\"val_loss\", patience= 5)\n",
    "\n",
    "# Model training\n",
    "history = model.fit(X_train,\n",
    "                    y_train.values,\n",
    "                    validation_data=(X_val, y_val.values),\n",
    "                    epochs= 100,\n",
    "                    #batch_size= 100,\n",
    "                    callbacks=[early_stopping],\n",
    "                    verbose = 1\n",
    ")\n",
    "\n",
    "# Model evaluation on test set\n",
    "model.evaluate(X_test, y_test.values)"
   ]
  },
  {
   "cell_type": "code",
   "execution_count": 647,
   "id": "1973f4d8-cd52-4db2-ba92-2d5362f3ba38",
   "metadata": {
    "tags": []
   },
   "outputs": [
    {
     "data": {
      "image/png": "[encoded data removed]",
      "text/plain": [
       "<Figure size 640x480 with 1 Axes>"
      ]
     },
     "metadata": {},
     "output_type": "display_data"
    }
   ],
   "source": [
    "# loss\n",
    "plt.plot(history.history[\"loss\"], label = \"loss\")\n",
    "plt.legend()\n",
    "plt.show()"
   ]
  },
  {
   "cell_type": "code",
   "execution_count": 648,
   "id": "338c06c1-549e-4c95-a3e1-db9ed21b7f29",
   "metadata": {
    "tags": []
   },
   "outputs": [
    {
     "name": "stdout",
     "output_type": "stream",
     "text": [
      "7/7 [==============================] - 0s 1ms/step\n"
     ]
    }
   ],
   "source": [
    "y_pred = model.predict(X_test)"
   ]
  },
  {
   "cell_type": "code",
   "execution_count": 649,
   "id": "c63f0c24-44e2-4eac-9cb2-a19687049d5a",
   "metadata": {
    "tags": []
   },
   "outputs": [],
   "source": [
    "r2_score_results = r2_score(y_test, y_pred)\n",
    "mean_squared_error_results = mean_squared_error(y_test, y_pred)\n",
    "mean_absolute_error_results = mean_absolute_error(y_test, y_pred)"
   ]
  },
  {
   "cell_type": "code",
   "execution_count": 650,
   "id": "a9af7e7f-4d86-4b32-8d54-1cac4ac0489e",
   "metadata": {
    "tags": []
   },
   "outputs": [
    {
     "name": "stdout",
     "output_type": "stream",
     "text": [
      "-2.762215262873278\n",
      "0.34529359046991415\n",
      "0.4713082304183239\n"
     ]
    }
   ],
   "source": [
    "print(r2_score_results)\n",
    "print(mean_squared_error_results)\n",
    "print(mean_absolute_error_results)"
   ]
  },
  {
   "cell_type": "code",
   "execution_count": null,
   "id": "4a6f4bae-8ba5-4d4f-8399-04a565bc0b43",
   "metadata": {},
   "outputs": [],
   "source": []
  },
  {
   "cell_type": "code",
   "execution_count": 17,
   "id": "3001b7e3-40a9-4c67-8196-bd367c239059",
   "metadata": {
    "tags": []
   },
   "outputs": [],
   "source": [
    "import tensorflow as tf\n",
    "from tensorflow.keras import Sequential"
   ]
  },
  {
   "cell_type": "code",
   "execution_count": 52,
   "id": "da583c96-2c4f-4505-a8a4-96a3a6de4df9",
   "metadata": {
    "tags": []
   },
   "outputs": [],
   "source": [
    "X = df_salario_max.drop([\"salario_max\"], axis= 1)\n",
    "y = df_salario_max[[\"salario_max\"]]\n",
    "\n",
    "X_train, X_test, y_train, y_test = train_test_split(X, y, test_size = 0.2)"
   ]
  },
  {
   "cell_type": "code",
   "execution_count": 53,
   "id": "51829d98-5bc9-4fd1-9b56-9b1e291b697d",
   "metadata": {
    "tags": []
   },
   "outputs": [
    {
     "name": "stdout",
     "output_type": "stream",
     "text": [
      "WARNING:tensorflow:From C:\\Users\\regue\\conda_ENV\\Lib\\site-packages\\keras\\src\\optimizers\\__init__.py:309: The name tf.train.Optimizer is deprecated. Please use tf.compat.v1.train.Optimizer instead.\n",
      "\n",
      "Model: \"sequential_4\"\n",
      "_________________________________________________________________\n",
      " Layer (type)                Output Shape              Param #   \n",
      "=================================================================\n",
      " dense_12 (Dense)            (None, 64)                5568      \n",
      "                                                                 \n",
      " dense_13 (Dense)            (None, 64)                4160      \n",
      "                                                                 \n",
      " dense_14 (Dense)            (None, 1)                 65        \n",
      "                                                                 \n",
      "=================================================================\n",
      "Total params: 9793 (38.25 KB)\n",
      "Trainable params: 9793 (38.25 KB)\n",
      "Non-trainable params: 0 (0.00 Byte)\n",
      "_________________________________________________________________\n"
     ]
    }
   ],
   "source": [
    "def create_regression_model(input_shape):\n",
    "    model = tf.keras.Sequential([\n",
    "        tf.keras.layers.Dense(64, activation='relu', input_shape=(input_shape,)),\n",
    "        tf.keras.layers.Dense(64, activation='relu'),\n",
    "        tf.keras.layers.Dense(1) \n",
    "    ])\n",
    "\n",
    "    model.compile(optimizer= \"adam\", loss='mean_squared_error')\n",
    "    \n",
    "    return model\n",
    "\n",
    "imput_shape = X.shape[1]\n",
    "\n",
    "regression_model = create_regression_model(imput_shape)\n",
    "\n",
    "regression_model.summary()"
   ]
  },
  {
   "cell_type": "code",
   "execution_count": null,
   "id": "2e9da3b7-af64-4e16-8241-5fe403adeae6",
   "metadata": {
    "tags": []
   },
   "outputs": [],
   "source": [
    "history = regression_model.fit(X_train.values.astype(int), y_train.values, epochs= 100)"
   ]
  },
  {
   "cell_type": "code",
   "execution_count": 55,
   "id": "ba84de83-7466-405e-93c3-861566cc1304",
   "metadata": {
    "tags": []
   },
   "outputs": [
    {
     "data": {
      "image/png": "[encoded data removed]",
      "text/plain": [
       "<Figure size 640x480 with 1 Axes>"
      ]
     },
     "metadata": {},
     "output_type": "display_data"
    }
   ],
   "source": [
    "# loss\n",
    "plt.plot(history.history[\"loss\"], label = \"loss\")\n",
    "plt.legend()\n",
    "plt.show()"
   ]
  },
  {
   "cell_type": "code",
   "execution_count": 56,
   "id": "10b641ce-91b1-46f8-8cac-0634f94e28c0",
   "metadata": {
    "tags": []
   },
   "outputs": [
    {
     "name": "stdout",
     "output_type": "stream",
     "text": [
      "7/7 [==============================] - 0s 1ms/step\n"
     ]
    }
   ],
   "source": [
    "y_pred = regression_model.predict(X_test.values.astype(int))"
   ]
  },
  {
   "cell_type": "code",
   "execution_count": 58,
   "id": "f7eb442e-c613-4a35-95ba-ec5136de042c",
   "metadata": {
    "tags": []
   },
   "outputs": [],
   "source": [
    "r2_score_results = r2_score(y_test, y_pred)\n",
    "mean_squared_error_results = mean_squared_error(y_test, y_pred)\n",
    "mean_absolute_error_results = mean_absolute_error(y_test, y_pred)"
   ]
  },
  {
   "cell_type": "code",
   "execution_count": 59,
   "id": "d8c18333-e5ee-4b5d-a568-140acade2347",
   "metadata": {
    "tags": []
   },
   "outputs": [
    {
     "name": "stdout",
     "output_type": "stream",
     "text": [
      "0.40049333194970516\n",
      "94005198.67956196\n",
      "7431.486504878394\n"
     ]
    }
   ],
   "source": [
    "print(r2_score_results)\n",
    "print(mean_squared_error_results)\n",
    "print(mean_absolute_error_results)"
   ]
  },
  {
   "cell_type": "code",
   "execution_count": null,
   "id": "e5e14302-6801-4c0d-a928-7234947a71a1",
   "metadata": {
    "tags": []
   },
   "outputs": [],
   "source": []
  }
 ],
 "metadata": {
  "kernelspec": {
   "display_name": "Python 3 (ipykernel)",
   "language": "python",
   "name": "python3"
  },
  "language_info": {
   "codemirror_mode": {
    "name": "ipython",
    "version": 3
   },
   "file_extension": ".py",
   "mimetype": "text/x-python",
   "name": "python",
   "nbconvert_exporter": "python",
   "pygments_lexer": "ipython3",
   "version": "3.11.5"
  }
 },
 "nbformat": 4,
 "nbformat_minor": 5
}
