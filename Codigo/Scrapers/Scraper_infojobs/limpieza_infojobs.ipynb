{
 "cells": [
  {
   "cell_type": "code",
   "execution_count": 25,
   "id": "315ea2e2-ee81-479d-9435-051cd65439f8",
   "metadata": {
    "tags": []
   },
   "outputs": [],
   "source": [
    "import pandas as pd\n",
    "import datetime\n",
    "from datetime import date, datetime, timedelta"
   ]
  },
  {
   "cell_type": "code",
   "execution_count": 21,
   "id": "d94f4f61-d1bb-4dd0-ae67-fec1c5bb72ba",
   "metadata": {
    "tags": []
   },
   "outputs": [],
   "source": [
    "# día 24/01\n",
    "df_1 = pd.read_csv(\"infojobs_1_274.csv\")\n",
    "df_4 = pd.read_csv(\"infojobs_909_1230.csv\")\n",
    "df_5 = pd.read_csv(\"infojobs_1230_1550.csv\")\n",
    "# día 25/01\n",
    "df_2 = pd.read_csv(\"infojobs_274_593.csv\")\n",
    "df_3 = pd.read_csv(\"infojobs_593_909.csv\")\n",
    "df_6 = pd.read_csv(\"infojobs_1550_1868.csv\")\n",
    "df_7 = pd.read_csv(\"infojobs_1868_2187.csv\")\n",
    "df_8 = pd.read_csv(\"infojobs_2187_2391.csv\")"
   ]
  },
  {
   "cell_type": "code",
   "execution_count": 22,
   "id": "9ca99928-0e2d-4bb5-a152-455ce9d7666d",
   "metadata": {
    "tags": []
   },
   "outputs": [],
   "source": [
    "df_1 = pd.concat([df_1, df_4, df_5], ignore_index=True)\n",
    "df_2 = pd.concat([df_2, df_3, df_6, df_7, df_8], ignore_index=True)"
   ]
  },
  {
   "cell_type": "code",
   "execution_count": 36,
   "id": "1e7084c8-e3d4-463a-a584-a69ecaa74791",
   "metadata": {
    "tags": []
   },
   "outputs": [],
   "source": [
    "df_1[\"fecha_scrapeo\"] = datetime(year = 2024, month = 1, day = 24).strftime(\"%d/%m/%y\")"
   ]
  },
  {
   "cell_type": "markdown",
   "id": "187b1aea-3556-4287-8945-dfc0547bdc1a",
   "metadata": {},
   "source": [
    "### Vamos a definir una funcion para concatenar los nuevos datos que vayan saliendo junto a la fecha de scrapeo:"
   ]
  },
  {
   "cell_type": "code",
   "execution_count": 38,
   "id": "7873d33e-6050-4859-9d1c-5cfbeec605e6",
   "metadata": {
    "tags": []
   },
   "outputs": [],
   "source": [
    "df = pd.concat([df_1, df_2], ignore_index=True)"
   ]
  },
  {
   "cell_type": "code",
   "execution_count": 44,
   "id": "03fd264a-830b-4c2c-8e2a-a1ebbd1e5771",
   "metadata": {
    "tags": []
   },
   "outputs": [],
   "source": [
    "# df.to_csv(\"datos_infojobs.csv\", index= False, sep= \",\")"
   ]
  }
 ],
 "metadata": {
  "kernelspec": {
   "display_name": "Python 3 (ipykernel)",
   "language": "python",
   "name": "python3"
  },
  "language_info": {
   "codemirror_mode": {
    "name": "ipython",
    "version": 3
   },
   "file_extension": ".py",
   "mimetype": "text/x-python",
   "name": "python",
   "nbconvert_exporter": "python",
   "pygments_lexer": "ipython3",
   "version": "3.11.5"
  }
 },
 "nbformat": 4,
 "nbformat_minor": 5
}
