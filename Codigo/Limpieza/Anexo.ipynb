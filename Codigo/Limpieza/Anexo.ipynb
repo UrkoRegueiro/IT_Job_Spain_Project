{
 "cells": [
  {
   "cell_type": "code",
   "execution_count": null,
   "id": "f209ab4a-a880-4e38-ba36-7fac6bfd27c7",
   "metadata": {},
   "outputs": [],
   "source": [
    "import nbimporter\n",
    "from funciones_custom import *\n",
    "\n",
    "# Avisos\n",
    "import warnings\n",
    "warnings.filterwarnings(\"ignore\")"
   ]
  },
  {
   "cell_type": "markdown",
   "id": "d93ce1e4-41b2-44bf-8c8c-044f95f7c50a",
   "metadata": {},
   "source": [
    "# Anexo"
   ]
  },
  {
   "cell_type": "markdown",
   "id": "39e155b9-0c5f-4ff6-b156-c04bcc52ef23",
   "metadata": {},
   "source": [
    "- ### Datos:"
   ]
  },
  {
   "cell_type": "code",
   "execution_count": null,
   "id": "62743afa-d1e4-450e-be21-9a934ed2fef9",
   "metadata": {},
   "outputs": [],
   "source": [
    "ruta_datos_sin_procesar = os.getcwd().replace(\"Codigo\\\\Limpieza\", \"Datos\\\\datos_sin_procesar\\\\\")"
   ]
  },
  {
   "cell_type": "code",
   "execution_count": null,
   "id": "e15314d4-e76d-4d32-9ced-266c50782104",
   "metadata": {},
   "outputs": [],
   "source": [
    "df_datos_trabajos = pd.read_csv(ruta_datos_sin_procesar + 'datos_trabajos.csv')\n",
    "df_ubicaciones = pd.read_csv(ruta_datos_sin_procesar + 'datos_trabajos_ubicaciones.csv')"
   ]
  },
  {
   "cell_type": "markdown",
   "id": "c8b0e796-4e0d-4413-b9a8-ecc1c271e4bc",
   "metadata": {},
   "source": [
    "## 1. Creacion de la lista ubicaciones:"
   ]
  },
  {
   "cell_type": "code",
   "execution_count": null,
   "id": "0a60a7ed-1865-4869-9033-4b08a087e612",
   "metadata": {},
   "outputs": [],
   "source": [
    "localidades = df_ubicaciones['localidad'].unique()\n",
    "provincias = df_ubicaciones['provincia'].unique()\n",
    "comunidades = df_ubicaciones['comunidad'].unique()\n",
    "paises = df_ubicaciones['pais'].unique()\n",
    "\n",
    "#Agregar localidades\n",
    "localidades = list(localidades) + [\"alcala de henares\"]\n",
    "localidades_sobrantes = ['Para', 'Vir', 'Ver', 'Les', 'Vic', 'Pol', 'Tuy', 'Amer']\n",
    "\n",
    "lista_ubicaciones = [localidades, provincias, comunidades, paises]\n",
    "lista_ubicaciones = [[value for value in sublist if not pd.isna(value)] for sublist in lista_ubicaciones]\n",
    "lista_ubicaciones[0] = [value for value in lista_ubicaciones[0] if value not in localidades_sobrantes]\n",
    "\n",
    "with open('ubicaciones.pickle', 'wb') as archivo_pickle:\n",
    "    pickle.dump(lista_ubicaciones, archivo_pickle)"
   ]
  },
  {
   "cell_type": "markdown",
   "id": "2513c77d-8c3d-4a56-9db0-b2f2eed93a1a",
   "metadata": {},
   "source": [
    "## 2. Busqueda herramientas más frecuentes:"
   ]
  },
  {
   "cell_type": "code",
   "execution_count": null,
   "id": "9322fa29-5905-4b3e-8598-6ab19b3cebb7",
   "metadata": {},
   "outputs": [],
   "source": [
    "common_tools = tool_cleaner(df_datos_trabajos, numero= 1000)\n",
    "common_tools"
   ]
  },
  {
   "cell_type": "markdown",
   "id": "e504ed73-31f2-49d4-918a-f9a5db6ed073",
   "metadata": {},
   "source": [
    "### 2.1. Lista herramientas:"
   ]
  },
  {
   "cell_type": "code",
   "execution_count": null,
   "id": "d04c76da-7123-4bd3-86fa-5a408a3172b6",
   "metadata": {},
   "outputs": [],
   "source": [
    "with open(ruta_archivos_mapeo + 'herramientas.json', 'rb') as archivo:\n",
    "    dic_herramientas = json.load(archivo)"
   ]
  },
  {
   "cell_type": "code",
   "execution_count": null,
   "id": "2d7e9734-429a-4bc5-9d0f-2c807bf8b4ac",
   "metadata": {},
   "outputs": [],
   "source": [
    "lista_herramientas = []\n",
    "for herramientas in dic_herramientas.values():\n",
    "    if type(herramientas) == list:\n",
    "        lista_herramientas.extend(herramientas)\n",
    "    else:\n",
    "        lista_herramientas.append(herramientas)\n",
    "        \n",
    "lista_herramientas.remove(\"\")\n",
    "\n",
    "with open('lista_herramientas.pickle', 'wb') as archivo_pickle:\n",
    "    pickle.dump(lista_herramientas, archivo_pickle)"
   ]
  }
 ],
 "metadata": {
  "kernelspec": {
   "display_name": "Python 3 (ipykernel)",
   "language": "python",
   "name": "python3"
  },
  "language_info": {
   "codemirror_mode": {
    "name": "ipython",
    "version": 3
   },
   "file_extension": ".py",
   "mimetype": "text/x-python",
   "name": "python",
   "nbconvert_exporter": "python",
   "pygments_lexer": "ipython3",
   "version": "3.11.5"
  }
 },
 "nbformat": 4,
 "nbformat_minor": 5
}
