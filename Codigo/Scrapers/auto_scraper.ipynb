{
 "cells": [
  {
   "cell_type": "markdown",
   "id": "08bee045-47aa-43b9-94a6-b6492a3284a2",
   "metadata": {},
   "source": [
    "# Cargamos paquetes y funciones de scrapeo"
   ]
  },
  {
   "cell_type": "code",
   "execution_count": 1,
   "id": "e770bb42-0570-403d-8b16-e4547a10f954",
   "metadata": {
    "tags": []
   },
   "outputs": [
    {
     "name": "stderr",
     "output_type": "stream",
     "text": [
      "C:\\Users\\regue\\conda_ENV\\Lib\\site-packages\\pandas\\core\\arrays\\masked.py:60: UserWarning: Pandas requires version '1.3.6' or newer of 'bottleneck' (version '1.3.5' currently installed).\n",
      "  from pandas.core import (\n"
     ]
    }
   ],
   "source": [
    "import nbimporter\n",
    "from funciones_scrapeo import *\n",
    "\n",
    "# Avisos\n",
    "import warnings\n",
    "warnings.filterwarnings(\"ignore\")"
   ]
  },
  {
   "cell_type": "markdown",
   "id": "59b41240-d0ea-4f70-b727-76d8c2b5f666",
   "metadata": {},
   "source": [
    "# Inicializamos parámetros de entrada"
   ]
  },
  {
   "cell_type": "code",
   "execution_count": 2,
   "id": "8136597e-5298-41e9-a829-a859c3d1a32a",
   "metadata": {
    "tags": []
   },
   "outputs": [
    {
     "data": {
      "text/plain": [
       "True"
      ]
     },
     "execution_count": 2,
     "metadata": {},
     "output_type": "execute_result"
    }
   ],
   "source": [
    "load_dotenv()"
   ]
  },
  {
   "cell_type": "code",
   "execution_count": 3,
   "id": "4ec8312b-02d9-4bb2-affa-ec9dcb7b3fdb",
   "metadata": {
    "tags": []
   },
   "outputs": [],
   "source": [
    "# User agent:\n",
    "user_agent = \"Mozilla/5.0 (Windows NT 10.0; Win64; x64) AppleWebKit/537.36 (KHTML, like Gecko) Chrome/118.0.0.0 Safari/537.36\"\n",
    "\n",
    "# Opciones:\n",
    "opts = Options()\n",
    "opts.add_argument(\"--disable-extensions\")\n",
    "opts.add_argument(f\"User-Agent={user_agent}\")\n",
    "\n",
    "# URL's de las webs:\n",
    "url_infoempleo = \"https://www.infoempleo.com/trabajo/area-de-empresa_tecnologia-e-informatica/\"\n",
    "url_talenthacker = \"https://talenthackers.net/spots/\"\n",
    "\n",
    "# Cargar el diccionario de bullets\n",
    "with open(os.getcwd() + \"\\\\dic_bullets.pickle\", 'rb') as bullets:\n",
    "    bullets_dic = pickle.load(bullets)\n",
    "    \n",
    "# Resolución captcha:\n",
    "openai_api_key= os.getenv('OPENAI_APIKEY')\n",
    "\n",
    "# Ruta de guardado:\n",
    "ruta_datos = os.getcwd().replace(\"Codigo\\\\Scrapers\", \"Datos\\\\datos_sin_procesar\\\\\")\n",
    "\n",
    "# Datos totales de cada portal:\n",
    "df_infoempleo = pd.read_csv(ruta_datos + \"datos_infoempleo.csv\")\n",
    "df_infojobs = pd.read_csv(ruta_datos + \"datos_infojobs.csv\")\n",
    "df_talenthacker = pd.read_csv(ruta_datos + \"datos_talenthacker.csv\")\n",
    "df_tecnoempleo = pd.read_csv(ruta_datos + \"datos_tecnoempleo.csv\")"
   ]
  },
  {
   "cell_type": "markdown",
   "id": "088e23ef-470f-4356-8cc5-426433b92ef4",
   "metadata": {},
   "source": [
    "# 1. Saco información de Infoempleo:"
   ]
  },
  {
   "cell_type": "code",
   "execution_count": 4,
   "id": "d933801b-4324-4b39-aa12-bd43e1ed3a42",
   "metadata": {
    "tags": []
   },
   "outputs": [],
   "source": [
    "url_empleos_infoempleo = url_scraper_infoempleo(url_infoempleo, opts)\n",
    "df_infoempleo_actual = scraper_infoempleo(url_empleos_infoempleo, opts)\n",
    "\n",
    "df_infoempleo = pd.concat([df_infoempleo, df_infoempleo_actual], ignore_index=True)\n",
    "df_infoempleo.to_csv(ruta_datos + \"datos_infoempleo.csv\", index= False, sep= \",\")"
   ]
  },
  {
   "cell_type": "markdown",
   "id": "e9345fcc-ed63-4cdd-80fb-3f883fd70455",
   "metadata": {},
   "source": [
    "# 2. Saco información de Talenthacker:"
   ]
  },
  {
   "cell_type": "code",
   "execution_count": 5,
   "id": "11538fe7-3b08-4244-9adb-d988fc1fc9b9",
   "metadata": {
    "tags": []
   },
   "outputs": [
    {
     "name": "stdout",
     "output_type": "stream",
     "text": [
      "Ya no hay más página.\n"
     ]
    }
   ],
   "source": [
    "url_empleos_talenthacker = url_scraper_talenthacker(url_talenthacker, opts)\n",
    "df_talenthacker_actual = scraper_talenthacker(url_empleos_talenthacker, opts, bullets_dic)\n",
    "\n",
    "df_talenthacker = pd.concat([df_talenthacker, df_talenthacker_actual], ignore_index=True)\n",
    "df_talenthacker.to_csv(ruta_datos + \"datos_talenthacker.csv\", index= False, sep= \",\")"
   ]
  },
  {
   "cell_type": "markdown",
   "id": "09a71dda-0c4c-4537-9da4-aebd48875253",
   "metadata": {
    "tags": []
   },
   "source": [
    "# 3. Saco información de Tecnoempleo:"
   ]
  },
  {
   "cell_type": "code",
   "execution_count": 6,
   "id": "fd6725ad-82dd-433a-b225-35fee827b510",
   "metadata": {
    "tags": []
   },
   "outputs": [],
   "source": [
    "numero_paginas_tecnoempleo = pag_counter(opts)\n",
    "df_tecnoempleo_actual = scraper_tecnoempleo(numero_paginas_tecnoempleo, opts)\n",
    "\n",
    "df_tecnoempleo = pd.concat([df_tecnoempleo, df_tecnoempleo_actual], ignore_index=True)\n",
    "df_tecnoempleo.to_csv(ruta_datos + \"datos_tecnoempleo.csv\", index= False, sep= \",\")"
   ]
  },
  {
   "cell_type": "markdown",
   "id": "78208d6e-c735-4f0a-ae00-6ea69e8ddfd7",
   "metadata": {},
   "source": [
    "# 4. Saco información de Infojobs:"
   ]
  },
  {
   "cell_type": "code",
   "execution_count": 7,
   "id": "f60dc62b-8a79-47fa-a71f-56fefa3de817",
   "metadata": {
    "tags": []
   },
   "outputs": [
    {
     "name": "stdout",
     "output_type": "stream",
     "text": [
      "Recording...\n",
      "Recording finished.\n",
      "Saving audio...\n",
      "Audio saved to recorded_audio.mp3\n",
      "Recording...\n",
      "Recording finished.\n",
      "Saving audio...\n",
      "Audio saved to recorded_audio.mp3\n"
     ]
    }
   ],
   "source": [
    "url_empleos_infojobs = url_scraper_infojobs(opts, openai_api_key)\n",
    "df_infojobs_actual = scraper_infojobs(url_empleos_infojobs, opts, openai_api_key)\n",
    "\n",
    "df_infojobs = pd.concat([df_infojobs, df_infojobs_actual], ignore_index=True)\n",
    "df_infojobs.to_csv(ruta_datos + \"datos_infojobs.csv\", index= False, sep= \",\")"
   ]
  },
  {
   "cell_type": "markdown",
   "id": "fe0f504c-4d87-4665-9d90-4aec29464aeb",
   "metadata": {},
   "source": [
    "# 1. Comparar y limpiar duplicados con archivo total de la página de empleo\n",
    "Concateno con el archivo de datos. Hago una copia de este y tiro duplicados\n",
    "# 2. Coger los datos nuevos y pasarles la función de limpieza\n",
    "# 3. Concatenar con la base de datos"
   ]
  },
  {
   "cell_type": "code",
   "execution_count": null,
   "id": "34caaf02-2b2d-4180-a801-df7acefa1415",
   "metadata": {},
   "outputs": [],
   "source": []
  }
 ],
 "metadata": {
  "kernelspec": {
   "display_name": "Python 3 (ipykernel)",
   "language": "python",
   "name": "python3"
  },
  "language_info": {
   "codemirror_mode": {
    "name": "ipython",
    "version": 3
   },
   "file_extension": ".py",
   "mimetype": "text/x-python",
   "name": "python",
   "nbconvert_exporter": "python",
   "pygments_lexer": "ipython3",
   "version": "3.11.5"
  }
 },
 "nbformat": 4,
 "nbformat_minor": 5
}
