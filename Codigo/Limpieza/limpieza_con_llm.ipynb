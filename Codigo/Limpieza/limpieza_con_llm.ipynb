{
 "cells": [
  {
   "cell_type": "code",
   "execution_count": 209,
   "id": "1996603a-f419-4b5b-9be7-4c0606a43682",
   "metadata": {
    "tags": []
   },
   "outputs": [],
   "source": [
    "import pandas as pd\n",
    "import numpy as np\n",
    "import re\n",
    "from unidecode import unidecode\n",
    "import ipywidgets as widgets\n",
    "from IPython.display import display\n",
    "import os\n",
    "import datetime\n",
    "\n",
    "# LLM's\n",
    "from dotenv import load_dotenv\n",
    "import os\n",
    "\n",
    "from langchain.llms import OpenAI\n",
    "from langchain_openai import ChatOpenAI\n",
    "from langchain.schema import HumanMessage, SystemMessage, AIMessage\n",
    "from langchain import PromptTemplate\n",
    "\n",
    "from kor.extraction import create_extraction_chain\n",
    "from kor.nodes import Object, Text, Number\n",
    "\n",
    "# Texto\n",
    "import nltk\n",
    "from langdetect import detect"
   ]
  },
  {
   "cell_type": "code",
   "execution_count": 2,
   "id": "b5e2720e-0441-4952-bb7a-49db2769540d",
   "metadata": {
    "tags": []
   },
   "outputs": [
    {
     "data": {
      "text/plain": [
       "True"
      ]
     },
     "execution_count": 2,
     "metadata": {},
     "output_type": "execute_result"
    }
   ],
   "source": [
    "load_dotenv()"
   ]
  },
  {
   "cell_type": "code",
   "execution_count": 3,
   "id": "478be8fc-83cc-4c02-b0c8-9fa224ef915f",
   "metadata": {
    "tags": []
   },
   "outputs": [],
   "source": [
    "openai_api_key= os.getenv('OPENAI_APIKEY')"
   ]
  },
  {
   "cell_type": "markdown",
   "id": "2dcadb66-0b27-434b-90a4-c49b5816fa14",
   "metadata": {},
   "source": [
    "# Carga datos totales:"
   ]
  },
  {
   "cell_type": "code",
   "execution_count": 39,
   "id": "0f061a8f-0042-456e-a499-311122b5ec4e",
   "metadata": {
    "tags": []
   },
   "outputs": [],
   "source": [
    "ruta_datos = \"C:\\\\Users\\\\regue\\\\Desktop\\\\Data Science Projects\\\\PROJECTS\\\\IT_Job_Spain_Project\\\\Datos\\\\datos_sin_procesar\\\\\""
   ]
  },
  {
   "cell_type": "code",
   "execution_count": 340,
   "id": "0c94d253-f397-44cb-bf0b-f8cc37127d6e",
   "metadata": {
    "tags": []
   },
   "outputs": [],
   "source": [
    "df_datos_finales = pd.read_csv(ruta_datos + 'datos_trabajos.csv')"
   ]
  },
  {
   "cell_type": "code",
   "execution_count": 41,
   "id": "e3442c6a-5c92-490e-8cf3-84bc4d06ad11",
   "metadata": {
    "tags": []
   },
   "outputs": [
    {
     "data": {
      "text/html": [
       "<div>\n",
       "<style scoped>\n",
       "    .dataframe tbody tr th:only-of-type {\n",
       "        vertical-align: middle;\n",
       "    }\n",
       "\n",
       "    .dataframe tbody tr th {\n",
       "        vertical-align: top;\n",
       "    }\n",
       "\n",
       "    .dataframe thead th {\n",
       "        text-align: right;\n",
       "    }\n",
       "</style>\n",
       "<table border=\"1\" class=\"dataframe\">\n",
       "  <thead>\n",
       "    <tr style=\"text-align: right;\">\n",
       "      <th></th>\n",
       "      <th>titulo</th>\n",
       "      <th>empresa</th>\n",
       "      <th>fecha</th>\n",
       "      <th>herramientas</th>\n",
       "      <th>descripcion</th>\n",
       "      <th>ubicacion</th>\n",
       "      <th>presencialidad</th>\n",
       "      <th>funciones</th>\n",
       "      <th>jornada</th>\n",
       "      <th>experiencia</th>\n",
       "      <th>tipo_contrato</th>\n",
       "      <th>salario</th>\n",
       "      <th>beneficios</th>\n",
       "      <th>solicitudes</th>\n",
       "      <th>fecha_scrapeo</th>\n",
       "      <th>url</th>\n",
       "      <th>portal</th>\n",
       "    </tr>\n",
       "  </thead>\n",
       "  <tbody>\n",
       "    <tr>\n",
       "      <th>0</th>\n",
       "      <td>data scientist</td>\n",
       "      <td>capgemini engineering</td>\n",
       "      <td>2024-01-04</td>\n",
       "      <td>['aptitudes para hacer presentaciones', 'comun...</td>\n",
       "      <td>acerca del empleohybrid intelligence a capgemi...</td>\n",
       "      <td>barcelona</td>\n",
       "      <td>hibrido</td>\n",
       "      <td>NaN</td>\n",
       "      <td>jornada completa</td>\n",
       "      <td>0</td>\n",
       "      <td>no especificado</td>\n",
       "      <td>NaN</td>\n",
       "      <td>NaN</td>\n",
       "      <td>52</td>\n",
       "      <td>2024-01-25</td>\n",
       "      <td>https://www.linkedin.com/jobs/search/?currentj...</td>\n",
       "      <td>linkedin</td>\n",
       "    </tr>\n",
       "    <tr>\n",
       "      <th>1</th>\n",
       "      <td>data scientist</td>\n",
       "      <td>italki</td>\n",
       "      <td>2024-01-18</td>\n",
       "      <td>['aws glue', 'aws lambda', 'aws sagemaker', 'a...</td>\n",
       "      <td>acerca del empleoabout the position italki is ...</td>\n",
       "      <td>madrid</td>\n",
       "      <td>hibrido</td>\n",
       "      <td>NaN</td>\n",
       "      <td>jornada completa</td>\n",
       "      <td>0</td>\n",
       "      <td>no especificado</td>\n",
       "      <td>NaN</td>\n",
       "      <td>NaN</td>\n",
       "      <td>56</td>\n",
       "      <td>2024-01-25</td>\n",
       "      <td>https://www.linkedin.com/jobs/search/?currentj...</td>\n",
       "      <td>linkedin</td>\n",
       "    </tr>\n",
       "    <tr>\n",
       "      <th>2</th>\n",
       "      <td>data scientist</td>\n",
       "      <td>gft technologies</td>\n",
       "      <td>2024-01-04</td>\n",
       "      <td>['airflow', 'análisis de clústers', 'análisis ...</td>\n",
       "      <td>acerca del empleodescripcion del puesto que es...</td>\n",
       "      <td>madrid</td>\n",
       "      <td>hibrido</td>\n",
       "      <td>NaN</td>\n",
       "      <td>jornada completa</td>\n",
       "      <td>0</td>\n",
       "      <td>no especificado</td>\n",
       "      <td>NaN</td>\n",
       "      <td>NaN</td>\n",
       "      <td>35</td>\n",
       "      <td>2024-01-25</td>\n",
       "      <td>https://www.linkedin.com/jobs/search/?currentj...</td>\n",
       "      <td>linkedin</td>\n",
       "    </tr>\n",
       "  </tbody>\n",
       "</table>\n",
       "</div>"
      ],
      "text/plain": [
       "           titulo                empresa       fecha  \\\n",
       "0  data scientist  capgemini engineering  2024-01-04   \n",
       "1  data scientist                 italki  2024-01-18   \n",
       "2  data scientist       gft technologies  2024-01-04   \n",
       "\n",
       "                                        herramientas  \\\n",
       "0  ['aptitudes para hacer presentaciones', 'comun...   \n",
       "1  ['aws glue', 'aws lambda', 'aws sagemaker', 'a...   \n",
       "2  ['airflow', 'análisis de clústers', 'análisis ...   \n",
       "\n",
       "                                         descripcion  ubicacion  \\\n",
       "0  acerca del empleohybrid intelligence a capgemi...  barcelona   \n",
       "1  acerca del empleoabout the position italki is ...     madrid   \n",
       "2  acerca del empleodescripcion del puesto que es...     madrid   \n",
       "\n",
       "  presencialidad funciones           jornada  experiencia    tipo_contrato  \\\n",
       "0        hibrido       NaN  jornada completa            0  no especificado   \n",
       "1        hibrido       NaN  jornada completa            0  no especificado   \n",
       "2        hibrido       NaN  jornada completa            0  no especificado   \n",
       "\n",
       "  salario beneficios  solicitudes fecha_scrapeo  \\\n",
       "0     NaN        NaN           52    2024-01-25   \n",
       "1     NaN        NaN           56    2024-01-25   \n",
       "2     NaN        NaN           35    2024-01-25   \n",
       "\n",
       "                                                 url    portal  \n",
       "0  https://www.linkedin.com/jobs/search/?currentj...  linkedin  \n",
       "1  https://www.linkedin.com/jobs/search/?currentj...  linkedin  \n",
       "2  https://www.linkedin.com/jobs/search/?currentj...  linkedin  "
      ]
     },
     "execution_count": 41,
     "metadata": {},
     "output_type": "execute_result"
    }
   ],
   "source": [
    "df_datos_finales.head(3)"
   ]
  },
  {
   "cell_type": "markdown",
   "id": "44ef3220-0b8b-4ebc-bf9a-cb8c3314a171",
   "metadata": {},
   "source": [
    "# Veamos la información faltante:"
   ]
  },
  {
   "cell_type": "markdown",
   "id": "dad1f593-58ca-4162-9f84-75484e9d44f6",
   "metadata": {
    "tags": []
   },
   "source": [
    "<span style=\"font-size:larger;\">\n",
    "\n",
    "Veamos cada una de las columnas:\n",
    "\n",
    "</span>"
   ]
  },
  {
   "cell_type": "code",
   "execution_count": 149,
   "id": "87e9c8d6-0f15-467a-9be7-3076979df3ef",
   "metadata": {
    "tags": []
   },
   "outputs": [
    {
     "data": {
      "text/plain": [
       "titulo               1\n",
       "empresa              2\n",
       "fecha                0\n",
       "herramientas       540\n",
       "descripcion          1\n",
       "ubicacion         2149\n",
       "presencialidad       0\n",
       "funciones          802\n",
       "jornada              0\n",
       "experiencia          0\n",
       "tipo_contrato        0\n",
       "salario           1977\n",
       "beneficios        4921\n",
       "solicitudes          0\n",
       "fecha_scrapeo        0\n",
       "url               4034\n",
       "portal               0\n",
       "dtype: int64"
      ]
     },
     "execution_count": 149,
     "metadata": {},
     "output_type": "execute_result"
    }
   ],
   "source": [
    "df_datos_finales.isna().sum()"
   ]
  },
  {
   "cell_type": "markdown",
   "id": "b522254e-65d8-4680-9701-9281ee00e124",
   "metadata": {},
   "source": [
    "<span style=\"font-size:larger;\">\n",
    "\n",
    "- Eliminar elemento 3513\n",
    "\n",
    "</span>"
   ]
  },
  {
   "cell_type": "code",
   "execution_count": 43,
   "id": "d37f20ae-f9c0-433d-b949-d9446da49de3",
   "metadata": {
    "tags": []
   },
   "outputs": [
    {
     "data": {
      "text/html": [
       "<div>\n",
       "<style scoped>\n",
       "    .dataframe tbody tr th:only-of-type {\n",
       "        vertical-align: middle;\n",
       "    }\n",
       "\n",
       "    .dataframe tbody tr th {\n",
       "        vertical-align: top;\n",
       "    }\n",
       "\n",
       "    .dataframe thead th {\n",
       "        text-align: right;\n",
       "    }\n",
       "</style>\n",
       "<table border=\"1\" class=\"dataframe\">\n",
       "  <thead>\n",
       "    <tr style=\"text-align: right;\">\n",
       "      <th></th>\n",
       "      <th>titulo</th>\n",
       "      <th>empresa</th>\n",
       "      <th>fecha</th>\n",
       "      <th>herramientas</th>\n",
       "      <th>descripcion</th>\n",
       "      <th>ubicacion</th>\n",
       "      <th>presencialidad</th>\n",
       "      <th>funciones</th>\n",
       "      <th>jornada</th>\n",
       "      <th>experiencia</th>\n",
       "      <th>tipo_contrato</th>\n",
       "      <th>salario</th>\n",
       "      <th>beneficios</th>\n",
       "      <th>solicitudes</th>\n",
       "      <th>fecha_scrapeo</th>\n",
       "      <th>url</th>\n",
       "      <th>portal</th>\n",
       "    </tr>\n",
       "  </thead>\n",
       "  <tbody>\n",
       "    <tr>\n",
       "      <th>3513</th>\n",
       "      <td>NaN</td>\n",
       "      <td>NaN</td>\n",
       "      <td>2024-01-26</td>\n",
       "      <td>NaN</td>\n",
       "      <td>NaN</td>\n",
       "      <td>NaN</td>\n",
       "      <td>no especificado</td>\n",
       "      <td>NaN</td>\n",
       "      <td>no especificado</td>\n",
       "      <td>0</td>\n",
       "      <td>no especificado</td>\n",
       "      <td>NaN</td>\n",
       "      <td>NaN</td>\n",
       "      <td>0</td>\n",
       "      <td>2024-01-26</td>\n",
       "      <td>NaN</td>\n",
       "      <td>infojobs</td>\n",
       "    </tr>\n",
       "  </tbody>\n",
       "</table>\n",
       "</div>"
      ],
      "text/plain": [
       "     titulo empresa       fecha herramientas descripcion ubicacion  \\\n",
       "3513    NaN     NaN  2024-01-26          NaN         NaN       NaN   \n",
       "\n",
       "       presencialidad funciones          jornada  experiencia  \\\n",
       "3513  no especificado       NaN  no especificado            0   \n",
       "\n",
       "        tipo_contrato salario beneficios  solicitudes fecha_scrapeo  url  \\\n",
       "3513  no especificado     NaN        NaN            0    2024-01-26  NaN   \n",
       "\n",
       "        portal  \n",
       "3513  infojobs  "
      ]
     },
     "execution_count": 43,
     "metadata": {},
     "output_type": "execute_result"
    }
   ],
   "source": [
    "df_datos_finales[df_datos_finales[\"titulo\"].isna()]"
   ]
  },
  {
   "cell_type": "markdown",
   "id": "533eb24a-4cc3-418e-8702-fa978bc851a3",
   "metadata": {
    "tags": []
   },
   "source": [
    "# Busqueda de información faltante en las columnas ubicación y salario con LLM: ---- FUNCIONAL!"
   ]
  },
  {
   "cell_type": "code",
   "execution_count": 277,
   "id": "b6c53747-1174-4470-ad18-ce17f87c446e",
   "metadata": {
    "tags": []
   },
   "outputs": [],
   "source": [
    "llm = ChatOpenAI(\n",
    "    model_name=\"gpt-3.5-turbo-1106\",\n",
    "    temperature=0,\n",
    "    max_tokens=2000,\n",
    "    openai_api_key=openai_api_key\n",
    ")"
   ]
  },
  {
   "cell_type": "code",
   "execution_count": 282,
   "id": "e5fc808d-f1c6-437e-9498-769caa79707c",
   "metadata": {
    "tags": []
   },
   "outputs": [],
   "source": [
    "job_schema = Object(id=\"Job offer\",\n",
    "                    description=\"Job offer information.\",\n",
    "\n",
    "                    \n",
    "                    attributes=[Text(id=\"ubicacion\", description=\"Job Location.\"),\n",
    "                                Number(id=\"salario\",description=\"The salary or salary range offered for the job position.\")\n",
    "                                ],\n",
    "                    \n",
    "                    examples=[(\"En KPMG, líder en soluciones tecnológicas innovadoras, buscamos un Desarrollador de Software Senior para unirse a nuestro equipo en la sede de Madrid. Serás parte integral del equipo de desarrollo, contribuyendo a la creación de soluciones robustas y eficientes para nuestros clientes. Colaborar con equipos multifuncionales para comprender y abordar los requisitos del cliente. Experiencia comprobada en desarrollo de software, preferiblemente con enfoque en tecnologías como Java, Python o C#. Ambiente de trabajo dinámico y colaborativo. Salario competitivo, con un rango anual de 80,000 a 100,000 €, dependiendo de la experiencia y habilidades del candidato. Si estás emocionado/a por contribuir a proyectos desafiantes y trabajar en un entorno que fomente la innovación, ¡esperamos recibir tu solicitud! Envía tu currículum y carta de presentación.\",\n",
    "                               [{\"ubicacion\": \"Madrid\",\n",
    "                                 \"salario\": \"80,000 - 100,000 €\"}],\n",
    "                              ),\n",
    "                             (\"perfil buscado hombre/mujerel candidato seleccionado se ocupara de-desarrollar nuevas funcionalidades en la aplicacion-colaborar con un equipo multidisciplinar-aportar conocimientos en desarrollo android ya sea en kotlin o java-integracion de las aplicaciones-proponer mejoras en las aplicaciones y fomentar el uso de buenas practicas importante empresa de tecnologia busca un desarrollador androidgrandes posibilidades de crecimiento profesionallos conocimientos requeridos son-no se requiere experiencia previa idealmente 6 meses/1 año-conocer los lenguajes kotlin y/o java-formacion de grado universitario o fp2 en tecnologia-proactividad ganas de aprender-dinamismo y de crecer en un ambiente de alto rendimientoempresa puntera de tecnologia busca incorporar a su equipo de desarrollo un android developerse ofrece-salario competitivo negociable en funcion de experiencia y perfil-formacion continua y grandes posibilidades de crecimiento profesional-formar parte de una empresa puntera en tecnologia con una politica de crecimiento muy atractiva para sus empleados-participar en proyectos punteros en tecnologia-formar parte de un equipo altamente cualificado y multidisciplinar\",\n",
    "                               [{\"ubicacion\": \"No especifica\",\n",
    "                                 \"salario\": \"No especifica\"}],\n",
    "                              ),\n",
    "                             (\"desarrollo aplicaciones ios considerara plus- actitud trabajo equiposalariodependiendo experiencia formacion tecnica ofrecemos rango salarial 24-35 klo ofrecemos- empleo tiempo completo- contrato trabajo indefinido- proyectos innovadores grandes oportunidades formacion continua- oportunidad crecimiento profesional- posibilidad trabajo 100 remoto modalidad hibrida españa elegir- oficina ubicacion centrica distrito 56salamanca- buena conciliacion vida laboral familiar- horario trabajo flexible elegir- bebidas gratuitas oficina cafe agua infusiones zumos- servicio fruta semanal casa ametller oficina- snacks disponibles oficina- beneficios empleados colaboracion banco sabadell\",\n",
    "                               [{\"ubicacion\": \"Salamanca\",\n",
    "                                 \"salario\": \"24,000 - 35,000 €\"}],\n",
    "                              )],\n",
    "                   )"
   ]
  },
  {
   "cell_type": "code",
   "execution_count": 283,
   "id": "368c002e-14de-4ded-a2dc-06000a549dab",
   "metadata": {
    "tags": []
   },
   "outputs": [],
   "source": [
    "# Create an extraction chain with the language model and job schema:\n",
    "chain = create_extraction_chain(llm, job_schema)"
   ]
  },
  {
   "cell_type": "code",
   "execution_count": 342,
   "id": "6d09d0e2-44ec-4120-8467-7489af92b374",
   "metadata": {
    "tags": []
   },
   "outputs": [],
   "source": [
    "for idx,row in df_datos_finales.iterrows():\n",
    "    ubicacion = row[\"ubicacion\"]\n",
    "    salario = row[\"salario\"]\n",
    "    \n",
    "    # Compruebo si las columnas ubicacion y salario contienen nan:\n",
    "    if pd.isna(ubicacion) or pd.isna(salario):\n",
    "        descripcion = row[\"descripcion\"]\n",
    "        \n",
    "        # Si la descripcion contiene un número la tokenizamos:\n",
    "        if re.search(r'\\d', descripcion):\n",
    "            clean_tokens = []\n",
    "            \n",
    "            # Detecto idioma:\n",
    "            idioma = detect(descripcion)\n",
    "            if idioma == \"es\":\n",
    "                tokens = nltk.word_tokenize(text = descripcion, language = \"spanish\")\n",
    "                stopwords = nltk.corpus.stopwords.words(\"spanish\")\n",
    "            elif idioma == \"en\":\n",
    "                tokens = nltk.word_tokenize(text = descripcion, language = \"english\")\n",
    "                stopwords = nltk.corpus.stopwords.words(\"english\")\n",
    "                \n",
    "            # Quitamos stopwords:\n",
    "            for token in tokens: \n",
    "                if token not in stopwords:\n",
    "                    clean_tokens.append(token)\n",
    "                    \n",
    "            descripcion_sin_stopwords = \" \".join(clean_tokens)\n",
    "            \n",
    "            # Saco la información para llenar los valores faltantes:\n",
    "            response = chain.predict(text=descripcion_sin_stopwords)\n",
    "            output = (response[\"data\"][\"Job offer\"][0])\n",
    "            \n",
    "            if pd.isna(ubicacion):\n",
    "                df_datos_finales.loc[idx, \"ubicacion\"] = output[\"ubicacion\"]\n",
    "                \n",
    "            elif pd.isna(salario):\n",
    "                df_datos_finales.loc[idx, \"salario\"] = output[\"salario\"]\n",
    " \n",
    "    break"
   ]
  },
  {
   "cell_type": "code",
   "execution_count": 343,
   "id": "fd8992aa-7325-4763-a3b3-855dd003bb3b",
   "metadata": {
    "tags": []
   },
   "outputs": [
    {
     "data": {
      "text/plain": [
       "titulo                                                    developer\n",
       "empresa                                               almato iberia\n",
       "fecha                                                    2024-01-24\n",
       "herramientas                                  android, ios, flutter\n",
       "descripcion       estamos buscando un programador android con al...\n",
       "ubicacion                                                 Barcelona\n",
       "presencialidad                                               remoto\n",
       "funciones                                                  analista\n",
       "jornada                                            jornada completa\n",
       "experiencia                                                       3\n",
       "tipo_contrato                                            indefinido\n",
       "salario                                     24000 -36000  bruto/año\n",
       "beneficios                                                      NaN\n",
       "solicitudes                                                       0\n",
       "fecha_scrapeo                                            2024-01-26\n",
       "url                                                             NaN\n",
       "portal                                                  tecnoempleo\n",
       "Name: 0, dtype: object"
      ]
     },
     "execution_count": 343,
     "metadata": {},
     "output_type": "execute_result"
    }
   ],
   "source": [
    "df_datos_finales.loc[0]"
   ]
  },
  {
   "cell_type": "code",
   "execution_count": 341,
   "id": "da20906f-49e4-4945-ad68-e9081b27c23c",
   "metadata": {
    "tags": []
   },
   "outputs": [
    {
     "data": {
      "text/plain": [
       "titulo                                                    developer\n",
       "empresa                                               almato iberia\n",
       "fecha                                                    2024-01-24\n",
       "herramientas                                  android, ios, flutter\n",
       "descripcion       estamos buscando un programador android con al...\n",
       "ubicacion                                                       NaN\n",
       "presencialidad                                               remoto\n",
       "funciones                                                  analista\n",
       "jornada                                            jornada completa\n",
       "experiencia                                                       3\n",
       "tipo_contrato                                            indefinido\n",
       "salario                                     24000 -36000  bruto/año\n",
       "beneficios                                                      NaN\n",
       "solicitudes                                                       0\n",
       "fecha_scrapeo                                            2024-01-26\n",
       "url                                                             NaN\n",
       "portal                                                  tecnoempleo\n",
       "Name: 0, dtype: object"
      ]
     },
     "execution_count": 341,
     "metadata": {},
     "output_type": "execute_result"
    }
   ],
   "source": [
    "df_datos_finales.loc[0]"
   ]
  },
  {
   "cell_type": "code",
   "execution_count": null,
   "id": "173c499f-1a2c-4c63-aa19-4073e8d905c3",
   "metadata": {},
   "outputs": [],
   "source": []
  },
  {
   "cell_type": "code",
   "execution_count": null,
   "id": "eba5cc01-8779-4bda-9c82-25ef40b3468d",
   "metadata": {},
   "outputs": [],
   "source": []
  },
  {
   "cell_type": "code",
   "execution_count": null,
   "id": "d8eca48c-060d-45b1-b671-2e6d79b90607",
   "metadata": {},
   "outputs": [],
   "source": []
  },
  {
   "cell_type": "code",
   "execution_count": null,
   "id": "2245cf51-cf3b-4cd7-b126-fd396b3c8df3",
   "metadata": {},
   "outputs": [],
   "source": []
  },
  {
   "cell_type": "code",
   "execution_count": null,
   "id": "01d5ba63-1a94-4b04-92de-b6e3404fdd96",
   "metadata": {},
   "outputs": [],
   "source": []
  },
  {
   "cell_type": "code",
   "execution_count": null,
   "id": "04fe631f-5fea-4e29-a6ef-b364ab8eab10",
   "metadata": {},
   "outputs": [],
   "source": []
  },
  {
   "cell_type": "code",
   "execution_count": null,
   "id": "ef633f08-d291-4e37-9df8-4a4d96b69033",
   "metadata": {},
   "outputs": [],
   "source": []
  },
  {
   "cell_type": "code",
   "execution_count": null,
   "id": "bad745de-8de7-4143-9eec-d56aea31d37a",
   "metadata": {},
   "outputs": [],
   "source": []
  },
  {
   "cell_type": "markdown",
   "id": "abb82643-3b30-41c1-b2fd-317299bcaa17",
   "metadata": {},
   "source": [
    "# PRUEBAS OPENAI API"
   ]
  },
  {
   "cell_type": "code",
   "execution_count": 16,
   "id": "310b32cf-a0a1-49f1-8701-4e3afbe760cb",
   "metadata": {
    "tags": []
   },
   "outputs": [],
   "source": [
    "chat = ChatOpenAI(temperature=0, openai_api_key= openai_api_key)"
   ]
  },
  {
   "cell_type": "code",
   "execution_count": 47,
   "id": "620385f7-1275-4fc1-a5cb-a3cd2c8bf984",
   "metadata": {
    "tags": []
   },
   "outputs": [],
   "source": [
    "def simplificador(oferta):\n",
    "\n",
    "    respuesta = chat.invoke(\n",
    "        [\n",
    "            SystemMessage(content=\"clean the title job offer using two or three words maximum, don't put complementary information.\"),\n",
    "            HumanMessage(content= oferta)\n",
    "        ]\n",
    "    )\n",
    "    \n",
    "    return respuesta.content"
   ]
  },
  {
   "cell_type": "code",
   "execution_count": 101,
   "id": "8059d84f-36ee-4ad1-bcef-6eb43e98336d",
   "metadata": {
    "tags": []
   },
   "outputs": [
    {
     "data": {
      "text/plain": [
       "titulo                                         qa back - 100 remoto\n",
       "empresa                                                michael page\n",
       "fecha                                                    2024-01-04\n",
       "herramientas                                           qa bitbucket\n",
       "descripcion       perfil buscado hombre/mujer- diseñar planifica...\n",
       "ubicacion                                                       NaN\n",
       "presencialidad                                      no especificado\n",
       "funciones                                                    tester\n",
       "jornada                                            jornada completa\n",
       "experiencia                                                       3\n",
       "tipo_contrato                                            indefinido\n",
       "salario                                     33000 -42000  bruto/año\n",
       "beneficios                                                      NaN\n",
       "solicitudes                                                       0\n",
       "fecha_scrapeo                                            2024-01-26\n",
       "url                                                             NaN\n",
       "portal                                                  tecnoempleo\n",
       "Name: 478, dtype: object"
      ]
     },
     "execution_count": 101,
     "metadata": {},
     "output_type": "execute_result"
    }
   ],
   "source": [
    "df_datos_finales.loc[478]"
   ]
  },
  {
   "cell_type": "code",
   "execution_count": 48,
   "id": "36e9322b-c891-4a99-b8d4-3c894781f772",
   "metadata": {
    "tags": []
   },
   "outputs": [
    {
     "data": {
      "text/plain": [
       "150                  Data Analyst\n",
       "151                       Auditor\n",
       "152           Executive Associate\n",
       "153    Project Manager Automotive\n",
       "154            Frontend Developer\n",
       "155     Contabilidad IFRS9/IFRS17\n",
       "156              Business Analyst\n",
       "157            Functional Manager\n",
       "158              Support Engineer\n",
       "159                 Fleet Manager\n",
       "Name: titulo, dtype: object"
      ]
     },
     "execution_count": 48,
     "metadata": {},
     "output_type": "execute_result"
    }
   ],
   "source": [
    "df_datos_finales[\"titulo\"][150:160].apply(simplificador)"
   ]
  },
  {
   "cell_type": "code",
   "execution_count": 45,
   "id": "5cb3acbc-0704-4e99-a4b0-8d2fcbdd3d45",
   "metadata": {
    "tags": []
   },
   "outputs": [
    {
     "data": {
      "text/plain": [
       "150                         reliability data analyst\n",
       "151                                 internal auditor\n",
       "152            rev-advance executive associate track\n",
       "153               project manager  sector automocion\n",
       "154                 frontend developer accessibility\n",
       "155    contabilidad ifrs9/ifrs17 banco catalan lider\n",
       "156    business analyst - esg at wavespace ai center\n",
       "157                    manager functional consulting\n",
       "158                       associate support engineer\n",
       "159                                  gestor de flota\n",
       "Name: titulo, dtype: object"
      ]
     },
     "execution_count": 45,
     "metadata": {},
     "output_type": "execute_result"
    }
   ],
   "source": [
    "df_datos_finales[\"titulo\"][150:160]"
   ]
  },
  {
   "cell_type": "markdown",
   "id": "3279c301-efdf-4706-8945-1c516af16248",
   "metadata": {},
   "source": [
    "## LLM prueba"
   ]
  },
  {
   "cell_type": "code",
   "execution_count": 7,
   "id": "0e5d2660-1377-485e-a1f0-b01c054f3b92",
   "metadata": {
    "tags": []
   },
   "outputs": [
    {
     "name": "stderr",
     "output_type": "stream",
     "text": [
      "C:\\Users\\regue\\conda_ENV\\Lib\\site-packages\\langchain_core\\_api\\deprecation.py:117: LangChainDeprecationWarning: The class `langchain_community.llms.openai.OpenAI` was deprecated in langchain-community 0.0.10 and will be removed in 0.2.0. An updated version of the class exists in the langchain-openai package and should be used instead. To use it run `pip install -U langchain-openai` and import as `from langchain_openai import OpenAI`.\n",
      "  warn_deprecated(\n"
     ]
    }
   ],
   "source": [
    "llm = OpenAI(model_name=\"gpt-3.5-turbo-instruct\", openai_api_key= openai_api_key)"
   ]
  },
  {
   "cell_type": "code",
   "execution_count": 8,
   "id": "604c86b0-cdb0-4083-a3bb-4188cba4362d",
   "metadata": {
    "tags": []
   },
   "outputs": [],
   "source": [
    "def categorizer(oferta):\n",
    "    \n",
    "    template = \"\"\"Eres un reclutador experimentado que tiene que simplificar el nombre de la oferta de trabajo, \n",
    "    dando nombre y rango del puesto, eliminando cualquier información complementaria al puesto como tecnologías, \n",
    "    programas, lenguajes de programacion, forma de trabajo(oficina, remoto, hibrido), simbolos, ...\"\n",
    "\n",
    "    \"\"\"\n",
    "\n",
    "    prompt = PromptTemplate(\n",
    "        input_variables=[\"oferta\"],\n",
    "        template=template,\n",
    "    )\n",
    "\n",
    "    final_prompt = prompt.format(oferta= oferta)\n",
    "\n",
    "    return llm(final_prompt).strip()"
   ]
  },
  {
   "cell_type": "markdown",
   "id": "16991439-1fa0-4830-a69a-9c056587e362",
   "metadata": {
    "tags": []
   },
   "source": [
    "# Prueba limpieza descripción:"
   ]
  },
  {
   "cell_type": "code",
   "execution_count": 46,
   "id": "7d04799b-4e4e-486c-a172-d310c4621bee",
   "metadata": {
    "tags": []
   },
   "outputs": [],
   "source": [
    "llm = ChatOpenAI(\n",
    "    model_name=\"gpt-3.5-turbo-instruct\",\n",
    "    temperature=0,\n",
    "    max_tokens=2000,\n",
    "    openai_api_key=openai_api_key\n",
    ")"
   ]
  },
  {
   "cell_type": "code",
   "execution_count": 58,
   "id": "43eccd79-0922-41d2-8be9-7b31004d619c",
   "metadata": {
    "tags": []
   },
   "outputs": [],
   "source": [
    "job_schema = Object(id=\"Puesto de trabajo\",\n",
    "                    description=\"Información sobre el puesto de trabajo ofertado.\",\n",
    "\n",
    "                    # Notice I put multiple fields to pull out different attributes\n",
    "                    attributes=[Text(id=\"herramientas\", description=\"Lenguajes de programación y herramientas demandadas para el puesto de trabajo.\"),\n",
    "                                Text(id=\"ubicacion\", description=\"Localización del puesto de trabajo ofertado.\"),\n",
    "                                Text(id=\"funciones\", description=\"Funciones a desempeñar en el puesto de trabajo ofertado.\"),\n",
    "                                Text(id=\"beneficios\", description=\"Beneficios adicionales ofrecidos por la empresa.\"),\n",
    "                                Number(id=\"salario\",description=\"El salario o rango salarial ofrecido para el puesto de trabajo.\")\n",
    "                                ],\n",
    "                    \n",
    "                    examples=[('perfil buscado hombre/mujer- diseñar planificar especificar y ejecutar pruebas automatizadas back karate- diseñar planificar especificar y ejecutar pruebas manuales- participar en el chapterqa- pruebas en el sprint manual/automatizacion consultora tecnologicatrayectoria profesional- experiencia en pruebas manuales y automatizadas- experiencia bitbucket- open api- sonar appium- karate- git- cypress- bddpage consulting tech solutions es el area de pagegroup especializada en la realizacion de proyectos it en clientes ofreciendo una amplia variedad de soluciones tecnologicas a medida con la flexibilidad y agilidad requerida  contrato indefinido con pageconsulting tech solutions banda salarial 35k-42k oficina en Madrid formacion continua para desarrollar tu talento beneficios: seguro medico, ticket transporte, ticket restaurante, ticket guarderia. Plan de carrera en un ecosistema de talento tecnologico',\n",
    "                               [{\"herramientas\": \"bitbucket, git, openapi, karate, cypress\",\n",
    "                                 \"ubicacion\": \"Madrid\",\n",
    "                                 \"funciones\": \"tester\",\n",
    "                                 \"beneficios\": \"seguro medico, ticket transporte, ticket restaurante, ticket guarderia\",\n",
    "                                 \"salario\": \"35000 - 42000 €\"}],\n",
    "                              )]\n",
    "                   )"
   ]
  },
  {
   "cell_type": "code",
   "execution_count": 62,
   "id": "211fbaa3-6927-482a-8d21-432ffe889617",
   "metadata": {
    "tags": []
   },
   "outputs": [
    {
     "name": "stdout",
     "output_type": "stream",
     "text": [
      "funciones\n",
      "salario\n",
      "beneficios\n"
     ]
    }
   ],
   "source": [
    "for idx, row in df_datos_finales.iterrows():\n",
    "    \n",
    "    for col, value in row.items():\n",
    "        if pd.isna(value):\n",
    "            print(col)\n",
    "    break"
   ]
  },
  {
   "cell_type": "code",
   "execution_count": 15,
   "id": "a4dd517f-f2e7-4312-83f9-64e9ee862a03",
   "metadata": {
    "tags": []
   },
   "outputs": [],
   "source": [
    "from langchain.chains import LLMChain\n"
   ]
  },
  {
   "cell_type": "code",
   "execution_count": 63,
   "id": "5c04d54e-64a0-4906-a235-1beaa455a0fe",
   "metadata": {
    "tags": []
   },
   "outputs": [
    {
     "data": {
      "text/plain": [
       "{'herramientas': 'co-simulation, cloud computing, machine learning, python, c',\n",
       " 'ubicacion': 'not specified',\n",
       " 'funciones': 'mdao co-simulation specialist',\n",
       " 'beneficios': 'not specified',\n",
       " 'salario': 'not specified'}"
      ]
     },
     "execution_count": 63,
     "metadata": {},
     "output_type": "execute_result"
    }
   ],
   "source": [
    "# Assuming 'llm' is your language model and 'job_schema' is your schema\n",
    "text = df_datos_finales.loc[4321][\"descripcion\"]\n",
    "\n",
    "# Create an extraction chain with the language model and job schema\n",
    "chain = create_extraction_chain(llm, job_schema)\n",
    "\n",
    "# Use the 'predict' method instead of 'predict_and_parse'\n",
    "response = chain.predict(text=text)\n",
    "\n",
    "# Extract data using the 'extract' method\n",
    "output = (response[\"data\"][\"Puesto de trabajo\"][0])\n",
    "\n",
    "# Print the output\n",
    "output"
   ]
  },
  {
   "cell_type": "code",
   "execution_count": 55,
   "id": "48052124-b1f2-4d13-9376-91e1103b1f27",
   "metadata": {
    "tags": []
   },
   "outputs": [
    {
     "data": {
      "text/plain": [
       "titulo                                           network technician\n",
       "empresa                                  alcorce telecomunicaciones\n",
       "fecha                                                    2023-12-21\n",
       "herramientas                                        redes, lan, wan\n",
       "descripcion       debido a la expansion de alcorce telecomunicac...\n",
       "ubicacion                                                       NaN\n",
       "presencialidad                                      no especificado\n",
       "funciones                                                     redes\n",
       "jornada                                            jornada completa\n",
       "experiencia                                                       3\n",
       "tipo_contrato                                            indefinido\n",
       "salario                                                         NaN\n",
       "beneficios                                                      NaN\n",
       "solicitudes                                                       0\n",
       "fecha_scrapeo                                            2024-01-26\n",
       "url                                                             NaN\n",
       "portal                                                  tecnoempleo\n",
       "Name: 1264, dtype: object"
      ]
     },
     "execution_count": 55,
     "metadata": {},
     "output_type": "execute_result"
    }
   ],
   "source": [
    "df_datos_finales.loc[1264]"
   ]
  },
  {
   "cell_type": "code",
   "execution_count": 26,
   "id": "f1c89002-8115-4527-b594-6f860c85c47c",
   "metadata": {
    "tags": []
   },
   "outputs": [
    {
     "data": {
      "text/plain": [
       "'rest maven spring hibernate web services spring boot junit microservicios'"
      ]
     },
     "execution_count": 26,
     "metadata": {},
     "output_type": "execute_result"
    }
   ],
   "source": [
    "df_datos_finales[\"herramientas\"][3478]"
   ]
  },
  {
   "cell_type": "code",
   "execution_count": null,
   "id": "ba59fd0c-4ff7-4247-aa32-7007e4b7e262",
   "metadata": {},
   "outputs": [],
   "source": []
  },
  {
   "cell_type": "code",
   "execution_count": 59,
   "id": "96ccad4f-b10d-4642-bac0-e62ec693baf4",
   "metadata": {
    "tags": []
   },
   "outputs": [
    {
     "name": "stdout",
     "output_type": "stream",
     "text": [
      "titulo                    lead data scientist - hybrid intelligence\n",
      "empresa                                       capgemini engineering\n",
      "fecha                                                    2024-01-04\n",
      "herramientas      aptitudes para hacer presentaciones comunicaci...\n",
      "descripcion       acerca del empleohybrid intelligence a capgemi...\n",
      "ubicacion                                barcelona cataluña españa \n",
      "presencialidad                                              hibrido\n",
      "funciones                                                       NaN\n",
      "jornada                                            jornada completa\n",
      "experiencia                                                       0\n",
      "tipo_contrato                                       no especificado\n",
      "salario                                                         NaN\n",
      "beneficios                                                      NaN\n",
      "solicitudes                                                      52\n",
      "fecha_scrapeo                                            2024-01-25\n",
      "url               https//wwwlinkedincom/jobs/search/currentjobid...\n",
      "portal                                                     linkedin\n",
      "Name: 0, dtype: object\n"
     ]
    }
   ],
   "source": [
    "for idx, row in df_datos_finales.iterrows():\n",
    "    \n",
    "    print(row)\n",
    "    break"
   ]
  },
  {
   "cell_type": "code",
   "execution_count": 39,
   "id": "7adce660-1785-4132-8404-a049ba78be75",
   "metadata": {
    "tags": []
   },
   "outputs": [
    {
     "data": {
      "text/plain": [
       "\"['aws glue', 'aws lambda', 'aws sagemaker', 'amazon web services (aws)', 'ciencia de datos', 'pegamento', 'python', 'r (lenguaje de programación)']\""
      ]
     },
     "execution_count": 39,
     "metadata": {},
     "output_type": "execute_result"
    }
   ],
   "source": []
  },
  {
   "cell_type": "markdown",
   "id": "32de117e-ee6e-4197-a7d5-3d4e742dab4d",
   "metadata": {
    "tags": []
   },
   "source": [
    "# Limpieza herramientas --- FUNCIONA MAH O MENOH"
   ]
  },
  {
   "cell_type": "code",
   "execution_count": 15,
   "id": "bb4be091-e246-43bf-a459-fda20c29c112",
   "metadata": {
    "tags": []
   },
   "outputs": [],
   "source": [
    "# To help construct our Chat Messages\n",
    "from langchain.schema import HumanMessage\n",
    "from langchain.prompts import PromptTemplate, ChatPromptTemplate, HumanMessagePromptTemplate\n",
    "\n",
    "# We will be using a chat model, defaults to gpt-3.5-turbo\n",
    "from langchain_openai import ChatOpenAI\n",
    "\n",
    "# To parse outputs and get structured data back\n",
    "from langchain.output_parsers import StructuredOutputParser, ResponseSchema\n",
    "\n",
    "chat_model = ChatOpenAI(temperature=0, model_name='gpt-3.5-turbo', openai_api_key=openai_api_key)"
   ]
  },
  {
   "cell_type": "code",
   "execution_count": 37,
   "id": "af3a0159-c48e-47ed-a4b2-850e35901065",
   "metadata": {
    "tags": []
   },
   "outputs": [],
   "source": [
    "instructions = \"\"\"\n",
    "\n",
    "\"\"\"\n",
    "\n",
    "job_offer = df_datos_finales[\"herramientas\"][2]"
   ]
  },
  {
   "cell_type": "code",
   "execution_count": 38,
   "id": "e8b02315-fec3-4b57-9d77-b23ef5e9a5cd",
   "metadata": {
    "tags": []
   },
   "outputs": [
    {
     "name": "stdout",
     "output_type": "stream",
     "text": [
      "['svn', 'ccs', 's32ds', 'canoe', 'jira', 'parasoft']\n",
      "<class 'str'>\n"
     ]
    }
   ],
   "source": [
    "# Make your prompt which combines the instructions w/ the fruit names\n",
    "prompt = (instructions + job_offer)\n",
    "\n",
    "# Call the LLM\n",
    "output = chat_model([HumanMessage(content=prompt)])\n",
    "\n",
    "print (output.content)\n",
    "print (type(output.content))"
   ]
  },
  {
   "cell_type": "code",
   "execution_count": 34,
   "id": "71f4d8a5-b400-4da2-bc90-ae269fd8ecc0",
   "metadata": {
    "tags": []
   },
   "outputs": [
    {
     "data": {
      "text/plain": [
       "\"['airflow', 'análisis de clústers', 'análisis predictivo', 'aprendizaje automático', 'aprendizaje profundo', 'ciencia de datos', 'procesamiento de lenguaje natural', 'python', 'reconocimiento de patrones', 'scala']\""
      ]
     },
     "execution_count": 34,
     "metadata": {},
     "output_type": "execute_result"
    }
   ],
   "source": [
    "df_datos_finales[\"herramientas\"][2]"
   ]
  },
  {
   "cell_type": "code",
   "execution_count": null,
   "id": "77fa83a8-f9da-46b8-a9db-de1e8d4e897b",
   "metadata": {},
   "outputs": [],
   "source": []
  }
 ],
 "metadata": {
  "kernelspec": {
   "display_name": "Python 3 (ipykernel)",
   "language": "python",
   "name": "python3"
  },
  "language_info": {
   "codemirror_mode": {
    "name": "ipython",
    "version": 3
   },
   "file_extension": ".py",
   "mimetype": "text/x-python",
   "name": "python",
   "nbconvert_exporter": "python",
   "pygments_lexer": "ipython3",
   "version": "3.11.5"
  }
 },
 "nbformat": 4,
 "nbformat_minor": 5
}
