{
 "cells": [
  {
   "cell_type": "code",
   "execution_count": 1,
   "id": "1996603a-f419-4b5b-9be7-4c0606a43682",
   "metadata": {
    "tags": []
   },
   "outputs": [],
   "source": [
    "import pandas as pd\n",
    "import numpy as np\n",
    "import re\n",
    "from unidecode import unidecode\n",
    "import ipywidgets as widgets\n",
    "from IPython.display import display\n",
    "import os\n",
    "import datetime"
   ]
  },
  {
   "cell_type": "markdown",
   "id": "2dcadb66-0b27-434b-90a4-c49b5816fa14",
   "metadata": {},
   "source": [
    "# Ruta donde están los datos:"
   ]
  },
  {
   "cell_type": "code",
   "execution_count": 2,
   "id": "0f061a8f-0042-456e-a499-311122b5ec4e",
   "metadata": {
    "tags": []
   },
   "outputs": [],
   "source": [
    "ruta_datos = \"C:\\\\Users\\\\regue\\\\Desktop\\\\Data Science Projects\\\\PROJECTS\\\\IT_Job_Spain_Project\\\\Datos\\\\datos_sin_procesar\\\\\""
   ]
  },
  {
   "cell_type": "markdown",
   "id": "ca5c6c02-d70f-4e1e-befa-1cf3bcbf234d",
   "metadata": {},
   "source": [
    "# Definimos una función que lea los archivos de nuevos datos y los concatene, tras limpieza, en el dataframe final:"
   ]
  },
  {
   "cell_type": "code",
   "execution_count": 3,
   "id": "7fe06856-85b6-472f-b5c9-a1f7b8b7aa5b",
   "metadata": {
    "tags": []
   },
   "outputs": [
    {
     "data": {
      "text/plain": [
       "'28-01-24'"
      ]
     },
     "execution_count": 3,
     "metadata": {},
     "output_type": "execute_result"
    }
   ],
   "source": [
    "dia_scrapeo = datetime.datetime.now().strftime(\"%d-%m-%y\")\n",
    "dia_scrapeo"
   ]
  },
  {
   "cell_type": "code",
   "execution_count": null,
   "id": "615d0423-d640-4b7d-9c64-e1c59cdec3ad",
   "metadata": {
    "jupyter": {
     "source_hidden": true
    },
    "tags": []
   },
   "outputs": [],
   "source": [
    "def actualizacion_datos(ruta, dia):\n",
    "    \n",
    "    archivos_en_carpeta = os.listdir(ruta)\n",
    "    \n",
    "    for archivo in archivos_en_carpeta:\n",
    "        \n",
    "        if \"datos_infoempleo_\" in archivo:\n",
    "            datos = pd.read_csv(ruta + archivo + dia)\n",
    "\n",
    "            # Aplico limpieza a datos:\n",
    "            '''\n",
    "\n",
    "            .....\n",
    "            .....\n",
    "            .....\n",
    "\n",
    "\n",
    "            '''\n",
    "\n",
    "            # Concateno con dataframe final\n",
    "            datos_finales = pd.read_csv(\"PONER URL + DATOS_FINALES.CSV\")\n",
    "\n",
    "            datos_finales = pd.concat([datos_finales, datos], ignore_index=True)\n",
    "\n",
    "            # Guardo en la misma ubicación, con el mismo nombre, el CSV actualizado:\n",
    "            datos_finales.to_csv(\"PONER URL + DATOS_FINALES.CSV\", index= False, sep= \",\")\n",
    "\n",
    "\n",
    "        elif \"datos_infojobs_\" in archivo:\n",
    "            datos = pd.read_csv(ruta + archivo + dia)\n",
    "\n",
    "            datos = pd.read_csv(ruta + archivo + dia)\n",
    "\n",
    "            # Aplico limpieza a datos:\n",
    "            '''\n",
    "\n",
    "            .....\n",
    "            .....\n",
    "            .....\n",
    "\n",
    "\n",
    "            '''\n",
    "\n",
    "            # Concateno con dataframe final\n",
    "            datos_finales = pd.read_csv(\"PONER URL + DATOS_FINALES.CSV\")\n",
    "\n",
    "            datos_finales = pd.concat([datos_finales, datos], ignore_index=True)\n",
    "\n",
    "            # Guardo en la misma ubicación, con el mismo nombre, el CSV actualizado:\n",
    "            datos_finales.to_csv(\"PONER URL + DATOS_FINALES.CSV\", index= False, sep= \",\")\n",
    "\n",
    "        elif \"datos_linkedin_\" in archivo:\n",
    "            datos = pd.read_csv(ruta + archivo + dia)\n",
    "\n",
    "            datos = pd.read_csv(ruta + archivo + dia)\n",
    "\n",
    "            # Aplico limpieza a datos:\n",
    "            '''\n",
    "\n",
    "            .....\n",
    "            .....\n",
    "            .....\n",
    "\n",
    "\n",
    "            '''\n",
    "\n",
    "            # Concateno con dataframe final\n",
    "            datos_finales = pd.read_csv(\"PONER URL + DATOS_FINALES.CSV\")\n",
    "\n",
    "            datos_finales = pd.concat([datos_finales, datos], ignore_index=True)\n",
    "\n",
    "            # Guardo en la misma ubicación, con el mismo nombre, el CSV actualizado:\n",
    "            datos_finales.to_csv(\"PONER URL + DATOS_FINALES.CSV\", index= False, sep= \",\")\n",
    "\n",
    "        elif \"datos_indeed_\" in archivo:\n",
    "            datos = pd.read_csv(ruta + archivo + dia)\n",
    "\n",
    "            datos = pd.read_csv(ruta + archivo + dia)\n",
    "\n",
    "            # Aplico limpieza a datos:\n",
    "            '''\n",
    "\n",
    "            .....\n",
    "            .....\n",
    "            .....\n",
    "\n",
    "\n",
    "            '''\n",
    "\n",
    "            # Concateno con dataframe final\n",
    "            datos_finales = pd.read_csv(\"PONER URL + DATOS_FINALES.CSV\")\n",
    "\n",
    "            datos_finales = pd.concat([datos_finales, datos], ignore_index=True)\n",
    "\n",
    "            # Guardo en la misma ubicación, con el mismo nombre, el CSV actualizado:\n",
    "            datos_finales.to_csv(\"PONER URL + DATOS_FINALES.CSV\", index= False, sep= \",\")\n",
    "\n",
    "        elif \"datos_ticjob_\" in archivo:\n",
    "            datos = pd.read_csv(ruta + archivo + dia)\n",
    "\n",
    "            datos = pd.read_csv(ruta + archivo + dia)\n",
    "\n",
    "            # Aplico limpieza a datos:\n",
    "            '''\n",
    "\n",
    "            .....\n",
    "            .....\n",
    "            .....\n",
    "\n",
    "\n",
    "            '''\n",
    "\n",
    "            # Concateno con dataframe final\n",
    "            datos_finales = pd.read_csv(\"PONER URL + DATOS_FINALES.CSV\")\n",
    "\n",
    "            datos_finales = pd.concat([datos_finales, datos], ignore_index=True)\n",
    "\n",
    "            # Guardo en la misma ubicación, con el mismo nombre, el CSV actualizado:\n",
    "            datos_finales.to_csv(\"PONER URL + DATOS_FINALES.CSV\", index= False, sep= \",\")\n",
    "\n",
    "        elif \"datos_talenthackers_\" in archivo:\n",
    "            datos = pd.read_csv(ruta + archivo + dia)\n",
    "\n",
    "            datos = pd.read_csv(ruta + archivo + dia)\n",
    "\n",
    "            # Aplico limpieza a datos:\n",
    "            '''\n",
    "\n",
    "            .....\n",
    "            .....\n",
    "            .....\n",
    "\n",
    "\n",
    "            '''\n",
    "\n",
    "            # Concateno con dataframe final\n",
    "            datos_finales = pd.read_csv(\"PONER URL + DATOS_FINALES.CSV\")\n",
    "\n",
    "            datos_finales = pd.concat([datos_finales, datos], ignore_index=True)\n",
    "\n",
    "            # Guardo en la misma ubicación, con el mismo nombre, el CSV actualizado:\n",
    "            datos_finales.to_csv(\"PONER URL + DATOS_FINALES.CSV\", index= False, sep= \",\")\n",
    "\n",
    "        elif \"datos_tecnoempleo_\" in archivo:\n",
    "            datos = pd.read_csv(ruta + archivo + dia)\n",
    "\n",
    "            datos = pd.read_csv(ruta + archivo + dia)\n",
    "\n",
    "            # Aplico limpieza a datos:\n",
    "            '''\n",
    "\n",
    "            .....\n",
    "            .....\n",
    "            .....\n",
    "\n",
    "\n",
    "            '''\n",
    "\n",
    "            # Concateno con dataframe final\n",
    "            datos_finales = pd.read_csv(\"PONER URL + DATOS_FINALES.CSV\")\n",
    "\n",
    "            datos_finales = pd.concat([datos_finales, datos], ignore_index=True)\n",
    "\n",
    "            # Guardo en la misma ubicación, con el mismo nombre, el CSV actualizado:\n",
    "            datos_finales.to_csv(\"PONER URL + DATOS_FINALES.CSV\", index= False, sep= \",\")\n",
    "        "
   ]
  },
  {
   "cell_type": "code",
   "execution_count": null,
   "id": "08cd3dbe-6a03-4c1f-bc95-438b6fd7e7a8",
   "metadata": {
    "tags": []
   },
   "outputs": [],
   "source": []
  },
  {
   "cell_type": "code",
   "execution_count": null,
   "id": "7facebdd-8dde-475b-ab32-318b8f589b1d",
   "metadata": {},
   "outputs": [],
   "source": []
  },
  {
   "cell_type": "code",
   "execution_count": null,
   "id": "b1a59c16-4e88-460a-b336-c5f2a09663e6",
   "metadata": {},
   "outputs": [],
   "source": []
  },
  {
   "cell_type": "code",
   "execution_count": null,
   "id": "8ee5a15c-151d-42f8-b2be-23a1682ee451",
   "metadata": {},
   "outputs": [],
   "source": []
  },
  {
   "cell_type": "code",
   "execution_count": null,
   "id": "07d71168-9278-4720-a8ce-b579decf5350",
   "metadata": {},
   "outputs": [],
   "source": []
  },
  {
   "cell_type": "code",
   "execution_count": 4,
   "id": "936fc56e-fc83-4760-9b41-b8881cdde7ab",
   "metadata": {
    "tags": []
   },
   "outputs": [],
   "source": [
    "df_linkedin       = pd.read_csv(ruta_datos + 'datos_linkedin.csv')\n",
    "df_tecnoempleo    = pd.read_csv(ruta_datos + 'datos_tecnoempleo.csv')\n",
    "df_indeed         = pd.read_csv(ruta_datos + 'datos_indeed.csv')\n",
    "df_infojobs       = pd.read_csv(ruta_datos + 'datos_infojobs.csv')\n",
    "df_infoempleo     = pd.read_csv(ruta_datos + 'datos_infoempleo.csv')\n",
    "#df_ticjob         = pd.read_csv('datos_ticjob.csv')\n",
    "#df_talenthackers  = pd.read_csv('datos_talenthackers.csv')"
   ]
  },
  {
   "cell_type": "markdown",
   "id": "abb82643-3b30-41c1-b2fd-317299bcaa17",
   "metadata": {},
   "source": [
    "# PRUEBAS OPENAI API"
   ]
  },
  {
   "cell_type": "code",
   "execution_count": 5,
   "id": "65d93038-8386-4582-9d5a-e4a7de74e73a",
   "metadata": {
    "tags": []
   },
   "outputs": [],
   "source": [
    "from dotenv import load_dotenv\n",
    "import os"
   ]
  },
  {
   "cell_type": "code",
   "execution_count": 6,
   "id": "f1b61d36-bcd2-4dc5-b381-52e7262ac3c1",
   "metadata": {
    "tags": []
   },
   "outputs": [],
   "source": [
    "#ruta_keys = \"C:\\\\Users\\\\regue\\\\Desktop\\\\Data Science & AI\\\\proyectos_a_sucio\\\\PROYECTO_3\\\\dsb05rt_P3\\\\\""
   ]
  },
  {
   "cell_type": "code",
   "execution_count": 7,
   "id": "bc55edbb-203b-48e9-ac1f-fd63883debfa",
   "metadata": {
    "tags": []
   },
   "outputs": [
    {
     "data": {
      "text/plain": [
       "True"
      ]
     },
     "execution_count": 7,
     "metadata": {},
     "output_type": "execute_result"
    }
   ],
   "source": [
    "load_dotenv()"
   ]
  },
  {
   "cell_type": "code",
   "execution_count": 18,
   "id": "a680af0d-784a-4349-9b95-1d30e8c286df",
   "metadata": {
    "tags": []
   },
   "outputs": [],
   "source": [
    "openai_api_key= os.getenv('OPENAI_APIKEY')"
   ]
  },
  {
   "cell_type": "code",
   "execution_count": 9,
   "id": "2848162c-c84f-4da5-b7de-d2dcf988b090",
   "metadata": {
    "tags": []
   },
   "outputs": [],
   "source": [
    "from langchain.llms import OpenAI\n",
    "from langchain_openai import ChatOpenAI\n",
    "from langchain.schema import HumanMessage, SystemMessage, AIMessage\n",
    "from langchain import PromptTemplate"
   ]
  },
  {
   "cell_type": "code",
   "execution_count": 10,
   "id": "310b32cf-a0a1-49f1-8701-4e3afbe760cb",
   "metadata": {
    "tags": []
   },
   "outputs": [],
   "source": [
    "chat = ChatOpenAI(temperature=0, openai_api_key=openai_api_key)"
   ]
  },
  {
   "cell_type": "code",
   "execution_count": null,
   "id": "31937028-eb07-4900-a26c-4c895dbebd06",
   "metadata": {
    "tags": []
   },
   "outputs": [],
   "source": [
    "chat(\n",
    "        [\n",
    "            SystemMessage(content=\"Eres un reclutador experimentado que tiene que simplificar el nombre de la oferta de trabajo, dando nombre y rango del puesto, eliminando cualquier información complementaria al puesto como tecnologías, programas, lenguajes de programacion, forma de trabajo(oficina, remoto, hibrido), simbolos, ...\"),\n",
    "            HumanMessage(content= oferta)\n",
    "        ]\n",
    "    )"
   ]
  },
  {
   "cell_type": "code",
   "execution_count": 14,
   "id": "620385f7-1275-4fc1-a5cb-a3cd2c8bf984",
   "metadata": {
    "tags": []
   },
   "outputs": [],
   "source": [
    "def simplificador(oferta):\n",
    "\n",
    "    respuesta = chat.invoke(\n",
    "        [\n",
    "            SystemMessage(content=\"Eres un reclutador experimentado que tiene que simplificar el nombre de la oferta de trabajo, dando nombre y rango del puesto, eliminando cualquier información complementaria al puesto como tecnologías, programas, lenguajes de programacion, forma de trabajo(oficina, remoto, hibrido), simbolos, ...\"),\n",
    "            HumanMessage(content= oferta)\n",
    "        ]\n",
    "    )\n",
    "    \n",
    "    return respuesta.content"
   ]
  },
  {
   "cell_type": "code",
   "execution_count": 15,
   "id": "fb89604d-147a-4e85-9d1c-0ea9ff7f2e40",
   "metadata": {
    "tags": []
   },
   "outputs": [
    {
     "data": {
      "text/plain": [
       "'Desarrollador Full Stack'"
      ]
     },
     "execution_count": 15,
     "metadata": {},
     "output_type": "execute_result"
    }
   ],
   "source": [
    "simplificador(\"Full Stack Developer (Laravel+Vue.js)\")"
   ]
  },
  {
   "cell_type": "code",
   "execution_count": 42,
   "id": "5cb3acbc-0704-4e99-a4b0-8d2fcbdd3d45",
   "metadata": {
    "tags": []
   },
   "outputs": [
    {
     "data": {
      "text/plain": [
       "5                      Software Developer\n",
       "6               Desarrollador JAVA Senior\n",
       "7    Analista Programador para BackOffice\n",
       "8                   Desarrollador LabVIEW\n",
       "9           Analista Desarrollador PL SQL\n",
       "Name: titulo, dtype: object"
      ]
     },
     "execution_count": 42,
     "metadata": {},
     "output_type": "execute_result"
    }
   ],
   "source": [
    "df_tecnoempleo[\"titulo\"][5:10]"
   ]
  },
  {
   "cell_type": "code",
   "execution_count": 16,
   "id": "36e9322b-c891-4a99-b8d4-3c894781f772",
   "metadata": {
    "tags": []
   },
   "outputs": [
    {
     "data": {
      "text/plain": [
       "5          Desarrollador de Software\n",
       "6               Desarrollador Senior\n",
       "7    Analista Programador BackOffice\n",
       "8          Desarrollador de Software\n",
       "9             Analista Desarrollador\n",
       "Name: titulo, dtype: object"
      ]
     },
     "execution_count": 16,
     "metadata": {},
     "output_type": "execute_result"
    }
   ],
   "source": [
    "df_tecnoempleo[\"titulo\"][5:10].apply(simplificador)"
   ]
  },
  {
   "cell_type": "code",
   "execution_count": 51,
   "id": "775d7bde-36f5-4920-b18a-ce5239286da2",
   "metadata": {
    "tags": []
   },
   "outputs": [
    {
     "data": {
      "text/plain": [
       "5                        Software Developer\n",
       "6                 Senior Software Developer\n",
       "7                      Analista Programador\n",
       "8    Desarrollador LabVIEW -> Desarrollador\n",
       "9                    Analista Desarrollador\n",
       "Name: titulo, dtype: object"
      ]
     },
     "execution_count": 51,
     "metadata": {},
     "output_type": "execute_result"
    }
   ],
   "source": [
    "df_tecnoempleo[\"titulo\"][5:10].apply(lambda x: categorizer(x))"
   ]
  },
  {
   "cell_type": "code",
   "execution_count": 50,
   "id": "99f7d58c-80fe-461a-b091-18355f1ce7fa",
   "metadata": {
    "tags": []
   },
   "outputs": [
    {
     "data": {
      "text/plain": [
       "'\"Desarrollador\"'"
      ]
     },
     "execution_count": 50,
     "metadata": {},
     "output_type": "execute_result"
    }
   ],
   "source": [
    "categorizer(\"Desarrollador LabVIEW\")"
   ]
  },
  {
   "cell_type": "code",
   "execution_count": 17,
   "id": "d730f008-e071-45eb-bad2-6c804211adbe",
   "metadata": {
    "tags": []
   },
   "outputs": [
    {
     "data": {
      "text/plain": [
       "'Analista Programador para BackOffice'"
      ]
     },
     "execution_count": 17,
     "metadata": {},
     "output_type": "execute_result"
    }
   ],
   "source": []
  },
  {
   "cell_type": "code",
   "execution_count": 23,
   "id": "35995b9e-9ebe-458b-866e-ea76b8f283af",
   "metadata": {
    "tags": []
   },
   "outputs": [],
   "source": [
    "from langchain_openai import ChatOpenAI"
   ]
  },
  {
   "cell_type": "code",
   "execution_count": 33,
   "id": "0e5d2660-1377-485e-a1f0-b01c054f3b92",
   "metadata": {
    "tags": []
   },
   "outputs": [
    {
     "name": "stderr",
     "output_type": "stream",
     "text": [
      "C:\\Users\\regue\\conda_ENV\\Lib\\site-packages\\langchain_core\\_api\\deprecation.py:117: LangChainDeprecationWarning: The class `langchain_community.llms.openai.OpenAI` was deprecated in langchain-community 0.0.10 and will be removed in 0.2.0. An updated version of the class exists in the langchain-openai package and should be used instead. To use it run `pip install -U langchain-openai` and import as `from langchain_openai import OpenAI`.\n",
      "  warn_deprecated(\n"
     ]
    }
   ],
   "source": [
    "llm = OpenAI(model_name=\"gpt-3.5-turbo-instruct\", openai_api_key= openai_api_key)"
   ]
  },
  {
   "cell_type": "code",
   "execution_count": 47,
   "id": "604c86b0-cdb0-4083-a3bb-4188cba4362d",
   "metadata": {
    "tags": []
   },
   "outputs": [],
   "source": [
    "def categorizer(oferta):\n",
    "    \n",
    "    template = \"\"\"\n",
    "    Task: Rename Job Postings\n",
    "\n",
    "    Instructions:\n",
    "    Eres un reclutador experimentado que tiene que simplificar el nombre de la oferta de trabajo, \n",
    "    dando nombre y rango del puesto, eliminando cualquier información complementaria al puesto como \n",
    "    tecnologías, programas, lenguajes de programacion, forma de trabajo(oficina, remoto, hibrido), simbolos, ...\"\n",
    "\n",
    "    Ejemplos:\n",
    "    1. \"Junior Data Analyst with Java\" -> \"Junior Data Analyst\"\n",
    "    2. \"Senior Software Developer en Barcelona\" -> \"Senior Software Developer\"\n",
    "\n",
    "    ---\n",
    "\n",
    "    Job Postings:\n",
    "    1. Junior Data Analyst with SAP\n",
    "    2. Senior Software Developer with SAP HANA\n",
    "    3. ...\n",
    "\n",
    "    Expected Output:\n",
    "    1. Junior Data Analyst\n",
    "    2. Senior Software Developer\n",
    "    3. ...\n",
    "\n",
    "    ---\n",
    "\n",
    "    Rename the following job offer: {oferta}\n",
    "\n",
    "    \"\"\"\n",
    "\n",
    "    prompt = PromptTemplate(\n",
    "        input_variables=[\"oferta\"],\n",
    "        template=template,\n",
    "    )\n",
    "\n",
    "    final_prompt = prompt.format(oferta= oferta)\n",
    "\n",
    "    return llm(final_prompt).strip()"
   ]
  },
  {
   "cell_type": "code",
   "execution_count": 39,
   "id": "ec04b487-697b-4c99-a0e1-838946219c25",
   "metadata": {
    "tags": []
   },
   "outputs": [
    {
     "data": {
      "text/plain": [
       "'Junior Data Scientist'"
      ]
     },
     "execution_count": 39,
     "metadata": {},
     "output_type": "execute_result"
    }
   ],
   "source": []
  },
  {
   "cell_type": "code",
   "execution_count": null,
   "id": "48052124-b1f2-4d13-9376-91e1103b1f27",
   "metadata": {},
   "outputs": [],
   "source": []
  },
  {
   "cell_type": "code",
   "execution_count": null,
   "id": "b6c53747-1174-4470-ad18-ce17f87c446e",
   "metadata": {},
   "outputs": [],
   "source": []
  },
  {
   "cell_type": "code",
   "execution_count": null,
   "id": "5c04d54e-64a0-4906-a235-1beaa455a0fe",
   "metadata": {},
   "outputs": [],
   "source": []
  },
  {
   "cell_type": "code",
   "execution_count": null,
   "id": "e8b02315-fec3-4b57-9d77-b23ef5e9a5cd",
   "metadata": {},
   "outputs": [],
   "source": []
  },
  {
   "cell_type": "code",
   "execution_count": null,
   "id": "71f4d8a5-b400-4da2-bc90-ae269fd8ecc0",
   "metadata": {},
   "outputs": [],
   "source": []
  },
  {
   "cell_type": "code",
   "execution_count": null,
   "id": "77fa83a8-f9da-46b8-a9db-de1e8d4e897b",
   "metadata": {},
   "outputs": [],
   "source": []
  },
  {
   "cell_type": "code",
   "execution_count": null,
   "id": "4bc1ef9f-c2c2-4a89-b9ef-07db973fd2dc",
   "metadata": {},
   "outputs": [],
   "source": [
    "##################################################################################################################################################################"
   ]
  },
  {
   "cell_type": "code",
   "execution_count": 3,
   "id": "a7a1ce61-f23b-47e8-9610-a4e0b3471de6",
   "metadata": {},
   "outputs": [],
   "source": [
    "def add_columns (df, columns):\n",
    "    for col in columns:\n",
    "        if col not in df.columns:\n",
    "            df[col] = np.nan\n",
    "    return df"
   ]
  },
  {
   "cell_type": "code",
   "execution_count": 4,
   "id": "737b01c1-97d3-4826-9fd3-cdca843515ab",
   "metadata": {},
   "outputs": [],
   "source": [
    "def convert_to_lowercase(valor):\n",
    "    if isinstance(valor, str):\n",
    "        return valor.lower()\n",
    "    return valor"
   ]
  },
  {
   "cell_type": "code",
   "execution_count": 5,
   "id": "c7af0993-670c-4a4e-a631-ed67247262c0",
   "metadata": {},
   "outputs": [],
   "source": [
    "def remove_special_characters(df):\n",
    "    df_cleaned = df.replace(r'[^\\w\\sñÑ-]', '', regex=True)\n",
    "    df_cleaned = df_cleaned.map(lambda x: re.sub(r'[áéíóúü]', lambda m: unidecode(m.group()), str(x)))\n",
    "    return df_cleaned"
   ]
  },
  {
   "cell_type": "code",
   "execution_count": 6,
   "id": "c7e5cebc-7875-4dde-881a-606d355be045",
   "metadata": {},
   "outputs": [],
   "source": [
    "def extract_numbers(text):\n",
    "    match = re.search(r'\\d+', text)\n",
    "    if match:\n",
    "        return int(match.group())\n",
    "    else:\n",
    "        return None"
   ]
  },
  {
   "cell_type": "code",
   "execution_count": 7,
   "id": "d203504a-060e-4bce-8bda-1f38a86c3535",
   "metadata": {},
   "outputs": [],
   "source": [
    "columns = [\"titulo\"        , \"empresa\"      , \"fecha\",\n",
    "           \"herramientas\"  , \"descripcion\"  , \"ubicacion\",\n",
    "           \"presencialidad\", \"funciones\"    , \"jornada\",\n",
    "           \"experiencia\"   , \"tipo_contrato\", \"salario\",\n",
    "           \"beneficios\"    , \"solicitudes\"  , \"fecha_scrapeo\",\n",
    "           \"url\"           , \"portal\"]\n",
    "\n",
    "df_dic = {\"linkedin\"     : df_linkedin,   \"tecnoempleo\": df_tecnoempleo,\n",
    "          \"infojobs\"     : df_infojobs,   \"indeed\"     : df_indeed,\n",
    "          \"infoempleo\"   : df_infoempleo, #\"ticjob\"     : df_ticjob,\n",
    "          #\"talenthackers\": df_talenthackers\n",
    "         }\n",
    "\n",
    "columnas_numericas = [\"experiencia\", \"solicitudes\"]\n",
    "\n",
    "for key, df in df_dic.items():\n",
    "    df = add_columns(df, columns)\n",
    "    df = df.map(convert_to_lowercase)\n",
    "    df['fecha_scrapeo'] = pd.to_datetime(df['fecha_scrapeo'], format='%Y-%m-%d', errors='coerce').dt.date\n",
    "    df = remove_special_characters(df)\n",
    "    df[columnas_numericas] = df[columnas_numericas].map(extract_numbers)\n",
    "    df[columnas_numericas] = df[columnas_numericas].fillna(0).astype(int)\n",
    "    df = df.drop_duplicates(subset=df.columns.difference(['fecha', 'fecha_scrapeo', 'url', 'portal']))\n",
    "    df_dic[key] = df\n",
    "\n",
    "merged_df = pd.concat(df_dic.values())\n",
    "\n",
    "merged_df = merged_df[columns]\n",
    "\n",
    "merged_df.to_csv('datos_trabajos.csv', index=False)"
   ]
  },
  {
   "cell_type": "code",
   "execution_count": null,
   "id": "59437ce7-0d32-4071-a5b3-3c3f81fb849f",
   "metadata": {},
   "outputs": [],
   "source": []
  },
  {
   "cell_type": "markdown",
   "id": "fef57268-b331-4665-a4bb-7f58db1ba668",
   "metadata": {},
   "source": [
    "## Mapping"
   ]
  },
  {
   "cell_type": "markdown",
   "id": "cb3c5921-229b-4645-937c-10a34ece5ad2",
   "metadata": {},
   "source": [
    "### Presencialidad"
   ]
  },
  {
   "cell_type": "code",
   "execution_count": 8,
   "id": "491b2a96-afa1-4855-abd2-dafd2498f77f",
   "metadata": {},
   "outputs": [],
   "source": [
    "mapping_presencialidad  = {\n",
    "    r'.*remoto.*'     : 'remoto',\n",
    "    r'.*hibrido.*'    : 'hibrido',\n",
    "    r'.*presencial.*' : 'presencial'}\n",
    "\n",
    "def map_presencialidad(text):\n",
    "    for pattern, label in mapping_presencialidad.items():\n",
    "        if re.match(pattern, text, re.IGNORECASE):\n",
    "            return label\n",
    "    return 'no especificado'"
   ]
  },
  {
   "cell_type": "code",
   "execution_count": 9,
   "id": "a22a42a4-5efe-42b1-988c-4839f7aa4b57",
   "metadata": {},
   "outputs": [],
   "source": [
    "merged_df['presencialidad'] = merged_df['presencialidad'].apply(map_presencialidad)"
   ]
  },
  {
   "cell_type": "code",
   "execution_count": 10,
   "id": "046d5c3b-c52d-4d56-be37-eff7b40cd0d0",
   "metadata": {},
   "outputs": [
    {
     "data": {
      "text/plain": [
       "presencialidad\n",
       "no especificado    3391\n",
       "hibrido             853\n",
       "remoto              607\n",
       "presencial          191\n",
       "Name: count, dtype: int64"
      ]
     },
     "execution_count": 10,
     "metadata": {},
     "output_type": "execute_result"
    }
   ],
   "source": [
    "merged_df['presencialidad'].value_counts()"
   ]
  },
  {
   "cell_type": "markdown",
   "id": "be5865cc-b1e9-4055-9835-8fe344d28111",
   "metadata": {},
   "source": [
    "### Jornada"
   ]
  },
  {
   "cell_type": "code",
   "execution_count": 11,
   "id": "38d99915-3e13-4c5f-8030-49b96a3d6331",
   "metadata": {},
   "outputs": [],
   "source": [
    "mapping_jornada  = {\n",
    "    r'.*completa.*'             : 'jornada completa',\n",
    "    r'.*intensiva.*mañana.*'    : 'jornada intensiva de mañana',\n",
    "    r'.*parcial.*mañana.*'      : 'jornada parcial de mañana',\n",
    "    r'.*media.*'                : 'media jornada',\n",
    "    r'.*parcial.*indiferente.*' : 'jornada parcial indiferente',\n",
    "    r'.*practicas.*'            : 'practicas',\n",
    "    r'.*indiferente.*'          : 'jornada indiferente',\n",
    "    r'.*por horas.*'            : 'por horas',\n",
    "    r'.*obra.*'                 : 'contrato por obra',\n",
    "    r'.*temporal.*'             : 'contrato temporal',\n",
    "    r'.*autonomo.*'             : 'trabajo autonomo',\n",
    "    r'.*rotatorio.*'            : 'turno rotatorio',\n",
    "    r'.*tarde.*'                : 'jornada de tarde',\n",
    "    r'.*estudiantes.*'          : 'trabajo para estudiantes'\n",
    "}\n",
    "\n",
    "def map_jornada(text):\n",
    "    for pattern, label in mapping_jornada.items():\n",
    "        if re.match(pattern, text, re.IGNORECASE):\n",
    "            return label\n",
    "    return 'no especificado'"
   ]
  },
  {
   "cell_type": "code",
   "execution_count": 12,
   "id": "e1ff5b34-1d67-4d43-a261-33a5fb2a35af",
   "metadata": {},
   "outputs": [],
   "source": [
    "merged_df['jornada'] = merged_df['jornada'].apply(map_jornada)"
   ]
  },
  {
   "cell_type": "code",
   "execution_count": null,
   "id": "59267cc8-44ce-4ff5-a593-effa32615f07",
   "metadata": {},
   "outputs": [],
   "source": []
  },
  {
   "cell_type": "code",
   "execution_count": null,
   "id": "6093ee2a-aee0-456d-9697-e104f02c83c6",
   "metadata": {},
   "outputs": [],
   "source": []
  },
  {
   "cell_type": "code",
   "execution_count": 13,
   "id": "abaef813-f2f3-43eb-8bd5-0a8091edac77",
   "metadata": {},
   "outputs": [
    {
     "name": "stdout",
     "output_type": "stream",
     "text": [
      "<class 'pandas.core.frame.DataFrame'>\n",
      "Index: 5042 entries, 0 to 283\n",
      "Data columns (total 17 columns):\n",
      " #   Column          Non-Null Count  Dtype \n",
      "---  ------          --------------  ----- \n",
      " 0   titulo          5042 non-null   object\n",
      " 1   empresa         5042 non-null   object\n",
      " 2   fecha           5042 non-null   object\n",
      " 3   herramientas    5042 non-null   object\n",
      " 4   descripcion     5042 non-null   object\n",
      " 5   ubicacion       5042 non-null   object\n",
      " 6   presencialidad  5042 non-null   object\n",
      " 7   funciones       5042 non-null   object\n",
      " 8   jornada         5042 non-null   object\n",
      " 9   experiencia     5042 non-null   int32 \n",
      " 10  tipo_contrato   5042 non-null   object\n",
      " 11  salario         5042 non-null   object\n",
      " 12  beneficios      5042 non-null   object\n",
      " 13  solicitudes     5042 non-null   int32 \n",
      " 14  fecha_scrapeo   5042 non-null   object\n",
      " 15  url             5042 non-null   object\n",
      " 16  portal          5042 non-null   object\n",
      "dtypes: int32(2), object(15)\n",
      "memory usage: 669.6+ KB\n"
     ]
    }
   ],
   "source": [
    "merged_df.info()"
   ]
  },
  {
   "cell_type": "code",
   "execution_count": null,
   "id": "f0b54e01-9bd6-43b8-b1c7-2d411a277b44",
   "metadata": {},
   "outputs": [],
   "source": []
  },
  {
   "cell_type": "code",
   "execution_count": null,
   "id": "21005a6a-13c0-4569-b23d-61a0c5b318d7",
   "metadata": {},
   "outputs": [],
   "source": []
  }
 ],
 "metadata": {
  "kernelspec": {
   "display_name": "Python 3 (ipykernel)",
   "language": "python",
   "name": "python3"
  },
  "language_info": {
   "codemirror_mode": {
    "name": "ipython",
    "version": 3
   },
   "file_extension": ".py",
   "mimetype": "text/x-python",
   "name": "python",
   "nbconvert_exporter": "python",
   "pygments_lexer": "ipython3",
   "version": "3.11.5"
  }
 },
 "nbformat": 4,
 "nbformat_minor": 5
}
