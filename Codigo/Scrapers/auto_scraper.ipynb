{
 "cells": [
  {
   "cell_type": "markdown",
   "id": "45ad5f2e-68b7-41d8-a24f-b32c9912387e",
   "metadata": {
    "tags": []
   },
   "source": [
    "# Paquetes y Funciones"
   ]
  },
  {
   "cell_type": "code",
   "execution_count": 1,
   "id": "f4676c82-d9b9-4361-ba14-b0751c657c48",
   "metadata": {
    "tags": []
   },
   "outputs": [],
   "source": [
    "import nbimporter\n",
    "from funciones_scrapeo import *"
   ]
  },
  {
   "cell_type": "code",
   "execution_count": 2,
   "id": "e4ac0344-9246-40ab-b224-de69635d3047",
   "metadata": {
    "tags": []
   },
   "outputs": [
    {
     "data": {
      "text/plain": [
       "True"
      ]
     },
     "execution_count": 2,
     "metadata": {},
     "output_type": "execute_result"
    }
   ],
   "source": [
    "load_dotenv()"
   ]
  },
  {
   "cell_type": "markdown",
   "id": "268abf16-2c0a-467a-b619-ec85bfc0a6db",
   "metadata": {
    "tags": []
   },
   "source": [
    "# 1. Carga datos:"
   ]
  },
  {
   "cell_type": "code",
   "execution_count": 3,
   "id": "349788a9-dcac-4091-b728-a9c8bd903aa3",
   "metadata": {
    "tags": []
   },
   "outputs": [],
   "source": [
    "# Cargar las variables desde el archivo json\n",
    "with open('datos_scrapers.json', 'rb') as f:\n",
    "    datos = json.load(f)"
   ]
  },
  {
   "cell_type": "code",
   "execution_count": 4,
   "id": "0f5eec39-a2fe-44f5-8868-faedc4fec599",
   "metadata": {
    "tags": []
   },
   "outputs": [],
   "source": [
    "# User agent:\n",
    "user_agent = \"Mozilla/5.0 (Windows NT 10.0; Win64; x64) AppleWebKit/537.36 (KHTML, like Gecko) Chrome/118.0.0.0 Safari/537.36\"\n",
    "\n",
    "# Opciones:\n",
    "opts = Options()\n",
    "opts.add_argument(\"--disable-extensions\")\n",
    "opts.add_argument(f\"User-Agent={user_agent}\")\n",
    "\n",
    "# OPENAI API KEY:\n",
    "load_dotenv()\n",
    "openai_api_key= os.getenv('OPENAI_APIKEY')\n",
    "usuario = os.getenv('USUARIO_CORREO')\n",
    "password = os.getenv('USUARIO_PASSWORD')\n",
    "    \n",
    "######################################################################\n",
    "# Ruta de guardado:\n",
    "ruta_datos = os.getcwd().replace(\"Codigo\\\\Scrapers\", \"Datos\\\\datos_sin_procesar\\\\\")"
   ]
  },
  {
   "cell_type": "markdown",
   "id": "ccdf478c-eb65-443a-bd3f-629a30112e36",
   "metadata": {
    "tags": []
   },
   "source": [
    "# 2. Elegimos los portales que queremos scrapear:"
   ]
  },
  {
   "cell_type": "code",
   "execution_count": 6,
   "id": "3c1d40ba-780c-48de-906e-9de33d2383b4",
   "metadata": {
    "tags": []
   },
   "outputs": [],
   "source": [
    "dic_funciones = {#'ticjob' : [scraper_ticjob, None], \n",
    "                 'infoempleo' : [scraper_infoempleo, None], \n",
    "                 #'talenthacker' : [scraper_talenthacker, None], \n",
    "                 #'tecnoempleo' : [scraper_tecnoempleo, None], \n",
    "                 #'infojobs' : [scraper_infojobs, None], \n",
    "                 #'indeed' : [scraper_indeed, busqueda_indeed], \n",
    "                 #'linkedin' : [scraper_linkedin, busqueda_linkedin]\n",
    "                }"
   ]
  },
  {
   "cell_type": "code",
   "execution_count": 7,
   "id": "3eb67e91-e77b-480e-878b-fcc69d43180f",
   "metadata": {
    "tags": []
   },
   "outputs": [],
   "source": [
    "datos['portales_busqueda']['linkedin']['dic_datos']['usuario'] = usuario\n",
    "datos['portales_busqueda']['linkedin']['dic_datos']['password'] = password\n",
    "datos['portales_busqueda']['infojobs']['dic_datos']['api_key'] = openai_api_key"
   ]
  },
  {
   "cell_type": "code",
   "execution_count": 8,
   "id": "5de056d9-c2e8-4c57-bfff-396e8edd1e57",
   "metadata": {
    "tags": []
   },
   "outputs": [],
   "source": [
    "empleos = datos['empleos_a_buscar']"
   ]
  },
  {
   "cell_type": "code",
   "execution_count": 7,
   "id": "563195ff-25a2-4644-b49e-7fc00181f6d8",
   "metadata": {
    "tags": []
   },
   "outputs": [],
   "source": [
    "fecha_scrapeo = datetime.now().date()"
   ]
  },
  {
   "cell_type": "markdown",
   "id": "6d6bd203-5673-4b1b-8de2-36b0cf4b96de",
   "metadata": {},
   "source": [
    "## 2.1. Ejecutamos para obtener datos:"
   ]
  },
  {
   "cell_type": "code",
   "execution_count": null,
   "id": "20fc42aa-dcba-4c2f-88b9-ea546ec99894",
   "metadata": {
    "tags": []
   },
   "outputs": [],
   "source": [
    "for portal, datos_portal in datos['portales_busqueda'].items():\n",
    "    busqueda_por_empleo, busqueda_por_url, url, nombres_columnas, dic_datos = datos_portal.values()\n",
    "\n",
    "    try:\n",
    "        scraper, busqueda = dic_funciones[portal]\n",
    "    except:\n",
    "        continue\n",
    "    \n",
    "    #Abrimos el navegador y maximizamos la ventana\n",
    "    driver = webdriver.Chrome(options=opts)\n",
    "    driver.maximize_window()\n",
    "    driver.get(url)\n",
    "    sleep(2)\n",
    "    \n",
    "    #Busqueda y scrapeo de portales en los que hay que buscar empleos\n",
    "    if busqueda_por_empleo:\n",
    "        for empleo in empleos:\n",
    "            try:\n",
    "                busqueda(driver = driver, empleo = empleo, dic_datos = dic_datos)\n",
    "            \n",
    "            except:\n",
    "                print(f'{portal} - {empleo} no scrapeado')\n",
    "                continue\n",
    "            \n",
    "            scraper(empleo = empleo, driver = driver, fecha_scrapeo = fecha_scrapeo, portal = portal, nombres_columnas = nombres_columnas, ruta_datos = ruta_datos, dic_datos = dic_datos)\n",
    "            \n",
    "            sleep(60)\n",
    "            \n",
    "            driver.get(url)\n",
    "    \n",
    "    #Busqueda y scrapeo de portales en los que NO hay que buscar empleos\n",
    "    else:\n",
    "        scraper(driver = driver, fecha_scrapeo = fecha_scrapeo, portal = portal, nombres_columnas = nombres_columnas, ruta_datos = ruta_datos, dic_datos = dic_datos)\n",
    "    \n",
    "    driver.quit()\n",
    "    \n",
    "    df = pd.read_csv(ruta_datos + f'datos_{portal}.csv')\n",
    "    \n",
    "    procesar_datos_nuevos(df, portal, ruta_datos)"
   ]
  },
  {
   "cell_type": "code",
   "execution_count": null,
   "id": "3b3faeea-8b84-4884-97c8-eb87bceaf8fb",
   "metadata": {},
   "outputs": [],
   "source": []
  }
 ],
 "metadata": {
  "kernelspec": {
   "display_name": "Python 3 (ipykernel)",
   "language": "python",
   "name": "python3"
  },
  "language_info": {
   "codemirror_mode": {
    "name": "ipython",
    "version": 3
   },
   "file_extension": ".py",
   "mimetype": "text/x-python",
   "name": "python",
   "nbconvert_exporter": "python",
   "pygments_lexer": "ipython3",
   "version": "3.11.5"
  }
 },
 "nbformat": 4,
 "nbformat_minor": 5
}
