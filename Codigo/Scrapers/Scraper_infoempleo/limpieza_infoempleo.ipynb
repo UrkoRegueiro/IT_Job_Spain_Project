{
 "cells": [
  {
   "cell_type": "code",
   "execution_count": 1,
   "id": "aa5e243e-e5f6-490b-8c9a-098934b1cf01",
   "metadata": {
    "tags": []
   },
   "outputs": [],
   "source": [
    "import pandas as pd\n",
    "import datetime\n",
    "from datetime import date, datetime, timedelta"
   ]
  },
  {
   "cell_type": "code",
   "execution_count": 2,
   "id": "d19d5929-2235-4400-8ee0-73804119cf18",
   "metadata": {
    "tags": []
   },
   "outputs": [],
   "source": [
    "# día 25/01\n",
    "df_1 = pd.read_csv(\"infoempleo_1_182.csv\")\n",
    "df_2 = pd.read_csv(\"infoempleo_182_287.csv\")"
   ]
  },
  {
   "cell_type": "code",
   "execution_count": 3,
   "id": "4d1eaad1-8695-4631-8b2f-9edd1344e092",
   "metadata": {
    "tags": []
   },
   "outputs": [],
   "source": [
    "df = pd.concat([df_1, df_2], ignore_index=True)"
   ]
  },
  {
   "cell_type": "code",
   "execution_count": 5,
   "id": "6049f69a-b60b-4bca-a9cc-7542a7c28ab8",
   "metadata": {
    "tags": []
   },
   "outputs": [],
   "source": [
    "df.to_csv(\"datos_infoempleo.csv\", index= False, sep= \",\")"
   ]
  },
  {
   "cell_type": "code",
   "execution_count": null,
   "id": "99d31cb5-07b1-4474-8b0a-1eadbfec8afe",
   "metadata": {},
   "outputs": [],
   "source": []
  }
 ],
 "metadata": {
  "kernelspec": {
   "display_name": "Python 3 (ipykernel)",
   "language": "python",
   "name": "python3"
  },
  "language_info": {
   "codemirror_mode": {
    "name": "ipython",
    "version": 3
   },
   "file_extension": ".py",
   "mimetype": "text/x-python",
   "name": "python",
   "nbconvert_exporter": "python",
   "pygments_lexer": "ipython3",
   "version": "3.11.5"
  }
 },
 "nbformat": 4,
 "nbformat_minor": 5
}
