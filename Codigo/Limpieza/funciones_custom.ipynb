{
 "cells": [
  {
   "cell_type": "code",
   "execution_count": 1,
   "id": "4c13d37b-3462-4c95-811b-ca65ce4c519a",
   "metadata": {},
   "outputs": [],
   "source": [
    "# Básicos:\n",
    "import pandas as pd\n",
    "import numpy as np\n",
    "import json\n",
    "import re\n",
    "from collections import Counter\n",
    "from unidecode import unidecode\n",
    "from dotenv import load_dotenv\n",
    "import os\n",
    "\n",
    "# Tiempo\n",
    "import datetime\n",
    "from dateutil.relativedelta import relativedelta\n",
    "from datetime import datetime, timedelta\n",
    "\n",
    "# Texto\n",
    "import nltk\n",
    "from langdetect import detect\n",
    "\n",
    "# API\n",
    "import googlemaps\n",
    "\n",
    "# Extra\n",
    "import ipywidgets as widgets\n",
    "from IPython.display import display\n",
    "import tqdm\n",
    "import pickle"
   ]
  },
  {
   "cell_type": "markdown",
   "id": "bf3ecd5e-6883-4626-bb4c-6b5c41011ca6",
   "metadata": {},
   "source": [
    "# 1. Limpieza"
   ]
  },
  {
   "cell_type": "markdown",
   "id": "d7380956-b73f-48ad-a7ed-79e26df5686f",
   "metadata": {
    "jp-MarkdownHeadingCollapsed": true,
    "tags": []
   },
   "source": [
    "### 1.1. Añadimos columnas"
   ]
  },
  {
   "cell_type": "code",
   "execution_count": 2,
   "id": "4e4091f8-21f9-4b1c-aac1-c1330fc96202",
   "metadata": {},
   "outputs": [],
   "source": [
    "def add_columns (df, columns):\n",
    "    for col in columns:\n",
    "        if col not in df.columns:\n",
    "            df[col] = np.nan\n",
    "    return df"
   ]
  },
  {
   "cell_type": "code",
   "execution_count": 3,
   "id": "9436eefd-c756-4fee-a26d-1310f591aa3e",
   "metadata": {},
   "outputs": [],
   "source": [
    "def convert_to_lowercase(valor):\n",
    "    if isinstance(valor, str):\n",
    "        return valor.lower()\n",
    "    return valor"
   ]
  },
  {
   "cell_type": "markdown",
   "id": "4cdac960-0651-48ec-a2f4-5aea81e1da02",
   "metadata": {
    "jp-MarkdownHeadingCollapsed": true,
    "tags": []
   },
   "source": [
    "### 1.2. Quitamos todos los caracteres especiales"
   ]
  },
  {
   "cell_type": "code",
   "execution_count": 4,
   "id": "986d9f08-63c5-4414-9e58-9c8fb172a501",
   "metadata": {},
   "outputs": [],
   "source": [
    "def remove_special_characters(df, exclude_columns=['herramientas', 'url']):\n",
    "    for column in df.columns:\n",
    "        if column not in exclude_columns:\n",
    "            df[column] = df[column].replace(r'[^\\w\\s/ñÑ-]', '', regex=True)\n",
    "            df[column] = df[column].map(lambda x: re.sub(r'[áéíóúüàèìòù]', lambda m: unidecode(m.group()), str(x)))\n",
    "    return df"
   ]
  },
  {
   "cell_type": "markdown",
   "id": "7ff75735-b600-42ee-8543-283ce22ebf9e",
   "metadata": {
    "jp-MarkdownHeadingCollapsed": true,
    "tags": []
   },
   "source": [
    "### 1.3. Convertimos las columnas de fechas a DateTime"
   ]
  },
  {
   "cell_type": "code",
   "execution_count": 5,
   "id": "29cba093-6c97-43b8-9171-ddafe30f50b9",
   "metadata": {},
   "outputs": [],
   "source": [
    "def date_matching(date):\n",
    "    match = re.search(r'(\\d{1,2})/(\\d{1,2})/(\\d{4})|(\\d+)\\s*(minutos|hora|dia|semana|mes)', date)\n",
    "    \n",
    "    if match:\n",
    "        if match.group(1):\n",
    "            day = int(match.group(1))\n",
    "            month = int(match.group(2))\n",
    "            year = int(match.group(3))\n",
    "            return relativedelta(day=day, month=month, year=year)\n",
    "        else:\n",
    "            cantidad = int(match.group(4))\n",
    "            unidad = match.group(5)\n",
    "        \n",
    "            if unidad == 'minutos':\n",
    "                return relativedelta(minutes=cantidad)\n",
    "            elif unidad == 'hora':\n",
    "                return relativedelta(hours=cantidad)\n",
    "            elif unidad == 'dia':\n",
    "                return relativedelta(days=cantidad)\n",
    "            elif unidad == 'semana':\n",
    "                return relativedelta(weeks=cantidad)\n",
    "            elif unidad == 'mes':\n",
    "                return relativedelta(months=cantidad)\n",
    "    \n",
    "    return relativedelta()"
   ]
  },
  {
   "cell_type": "markdown",
   "id": "04ab8e81-a47e-4908-8dec-dc9d74f6e278",
   "metadata": {
    "tags": []
   },
   "source": [
    "### 1.4. Extraemos los datos numericos, salarios, beneficios y las herramientas"
   ]
  },
  {
   "cell_type": "markdown",
   "id": "36fd178e-ac81-4b26-9a2e-67741a208876",
   "metadata": {},
   "source": [
    "- ### Datos numéricos:"
   ]
  },
  {
   "cell_type": "code",
   "execution_count": 6,
   "id": "10ab144d-1414-4a71-afe1-e243bfb8704e",
   "metadata": {},
   "outputs": [],
   "source": [
    "def extract_numbers(text):\n",
    "    match = re.search(r'\\d+', text)\n",
    "    if match:\n",
    "        return int(match.group())\n",
    "    else:\n",
    "        return None"
   ]
  },
  {
   "cell_type": "markdown",
   "id": "0bea75f7-52e3-47d8-a8c5-7fe6f38c2c74",
   "metadata": {},
   "source": [
    "- ### Salarios:"
   ]
  },
  {
   "cell_type": "code",
   "execution_count": 7,
   "id": "b4f99ca4-9e08-4c06-921f-a1a76c34b5f3",
   "metadata": {},
   "outputs": [],
   "source": [
    "def encontrar_salarios(texto):\n",
    "    patron = re.compile(r'\\b\\d{2,3}[kK]\\s*-\\s*\\d{2,3}[kK]\\b|\\b\\d{5,6}\\s*-\\s*\\d{5,6}\\b')\n",
    "    matches = patron.findall(texto)\n",
    "    return matches"
   ]
  },
  {
   "cell_type": "code",
   "execution_count": 8,
   "id": "021ca5a8-5177-4931-8cf1-66991af4e78a",
   "metadata": {},
   "outputs": [],
   "source": [
    "def rellenar_salarios(df):\n",
    "    for idx, row in df.iterrows():\n",
    "        descripcion = row[\"descripcion\"]\n",
    "        salario = row[\"salario\"]\n",
    "        if pd.isna(salario):\n",
    "            if re.search(r'\\b\\d{2,3}[kK]\\s*-\\s*\\d{2,3}[kK]\\b|\\b\\d{5,6}\\s*-\\s*\\d{5,6}\\b', descripcion):\n",
    "                df.loc[idx, \"salario\"] = encontrar_salarios(descripcion)[0]"
   ]
  },
  {
   "cell_type": "markdown",
   "id": "6f1a462b-7b49-4fd3-a252-7e68b1ab0f6a",
   "metadata": {},
   "source": [
    "- ### Herramientas:"
   ]
  },
  {
   "cell_type": "code",
   "execution_count": 9,
   "id": "44767547-8625-4141-b8e4-ad7d579f7ce9",
   "metadata": {},
   "outputs": [],
   "source": [
    "def tool_cleaner(df, numero= 1000):\n",
    "\n",
    "    herramientas_totales = \"\"\n",
    "\n",
    "    for herramientas in df[\"herramientas\"]:\n",
    "        herramientas = str(herramientas)\n",
    "        herramientas_limpias = (re.sub(r'[^\\w\\s+]', '', herramientas) + \" \")\n",
    "        herramientas_totales += re.sub(r'[áéíóúüàèìòù]', lambda m: unidecode(m.group()), herramientas_limpias)\n",
    "    \n",
    "    # Tokenizamos las herramientas totales:\n",
    "    tokens = nltk.word_tokenize(text = herramientas_totales, language = \"spanish\")\n",
    "    stopwords = nltk.corpus.stopwords.words(\"spanish\")\n",
    "\n",
    "    # Quitamos stopwords:\n",
    "    clean_tokens = []\n",
    "    for token in tokens:\n",
    "        if token not in stopwords:\n",
    "            clean_tokens.append(token)\n",
    "\n",
    "    herramientas_sin_stopwords = \" \".join(clean_tokens)\n",
    "      \n",
    "    tool_count = Counter()\n",
    "    for herramienta in herramientas_sin_stopwords.split():    \n",
    "        tool_count[herramienta] += 1\n",
    "\n",
    "    common_tools = tool_count.most_common(numero)\n",
    "    \n",
    "    return common_tools"
   ]
  },
  {
   "cell_type": "code",
   "execution_count": 10,
   "id": "af113d91-6133-4b5a-b44b-c28e6bade5d4",
   "metadata": {},
   "outputs": [],
   "source": [
    "def buscar_herramienta(texto, herramienta):\n",
    "    if re.search(r'\\b' + herramienta + r'\\b', texto):\n",
    "        return True\n",
    "    return False"
   ]
  },
  {
   "cell_type": "markdown",
   "id": "7137c365-8e7a-41a9-8e5c-bfe8b7c9b2b3",
   "metadata": {},
   "source": [
    "- ### Beneficios:"
   ]
  },
  {
   "cell_type": "code",
   "execution_count": 11,
   "id": "3070f2c1-ccf5-4802-bc11-8ce0d7af0e35",
   "metadata": {},
   "outputs": [],
   "source": [
    "def buscar_beneficios(texto, lista_beneficios):\n",
    "    \n",
    "    beneficios = 0\n",
    "    for beneficio in lista_beneficios:\n",
    "        if re.search(r'\\b' + beneficio + r'\\b', texto):\n",
    "            beneficios += 1\n",
    "            if beneficios > 1:\n",
    "                return True\n",
    "            \n",
    "    return False"
   ]
  },
  {
   "cell_type": "markdown",
   "id": "74054d9d-5ba7-40bd-8e00-769f9eae1588",
   "metadata": {
    "jp-MarkdownHeadingCollapsed": true,
    "tags": []
   },
   "source": [
    "### 1.5. Asignamos ubicaciones"
   ]
  },
  {
   "cell_type": "code",
   "execution_count": 12,
   "id": "9e5d269e-e0b3-4022-9a08-8607cd8b9aac",
   "metadata": {},
   "outputs": [],
   "source": [
    "def asignar_ubicaciones(merged_df, lista_ubicaciones):\n",
    "    for index, row in merged_df.iterrows():\n",
    "        descripcion = row['descripcion']\n",
    "        ubicacion = row['ubicacion']\n",
    "\n",
    "        if pd.isna(ubicacion):\n",
    "            found_match = False\n",
    "            for sublista in lista_ubicaciones:\n",
    "                for label in sublista:\n",
    "                    label_cleaned = re.sub(r'[^\\w\\s]', '', str(label).lower())\n",
    "                    if label_cleaned in descripcion.lower():\n",
    "                        merged_df.at[index, 'ubicacion'] = label\n",
    "                        found_match = True\n",
    "                        break\n",
    "                if found_match:\n",
    "                    break\n",
    "\n",
    "            if not found_match:\n",
    "                merged_df.at[index, 'ubicacion'] = 'españa'"
   ]
  },
  {
   "cell_type": "markdown",
   "id": "804d8ae5-4918-4f7c-95e6-aef2370caccc",
   "metadata": {
    "tags": []
   },
   "source": [
    "### 1.6. Procesamos todos los Df"
   ]
  },
  {
   "cell_type": "code",
   "execution_count": 13,
   "id": "3eb2cf50-5966-40b7-85d9-6a4b700dcfe8",
   "metadata": {},
   "outputs": [],
   "source": [
    "def preprocess_dataframes(df_dic, columns, columnas_numericas):\n",
    "    for key, df in df_dic.items():\n",
    "        df = add_columns(df, columns)\n",
    "        df = df.dropna(subset=['titulo', 'empresa', 'descripcion'], thresh=2)\n",
    "        df = df.map(convert_to_lowercase)\n",
    "        df = remove_special_characters(df)\n",
    "        df[columnas_numericas] = df[columnas_numericas].map(extract_numbers)\n",
    "        df[columnas_numericas] = df[columnas_numericas].fillna(0).astype(int)\n",
    "        df = df.sort_values(by='fecha_scrapeo')\n",
    "        df = df.drop_duplicates(subset=df.columns.difference(['fecha', 'solicitudes', 'fecha_scrapeo', 'url', 'portal']), keep='first')\n",
    "        df_dic[key] = df"
   ]
  },
  {
   "cell_type": "markdown",
   "id": "81448027-9f68-4856-b319-033330aa7cb3",
   "metadata": {
    "jp-MarkdownHeadingCollapsed": true,
    "tags": []
   },
   "source": [
    "# 2. Mapping"
   ]
  },
  {
   "cell_type": "markdown",
   "id": "2ce5ebee-dc2c-4c6f-a760-2e8a23e5b84c",
   "metadata": {
    "tags": []
   },
   "source": [
    "### 2.1. Funciones del mapeo"
   ]
  },
  {
   "cell_type": "code",
   "execution_count": 14,
   "id": "ef65790b-a72a-4ca5-8a04-3392f3eaf597",
   "metadata": {},
   "outputs": [],
   "source": [
    "def map_titulo(text, mapping_titulo):\n",
    "    for pattern, label in mapping_titulo.items():\n",
    "        if re.match(pattern, text, re.IGNORECASE):\n",
    "            return label\n",
    "    return text"
   ]
  },
  {
   "cell_type": "code",
   "execution_count": 15,
   "id": "932accd3-31fd-4f83-87ee-f49d421844cd",
   "metadata": {},
   "outputs": [],
   "source": [
    "def map_presencialidad(text, mapping_presencialidad):\n",
    "    for pattern, label in mapping_presencialidad.items():\n",
    "        if re.match(pattern, text, re.IGNORECASE):\n",
    "            return label\n",
    "    return 'no especificado'"
   ]
  },
  {
   "cell_type": "code",
   "execution_count": 16,
   "id": "38287a85-6e44-406e-bb24-dc7f91fba95a",
   "metadata": {},
   "outputs": [],
   "source": [
    "def map_jornada(text, mapping_jornada):\n",
    "    for pattern, label in mapping_jornada.items():\n",
    "        if re.match(pattern, text, re.IGNORECASE):\n",
    "            return label\n",
    "    return 'no especificado'"
   ]
  },
  {
   "cell_type": "code",
   "execution_count": 17,
   "id": "93abf3fa-ccd1-4951-b42f-fda56529ca98",
   "metadata": {},
   "outputs": [],
   "source": [
    "def map_contrato(text, mapping_contrato):\n",
    "    for pattern, label in mapping_contrato.items():\n",
    "        if re.match(pattern, text, re.IGNORECASE):\n",
    "            return label\n",
    "    return 'no especificado'"
   ]
  },
  {
   "cell_type": "markdown",
   "id": "2572bea6-79c0-495e-8e94-7515c98667e6",
   "metadata": {
    "tags": []
   },
   "source": [
    "# 3. Apis"
   ]
  },
  {
   "cell_type": "markdown",
   "id": "bcdaf9c9-957f-4e63-8397-928ae4a10549",
   "metadata": {
    "tags": []
   },
   "source": [
    "## 3.1. GoogleMaps"
   ]
  },
  {
   "cell_type": "markdown",
   "id": "3eea7774-a7a9-4cc7-ab8b-e4f236b7a38e",
   "metadata": {
    "jp-MarkdownHeadingCollapsed": true,
    "tags": []
   },
   "source": [
    "- ### Ajuste para la api"
   ]
  },
  {
   "cell_type": "code",
   "execution_count": 18,
   "id": "1ce1b6cc-90e7-44f7-964c-4482930c2f61",
   "metadata": {},
   "outputs": [],
   "source": [
    "def obtener_dato_ubicacion(palabra_localizador, geocode_result):\n",
    "    try:\n",
    "        dato = [elemento['long_name'] for elemento in geocode_result if palabra_localizador in elemento['types']][0]\n",
    "        return dato\n",
    "    except:\n",
    "        return np.nan"
   ]
  },
  {
   "cell_type": "code",
   "execution_count": 19,
   "id": "e62218ee-13b6-40c5-a894-bee9e2380e67",
   "metadata": {},
   "outputs": [],
   "source": [
    "def agregar_galicia(row):\n",
    "    if 'galicia' in str(row['ubicacion']):\n",
    "        return 'Galicia', 'España'\n",
    "        \n",
    "    elif pd.isnull(row['comunidad']):\n",
    "        provincias_galicia = ['A Coruña', 'La Coruña', 'Pontevedra', 'Lugo', 'Ourense']\n",
    "        if row['provincia'] in provincias_galicia:\n",
    "            return 'Galicia', 'España'\n",
    "            \n",
    "    return row['comunidad'], row['pais']"
   ]
  },
  {
   "cell_type": "code",
   "execution_count": null,
   "id": "e37cc7eb-3105-447c-9587-890f7d136188",
   "metadata": {},
   "outputs": [],
   "source": [
    "def obtener_dato_ubicacion(tipo_dato, address_components):\n",
    "    for component in address_components:\n",
    "        if tipo_dato in component['types']:\n",
    "            return component['long_name']\n",
    "    return np.nan"
   ]
  },
  {
   "cell_type": "code",
   "execution_count": null,
   "id": "2bb821da-d927-48da-ad36-4ab0a28c1669",
   "metadata": {},
   "outputs": [],
   "source": [
    "def obtener_ubicaciones(df, gmaps, MAPS_API_KEY):\n",
    "    localidades = []\n",
    "    provincias = []\n",
    "    comunidades = []\n",
    "    paises = []\n",
    "    latitudes = []\n",
    "    longitudes = []\n",
    "    ubicaciones_fallidas = []\n",
    "\n",
    "    for idx, row in tqdm.tqdm(df.iterrows(), total=len(df)):\n",
    "        ubicacion = row['ubicacion']\n",
    "            \n",
    "        geocode_result = gmaps.geocode(ubicacion, language='es')\n",
    "\n",
    "        if geocode_result:\n",
    "            localidad = obtener_dato_ubicacion('locality', geocode_result[0]['address_components'])\n",
    "            provincia = obtener_dato_ubicacion('administrative_area_level_2', geocode_result[0]['address_components'])\n",
    "            comunidad = obtener_dato_ubicacion('administrative_area_level_1', geocode_result[0]['address_components'])\n",
    "            pais = obtener_dato_ubicacion('country', geocode_result[0]['address_components'])\n",
    "            latitud = geocode_result[0]['geometry']['location']['lat']\n",
    "            longitud = geocode_result[0]['geometry']['location']['lng']\n",
    "            print(f'Localidad: {localidad}, Provincia: {provincia}, Comunidad: {comunidad}, Pais: {pais} Latitud: {latitud}, Longitud: {longitud}')\n",
    "        else:\n",
    "            localidad, provincia, comunidad, pais, latitud, longitud = (np.nan,) * 6\n",
    "            ubicaciones_fallidas.append(ubicacion)\n",
    "            print(f'No se encontraron resultados en: {ubicacion}')\n",
    "\n",
    "        localidades.append(localidad)\n",
    "        provincias.append(provincia)\n",
    "        comunidades.append(comunidad)\n",
    "        paises.append(pais)\n",
    "        latitudes.append(latitud)\n",
    "        longitudes.append(longitud)\n",
    "\n",
    "    df['localidad'] = localidades\n",
    "    df['provincia'] = provincias\n",
    "    df['comunidad'] = comunidades\n",
    "    df['pais'] = paises\n",
    "    df['latitud'] = latitudes\n",
    "    df['longitud'] = longitudes\n",
    "\n",
    "    return df, ubicaciones_fallidas"
   ]
  }
 ],
 "metadata": {
  "kernelspec": {
   "display_name": "Python 3 (ipykernel)",
   "language": "python",
   "name": "python3"
  },
  "language_info": {
   "codemirror_mode": {
    "name": "ipython",
    "version": 3
   },
   "file_extension": ".py",
   "mimetype": "text/x-python",
   "name": "python",
   "nbconvert_exporter": "python",
   "pygments_lexer": "ipython3",
   "version": "3.11.5"
  }
 },
 "nbformat": 4,
 "nbformat_minor": 5
}
