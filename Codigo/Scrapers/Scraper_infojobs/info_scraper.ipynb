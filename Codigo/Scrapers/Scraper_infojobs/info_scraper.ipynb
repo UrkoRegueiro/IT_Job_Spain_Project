{
 "cells": [
  {
   "cell_type": "code",
   "execution_count": 1,
   "id": "690db2b6-3b75-416c-b0cc-10ea081d8abf",
   "metadata": {
    "tags": []
   },
   "outputs": [],
   "source": [
    "import requests \n",
    "\n",
    "from bs4 import BeautifulSoup\n",
    "import selenium\n",
    "from selenium import webdriver\n",
    "from selenium.webdriver.common.by import By\n",
    "from selenium.webdriver.common.keys import Keys\n",
    "from selenium.webdriver.chrome.options import Options\n",
    "\n",
    "from time import sleep\n",
    "import pandas as pd\n",
    "import numpy as np\n",
    "import datetime\n",
    "import os"
   ]
  },
  {
   "cell_type": "markdown",
   "id": "37ff0953-90bd-4111-ad54-25dc441473e9",
   "metadata": {},
   "source": [
    "# Inicializar parametros iniciales"
   ]
  },
  {
   "cell_type": "code",
   "execution_count": 2,
   "id": "859a30c2-1cd1-40b6-8151-82481e59494a",
   "metadata": {
    "tags": []
   },
   "outputs": [],
   "source": [
    "# PONER USER-AGENT PROPIO:\n",
    "user_agent = \"Mozilla/5.0 (Windows NT 10.0; Win64; x64) AppleWebKit/537.36 (KHTML, like Gecko) Chrome/118.0.0.0 Safari/537.36\"\n",
    "# Options:\n",
    "opts = Options()\n",
    "opts.add_argument(\"--disable-extensions\")\n",
    "opts.add_argument(f\"User-Agent={user_agent}\")"
   ]
  },
  {
   "cell_type": "markdown",
   "id": "00394ecd-a5d3-4aed-bd85-258c4e689596",
   "metadata": {},
   "source": [
    "# URL de los empleos en cada página"
   ]
  },
  {
   "cell_type": "code",
   "execution_count": 3,
   "id": "30a02ba7-7a45-4363-bfc0-a3f71559c683",
   "metadata": {},
   "outputs": [],
   "source": [
    "# Defino lista url empleos:\n",
    "url_empleos = []"
   ]
  },
  {
   "cell_type": "code",
   "execution_count": 9,
   "id": "5a6e9a61-661b-4d8d-bd4e-57fe6407ddc8",
   "metadata": {
    "tags": []
   },
   "outputs": [],
   "source": [
    "pagina = 1\n",
    "url_infojobs = f\"https://www.infojobs.net/ofertas-trabajo/informatica-telecomunicaciones?keyword=&categoryIds=150&segmentId=&page={pagina}&sortBy=PUBLICATION_DATE&onlyForeignCountry=false&sinceDate=ANY\"\n",
    "url_infojobs_nuevas = f\"https://www.infojobs.net/jobsearch/search-results/list.xhtml?keyword=&categoryIds=150&segmentId=&page={pagina}&sortBy=PUBLICATION_DATE&onlyForeignCountry=false&sinceDate=_24_HOURS\"\n",
    "\n",
    "# Initialize:\n",
    "browser = webdriver.Chrome(options=opts)\n",
    "browser.maximize_window()\n",
    "browser.get(url_infojobs_nuevas)\n",
    "\n",
    "##########Captcha##########\n",
    "sleep(15)\n",
    "###########################\n",
    "\n",
    "# Acepto cookies\n",
    "browser.find_elements(By.ID, \"didomi-notice-agree-button\")[0].click()\n",
    "\n",
    "while True:\n",
    "    \n",
    "    # Saco url empleos:\n",
    "    soup_urls = BeautifulSoup(browser.page_source, \"html.parser\")\n",
    "\n",
    "    try:\n",
    "        urls = soup_urls.find_all(\"div\", class_= \"ij-OfferCardContent-description\")\n",
    "    except:\n",
    "        break\n",
    "\n",
    "    for url in urls:\n",
    "        oferta_url = url.find(\"h2\").find(\"a\")[\"href\"].replace(\"//\", \"\")\n",
    "        url_empleos.append(oferta_url)\n",
    "\n",
    "    pagina += 1\n",
    "    browser.find_elements(By.CLASS_NAME, \"sui-MoleculePagination-item\")[-1].click()\n",
    "    sleep(2)\n",
    "    \n",
    "    lim_paginas = len(browser.find_elements(By.CLASS_NAME, \"sui-MoleculePagination-item\"))\n",
    "    \n",
    "    if pagina > 1:\n",
    "        if lim_paginas < 7:\n",
    "            break"
   ]
  },
  {
   "cell_type": "code",
   "execution_count": 10,
   "id": "3334666f-65d1-40e4-9c6b-9cef7fdbb874",
   "metadata": {
    "tags": []
   },
   "outputs": [],
   "source": [
    "url_empleos_final = [\"https://\" + empleo for empleo in url_empleos]"
   ]
  },
  {
   "cell_type": "code",
   "execution_count": 3,
   "id": "2240ca67-5ca7-42b4-8bf7-806401acae30",
   "metadata": {
    "tags": []
   },
   "outputs": [],
   "source": [
    "# df_urls_empleo = pd.DataFrame(url_empleos_final, columns= [\"url\"])\n",
    "# df_urls_empleo.to_csv(\"url_empleos.csv\", index= False, sep = \",\")"
   ]
  },
  {
   "cell_type": "markdown",
   "id": "84fe1b40-495c-4393-8e8b-82b40c7829fc",
   "metadata": {},
   "source": [
    "# Saco la info de cada empleo:"
   ]
  },
  {
   "cell_type": "code",
   "execution_count": 4,
   "id": "a9b60492-bc1d-4b5c-90d0-841906be0667",
   "metadata": {
    "tags": []
   },
   "outputs": [],
   "source": [
    "# En caso de haber guardado csv de urls:\n",
    "# df_urls_empleo = pd.read_csv(\"url_empleos.csv\")\n",
    "# url_empleos_final = [url[0] for url in df_urls_empleo.values.tolist()]"
   ]
  },
  {
   "cell_type": "code",
   "execution_count": 4,
   "id": "e8e9fd2f-324c-49ee-91bc-d2f012dac401",
   "metadata": {
    "tags": []
   },
   "outputs": [],
   "source": [
    "datos_ofertas_empleo = []\n",
    "contador = 0"
   ]
  },
  {
   "cell_type": "code",
   "execution_count": null,
   "id": "78f18e30-e4ea-42e3-a32c-fa64fbc24cc1",
   "metadata": {
    "tags": []
   },
   "outputs": [],
   "source": [
    "portal = \"infojobs\"\n",
    "fecha_scrapeo = datetime.datetime.now().date()\n",
    "\n",
    "for empleo in url_empleos_final[contador:]:\n",
    "    \n",
    "    if contador == 0:\n",
    "        browser = webdriver.Chrome(options=opts)\n",
    "        browser.maximize_window()\n",
    "        browser.get(empleo)\n",
    "        \n",
    "        ##########Captcha##########\n",
    "        sleep(15)\n",
    "        ###########################\n",
    "\n",
    "        # Acepto cookies\n",
    "        browser.find_elements(By.ID, \"didomi-notice-agree-button\")[0].click()\n",
    "        sleep(1)\n",
    "        \n",
    "    else:\n",
    "        browser.get(empleo)\n",
    "        sleep(3)\n",
    "        \n",
    "    # Saco información relevante de la oferta:    \n",
    "    soup_oferta = BeautifulSoup(browser.page_source, \"html.parser\")\n",
    "    \n",
    "    try:\n",
    "        captcha = soup_oferta.find(\"div\", attrs= attrs_ad).text        \n",
    "        if captcha == \"Hacer clic para comprobarReintentar\":\n",
    "            break\n",
    "    except:\n",
    "        pass\n",
    "\n",
    "    try:\n",
    "        attrs_tit= {\"id\": \"prefijoPuesto\"}\n",
    "        titulo = soup_oferta.find(\"div\", class_= \"heading-addons\").find(\"h1\", attrs= attrs_tit).text\n",
    "    except:\n",
    "        titulo = np.nan\n",
    "    try:\n",
    "        empresa = soup_oferta.find(\"div\", class_= \"heading-addons\").find(\"a\", class_= \"link\").text\n",
    "    except:\n",
    "        empresa = np.nan\n",
    "    try:\n",
    "        fecha = soup_oferta.find(\"div\", class_= \"row-matrioska\").find(\"span\", class_= \"marked\").text\n",
    "    except:\n",
    "        try:\n",
    "            lista_bullets = soup_oferta.find(\"div\", class_= \"row-matrioska\").find(\"ul\", class_= \"list-bullet-default\").find_all(\"li\")\n",
    "            for bullet in lista_bullets:\n",
    "                tag_bullet = bullet.text.strip()[:9]\n",
    "                if tag_bullet == \"Publicada\":\n",
    "                    fecha = bullet.text.strip()[12:]\n",
    "        except:\n",
    "            fecha = np.nan\n",
    "        \n",
    "    attrs_ubic= {\"id\": \"prefijoPoblacion\"}\n",
    "    try:\n",
    "        ubicacion = soup_oferta.find(\"div\", class_= \"row-matrioska\").find(\"span\", attrs= attrs_ubic).text.replace(\",\", \"\").strip()\n",
    "    except:\n",
    "        ubicacion = np.nan\n",
    "        \n",
    "    attrs_descr= {\"id\": \"prefijoDescripcion1\"}\n",
    "    try:\n",
    "        descripcion = soup_oferta.find(\"div\", attrs= attrs_descr).text.replace(\"\\n\", \"\").strip()\n",
    "    except:\n",
    "        descripcion = np.nan\n",
    "    try:\n",
    "        lista_li = soup_oferta.find(\"div\", class_= \"row-matrioska\").find_all(\"li\")        \n",
    "    \n",
    "        for li in lista_li:\n",
    "\n",
    "            tag = li.find(\"span\").text[:7]\n",
    "\n",
    "            if tag == \"Salario\":\n",
    "                salario = li.find(\"span\").text[9:]\n",
    "\n",
    "            elif tag == \"Experie\":\n",
    "                experiencia = li.find(\"span\").text[20:]\n",
    "\n",
    "            elif tag == \"Tipo de\":\n",
    "\n",
    "                tipo_contrato = li.find(\"span\").text[18:].split(\",\")[0]\n",
    "\n",
    "                jornada = li.find(\"span\").text[18:].split(\",\")[-1]\n",
    "    except:\n",
    "        salario = np.nan\n",
    "        experiencia = np.nan\n",
    "        tipo_contrato = np.nan\n",
    "        jornada = np.nan\n",
    "        \n",
    "    try:\n",
    "        lista_herramientas = soup_oferta.find(\"div\", class_= \"inner-expanded\").find(\"ul\", class_= \"list-default\").find_all(\"a\")\n",
    "        herramientas = [herramienta.text for herramienta in lista_herramientas]\n",
    "    except:\n",
    "        herramientas = np.nan\n",
    "        \n",
    "    try:\n",
    "        funciones = soup_oferta.find(\"div\", class_= \"border-top\").find(\"ul\").find(\"span\", class_= \"list-default-text\").text\n",
    "    except:\n",
    "        funciones = np.nan\n",
    "    \n",
    "    datos_ofertas_empleo.append([titulo, empresa, fecha, herramientas, descripcion, ubicacion, funciones, jornada, experiencia, tipo_contrato, salario, fecha_scrapeo, empleo, portal])\n",
    "    contador += 1\n",
    "    \n",
    "    if contador % 100 == 0:\n",
    "        sleep(20)"
   ]
  },
  {
   "cell_type": "code",
   "execution_count": 13,
   "id": "73e48379-7adf-4801-b06b-336265238fef",
   "metadata": {
    "tags": []
   },
   "outputs": [],
   "source": [
    "df_infojobs = pd.DataFrame(datos_ofertas_empleo, columns= [\"titulo\", \"empresa\", \"fecha\", \"herramientas\", \"descripcion\", \"ubicacion\", \"funciones\", \"jornada\", \"experiencia\", \"tipo_contrato\", \"salario\", \"fecha_scrapeo\", \"url\", \"portal\"])"
   ]
  },
  {
   "cell_type": "code",
   "execution_count": 15,
   "id": "e3d7ac48-f64b-4c7a-ac0e-f9f16da2617b",
   "metadata": {
    "tags": []
   },
   "outputs": [],
   "source": [
    "df_infojobs = df_infojobs.dropna(how= \"all\")"
   ]
  },
  {
   "cell_type": "code",
   "execution_count": 18,
   "id": "4f51895a-3133-4e17-9f8b-cdf574e93de2",
   "metadata": {
    "tags": []
   },
   "outputs": [],
   "source": [
    "# Lo guardo en la ruta de datos:\n",
    "fecha = datetime.datetime.now().strftime(\"%d-%m-%y\")\n",
    "ruta_datos = \"C:\\\\Users\\\\regue\\\\Desktop\\\\Data Science Projects\\\\PROJECTS\\\\IT_Job_Spain_Project\\\\Datos\\\\datos_sin_procesar\\\\\"\n",
    "nombre_archivo = f\"datos_infojobs_{fecha}.csv\"\n",
    "ruta_completa = os.path.join(ruta_datos, nombre_archivo)\n",
    "\n",
    "df_infojobs.to_csv(ruta_completa, index=False, sep=\",\")"
   ]
  }
 ],
 "metadata": {
  "kernelspec": {
   "display_name": "Python 3 (ipykernel)",
   "language": "python",
   "name": "python3"
  },
  "language_info": {
   "codemirror_mode": {
    "name": "ipython",
    "version": 3
   },
   "file_extension": ".py",
   "mimetype": "text/x-python",
   "name": "python",
   "nbconvert_exporter": "python",
   "pygments_lexer": "ipython3",
   "version": "3.11.5"
  }
 },
 "nbformat": 4,
 "nbformat_minor": 5
}
