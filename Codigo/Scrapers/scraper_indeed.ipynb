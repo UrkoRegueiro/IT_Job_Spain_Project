{
 "cells": [
  {
   "cell_type": "code",
   "execution_count": 1,
   "id": "79e5eeff-c287-4446-a26d-8197c89ed853",
   "metadata": {
    "tags": []
   },
   "outputs": [],
   "source": [
    "import nbimporter\n",
    "from librerias_funciones import *"
   ]
  },
  {
   "cell_type": "code",
   "execution_count": 2,
   "id": "502c3dc5-c4ff-4ece-b272-1b1fe9b6b854",
   "metadata": {
    "tags": []
   },
   "outputs": [],
   "source": [
    "#Definimos los tipos de trabajo que nos ofrece indeed\n",
    "tipos_trabajos = ('Remoto híbrido', 'Teletrabajo')\n",
    "fecha_scrapeo = datetime.now().date()\n",
    "\n",
    "def scrapear_indeed(empleo):\n",
    "    \n",
    "    while True:\n",
    "        data = []\n",
    "        sleep(4)\n",
    "        try:\n",
    "            #Cerrar banner\n",
    "            banner = driver.find_element(By.CSS_SELECTOR, 'button[aria-label = \"cerrar\"]')\n",
    "            banner.click()\n",
    "\n",
    "        except:\n",
    "            next\n",
    "\n",
    "        ofertas = driver.find_elements(By.CLASS_NAME, 'job_seen_beacon')\n",
    "        for oferta in ofertas:\n",
    "            driver.execute_script(\"arguments[0].scrollIntoView();\", oferta)\n",
    "            sleep(2)\n",
    "            oferta.click()\n",
    "            sleep(3)\n",
    "\n",
    "            titulo = WebDriverWait(driver, 30).until(EC.visibility_of_element_located((By.CSS_SELECTOR, 'h2[data-testid = \"jobsearch-JobInfoHeader-title\"]')))\n",
    "            titulo = titulo.text.split('\\n')[0]\n",
    "\n",
    "            empresa = WebDriverWait(driver, 30).until(EC.visibility_of_element_located((By.CSS_SELECTOR, 'div[data-testid = \"inlineHeader-companyName\"]')))\n",
    "            empresa = empresa.text\n",
    "\n",
    "            descripcion = WebDriverWait(driver, 30).until(EC.visibility_of_element_located((By.ID, 'jobDescriptionText')))\n",
    "            descripcion = descripcion.text.replace('\\n', ' ')\n",
    "\n",
    "            fecha = WebDriverWait(driver, 30).until(EC.visibility_of_element_located((By.CLASS_NAME, 'date')))\n",
    "            fecha = fecha.text.split('\\n')[1]\n",
    "\n",
    "            ubicacion_presencialidad = WebDriverWait(driver, 30).until(EC.visibility_of_element_located((By.CSS_SELECTOR, 'div[data-testid = \"inlineHeader-companyLocation\"]')))\n",
    "            ubicacion_presencialidad = ubicacion_presencialidad.text.split('•')\n",
    "\n",
    "            if len(ubicacion_presencialidad) > 1:\n",
    "                ubicacion, presencialidad = ubicacion_presencialidad\n",
    "            else:\n",
    "                if ubicacion_presencialidad in tipos_trabajos:\n",
    "                    presencialidad = ubicacion_presencialidad[0]\n",
    "                    ubicacion = np.nan\n",
    "                else:\n",
    "                    ubicacion = ubicacion_presencialidad[0]\n",
    "                    presencialidad = np.nan\n",
    "            try:\n",
    "                beneficios = driver.find_element(By.ID, 'benefits').text\n",
    "                beneficios = beneficios.replace('Beneficios\\nObtenidos de la descripción completa del empleo\\n','').split('\\n')\n",
    "\n",
    "            except:\n",
    "                beneficios = np.nan\n",
    "                next\n",
    "\n",
    "            detalles_a_buscar = {'Salario' : np.nan, 'Tipo de empleo' : np.nan}   \n",
    "\n",
    "            try:\n",
    "                detalles = driver.find_element(By.ID, 'jobDetailsSection')\n",
    "                detalles = detalles.text.split('\\n')    \n",
    "\n",
    "                for detalle in detalles_a_buscar.keys():\n",
    "                    if detalle in detalles:\n",
    "                        idx = detalles.index(detalle)\n",
    "                        detalles_a_buscar[detalle] = detalles[idx + 1]\n",
    "            except:\n",
    "                next\n",
    "\n",
    "            salario, jornada = detalles_a_buscar.values()\n",
    "\n",
    "            url = driver.current_url\n",
    "\n",
    "            data.append([titulo, empresa, fecha, descripcion, ubicacion, jornada, presencialidad, salario, beneficios, fecha_scrapeo, url, portal_busqueda])\n",
    "            \n",
    "        #Guardamos cada vez que termina de sacrapear una pagina\n",
    "        guardar_datos(portal_busqueda = portal_busqueda, nombres_columnas = nombres_columnas, data = data)\n",
    "\n",
    "        pagina_actual = int(driver.find_element(By.CSS_SELECTOR, 'a[data-testid = \"pagination-page-current\"]').text)\n",
    "\n",
    "        try:\n",
    "            driver.find_element(By.CSS_SELECTOR, f'a[data-testid = \"pagination-page-{pagina_actual + 1}\"]').click()\n",
    "            sleep(3)\n",
    "        except:\n",
    "            driver.quit()\n",
    "            print(f'{empleo} - Scrapeo completado')\n",
    "            break"
   ]
  },
  {
   "cell_type": "code",
   "execution_count": 3,
   "id": "139b67d2-874c-4b23-b155-fdec89c5ee6c",
   "metadata": {
    "tags": []
   },
   "outputs": [],
   "source": [
    "url = 'https://es.indeed.com/'\n",
    "usuario = 'bruno.octavio.tomas@gmail.com'\n",
    "password = 'password123'\n",
    "\n",
    "empleos_castellano = [\n",
    "    \"Desarrollador de software\",\n",
    "    \"Ingeniero de desarrollo\",\n",
    "    \"Analista de sistemas\",\n",
    "    \"Desarrollador web\",\n",
    "    \"Ingeniero DevOps\",\n",
    "    \"Administrador de bases de datos\",\n",
    "    \"Científico de datos\",\n",
    "    \"Ingeniero de aprendizaje automático\",\n",
    "    \"Desarrollador de aplicaciones\",\n",
    "    \"Analista de seguridad informática\",\n",
    "    \"Ingeniero de redes\",\n",
    "    \"Ingeniero de sistemas\",\n",
    "    \"Desarrollador de juegos\",\n",
    "    \"Analista de negocios de TI\",\n",
    "    \"Arquitecto de software\",\n",
    "    \"Ingeniero de pruebas de software\",\n",
    "    \"Desarrollador de interfaces de usuario\",\n",
    "    \"Ingeniero de automatización\",\n",
    "    \"Especialista en análisis de rendimiento\",\n",
    "    \"Ingeniero de realidad extendida\"\n",
    "]\n",
    "\n",
    "empleos_ingles = [\n",
    "    \"Software Developer\",\n",
    "    \"Development Engineer\",\n",
    "    \"Systems Analyst\",\n",
    "    \"Web Developer\",\n",
    "    \"DevOps Engineer\",\n",
    "    \"Database Administrator\",\n",
    "    \"Data Scientist\",\n",
    "    \"Machine Learning Engineer\",\n",
    "    \"Applications Developer\",\n",
    "    \"IT Security Analyst\",\n",
    "    \"Network Engineer\",\n",
    "    \"Systems Engineer\",\n",
    "    \"Game Developer\",\n",
    "    \"IT Business Analyst\",\n",
    "    \"Software Architect\",\n",
    "    \"Software Test Engineer\",\n",
    "    \"UI/UX Developer\",\n",
    "    \"Automation Engineer\",\n",
    "    \"Performance Analyst\",\n",
    "    \"Extended Reality Engineer\"\n",
    "]\n",
    "\n",
    "ubicacion_a_buscar = 'España'\n",
    "nombres_columnas = ['titulo', 'empresa', 'fecha', 'descripcion', 'ubicacion', 'jornada',\n",
    "       'presencialidad', 'salario', 'beneficios', 'fecha_scrapeo', 'url',\n",
    "       'portal']\n",
    "portal_busqueda = 'indeed'\n",
    "\n",
    "opciones_fechas_publicacion = ['Últimas 24 horas', 'Últimos 3 días', 'Últimos 7 días', 'Últimos 14 días']"
   ]
  },
  {
   "cell_type": "code",
   "execution_count": 4,
   "id": "c01fa24e-02c7-44a5-bb1e-321775fab76f",
   "metadata": {
    "tags": []
   },
   "outputs": [
    {
     "data": {
      "text/plain": [
       "\"\\n# Asignar la función de manejo a los cambios en la selección\\nselector_variable = crear_widget_seleccion(opciones_fechas_publicacion)\\nselector_variable.observe(handle_variable_selection, names='value')\\n\\n# Mostrar el widget\\ndisplay(selector_variable)\\n\""
      ]
     },
     "execution_count": 4,
     "metadata": {},
     "output_type": "execute_result"
    }
   ],
   "source": [
    "'''\n",
    "# Asignar la función de manejo a los cambios en la selección\n",
    "selector_variable = crear_widget_seleccion(opciones_fechas_publicacion)\n",
    "selector_variable.observe(handle_variable_selection, names='value')\n",
    "\n",
    "# Mostrar el widget\n",
    "display(selector_variable)\n",
    "'''"
   ]
  },
  {
   "cell_type": "code",
   "execution_count": 5,
   "id": "bff76bb9-cb4f-4e2f-967b-c3665e3dd77f",
   "metadata": {},
   "outputs": [],
   "source": [
    "intervalo_temporal_busqueda = 'Últimos 3 días'"
   ]
  },
  {
   "cell_type": "code",
   "execution_count": 9,
   "id": "7c1918a6-352b-4594-ae85-e0c97f23c402",
   "metadata": {},
   "outputs": [],
   "source": [
    "try:\n",
    "    #Cerrar banner\n",
    "    banner = driver.find_element(By.CSS_SELECTOR, 'button[aria-label = \"cerrar\"]')\n",
    "    banner.click()\n",
    "\n",
    "except:\n",
    "    next\n",
    "\n",
    "ofertas = driver.find_elements(By.CLASS_NAME, 'job_seen_beacon')"
   ]
  },
  {
   "cell_type": "code",
   "execution_count": 13,
   "id": "faed6404-0245-4a9a-a6e2-6a1cd2cbe49e",
   "metadata": {
    "tags": []
   },
   "outputs": [
    {
     "data": {
      "text/plain": [
       "<selenium.webdriver.remote.webelement.WebElement (session=\"0ab64e2309f4693140882af6eb159f50\", element=\"B6C79101F590A4C2B96B2EE083457EA7_element_208\")>"
      ]
     },
     "execution_count": 13,
     "metadata": {},
     "output_type": "execute_result"
    }
   ],
   "source": [
    "driver.find_element(By.CSS_SELECTOR,  'h2[data-testid = \"jobsearch-JobInfoHeader-title\"]')"
   ]
  },
  {
   "cell_type": "code",
   "execution_count": 14,
   "id": "ef4d4f54-5a9e-4557-b5bb-e8624f7b4c1e",
   "metadata": {
    "tags": []
   },
   "outputs": [
    {
     "ename": "TimeoutException",
     "evalue": "Message: \nStacktrace:\n#0 0x556a49d31d93 <unknown>\n#1 0x556a49a15337 <unknown>\n#2 0x556a49a60d60 <unknown>\n#3 0x556a49a60e51 <unknown>\n#4 0x556a49aa4bc4 <unknown>\n#5 0x556a49a8346d <unknown>\n#6 0x556a49aa212d <unknown>\n#7 0x556a49a831e3 <unknown>\n#8 0x556a49a53135 <unknown>\n#9 0x556a49a5413e <unknown>\n#10 0x556a49cf5e4b <unknown>\n#11 0x556a49cf9dfa <unknown>\n#12 0x556a49ce26d5 <unknown>\n#13 0x556a49cfaa6f <unknown>\n#14 0x556a49cc669f <unknown>\n#15 0x556a49d1f098 <unknown>\n#16 0x556a49d1f262 <unknown>\n#17 0x556a49d30f34 <unknown>\n#18 0x7fbc30e94ac3 <unknown>\n",
     "output_type": "error",
     "traceback": [
      "\u001b[0;31m---------------------------------------------------------------------------\u001b[0m",
      "\u001b[0;31mTimeoutException\u001b[0m                          Traceback (most recent call last)",
      "Cell \u001b[0;32mIn[14], line 16\u001b[0m\n\u001b[1;32m     13\u001b[0m descripcion \u001b[38;5;241m=\u001b[39m WebDriverWait(driver, \u001b[38;5;241m30\u001b[39m)\u001b[38;5;241m.\u001b[39muntil(EC\u001b[38;5;241m.\u001b[39mvisibility_of_element_located((By\u001b[38;5;241m.\u001b[39mID, \u001b[38;5;124m'\u001b[39m\u001b[38;5;124mjobDescriptionText\u001b[39m\u001b[38;5;124m'\u001b[39m)))\n\u001b[1;32m     14\u001b[0m descripcion \u001b[38;5;241m=\u001b[39m descripcion\u001b[38;5;241m.\u001b[39mtext\u001b[38;5;241m.\u001b[39mreplace(\u001b[38;5;124m'\u001b[39m\u001b[38;5;130;01m\\n\u001b[39;00m\u001b[38;5;124m'\u001b[39m, \u001b[38;5;124m'\u001b[39m\u001b[38;5;124m \u001b[39m\u001b[38;5;124m'\u001b[39m)\n\u001b[0;32m---> 16\u001b[0m fecha \u001b[38;5;241m=\u001b[39m WebDriverWait(driver, \u001b[38;5;241m30\u001b[39m)\u001b[38;5;241m.\u001b[39muntil(EC\u001b[38;5;241m.\u001b[39mvisibility_of_element_located((By\u001b[38;5;241m.\u001b[39mCLASS_NAME, \u001b[38;5;124m'\u001b[39m\u001b[38;5;124mdate\u001b[39m\u001b[38;5;124m'\u001b[39m)))\n\u001b[1;32m     17\u001b[0m fecha \u001b[38;5;241m=\u001b[39m fecha\u001b[38;5;241m.\u001b[39mtext\u001b[38;5;241m.\u001b[39msplit(\u001b[38;5;124m'\u001b[39m\u001b[38;5;130;01m\\n\u001b[39;00m\u001b[38;5;124m'\u001b[39m)[\u001b[38;5;241m1\u001b[39m]\n\u001b[1;32m     19\u001b[0m ubicacion_presencialidad \u001b[38;5;241m=\u001b[39m WebDriverWait(driver, \u001b[38;5;241m30\u001b[39m)\u001b[38;5;241m.\u001b[39muntil(EC\u001b[38;5;241m.\u001b[39mvisibility_of_element_located((By\u001b[38;5;241m.\u001b[39mCSS_SELECTOR, \u001b[38;5;124m'\u001b[39m\u001b[38;5;124mdiv[data-testid = \u001b[39m\u001b[38;5;124m\"\u001b[39m\u001b[38;5;124minlineHeader-companyLocation\u001b[39m\u001b[38;5;124m\"\u001b[39m\u001b[38;5;124m]\u001b[39m\u001b[38;5;124m'\u001b[39m)))\n",
      "File \u001b[0;32m~/anaconda3/lib/python3.11/site-packages/selenium/webdriver/support/wait.py:95\u001b[0m, in \u001b[0;36mWebDriverWait.until\u001b[0;34m(self, method, message)\u001b[0m\n\u001b[1;32m     93\u001b[0m     \u001b[38;5;28;01mif\u001b[39;00m time\u001b[38;5;241m.\u001b[39mmonotonic() \u001b[38;5;241m>\u001b[39m end_time:\n\u001b[1;32m     94\u001b[0m         \u001b[38;5;28;01mbreak\u001b[39;00m\n\u001b[0;32m---> 95\u001b[0m \u001b[38;5;28;01mraise\u001b[39;00m TimeoutException(message, screen, stacktrace)\n",
      "\u001b[0;31mTimeoutException\u001b[0m: Message: \nStacktrace:\n#0 0x556a49d31d93 <unknown>\n#1 0x556a49a15337 <unknown>\n#2 0x556a49a60d60 <unknown>\n#3 0x556a49a60e51 <unknown>\n#4 0x556a49aa4bc4 <unknown>\n#5 0x556a49a8346d <unknown>\n#6 0x556a49aa212d <unknown>\n#7 0x556a49a831e3 <unknown>\n#8 0x556a49a53135 <unknown>\n#9 0x556a49a5413e <unknown>\n#10 0x556a49cf5e4b <unknown>\n#11 0x556a49cf9dfa <unknown>\n#12 0x556a49ce26d5 <unknown>\n#13 0x556a49cfaa6f <unknown>\n#14 0x556a49cc669f <unknown>\n#15 0x556a49d1f098 <unknown>\n#16 0x556a49d1f262 <unknown>\n#17 0x556a49d30f34 <unknown>\n#18 0x7fbc30e94ac3 <unknown>\n"
     ]
    }
   ],
   "source": [
    "for oferta in ofertas:\n",
    "    driver.execute_script(\"arguments[0].scrollIntoView();\", oferta)\n",
    "    sleep(2)\n",
    "    oferta.click()\n",
    "    sleep(3)\n",
    "\n",
    "    titulo = WebDriverWait(driver, 30).until(EC.visibility_of_element_located((By.CSS_SELECTOR, 'h2[data-testid = \"jobsearch-JobInfoHeader-title\"]')))\n",
    "    titulo = titulo.text.split('\\n')[0]\n",
    "\n",
    "    empresa = WebDriverWait(driver, 30).until(EC.visibility_of_element_located((By.CSS_SELECTOR, 'div[data-testid = \"inlineHeader-companyName\"]')))\n",
    "    empresa = empresa.text\n",
    "\n",
    "    descripcion = WebDriverWait(driver, 30).until(EC.visibility_of_element_located((By.ID, 'jobDescriptionText')))\n",
    "    descripcion = descripcion.text.replace('\\n', ' ')\n",
    "\n",
    "    fecha = WebDriverWait(driver, 30).until(EC.visibility_of_element_located((By.CLASS_NAME, 'date')))\n",
    "    fecha = fecha.text.split('\\n')[1]\n",
    "\n",
    "    ubicacion_presencialidad = WebDriverWait(driver, 30).until(EC.visibility_of_element_located((By.CSS_SELECTOR, 'div[data-testid = \"inlineHeader-companyLocation\"]')))\n",
    "    ubicacion_presencialidad = ubicacion_presencialidad.text.split('•')\n",
    "    break"
   ]
  },
  {
   "cell_type": "code",
   "execution_count": 8,
   "id": "a17458c6-33a4-45f5-b566-d5821d10f8ec",
   "metadata": {
    "tags": []
   },
   "outputs": [],
   "source": [
    "#### Definimos los tipos de trabajo que nos ofrece indeed\n",
    "tipos_trabajos = ('Remoto híbrido', 'Teletrabajo')\n",
    "\n",
    "\n",
    "for empleo in empleos_castellano:\n",
    "    try:\n",
    "        driver = webdriver.Chrome()\n",
    "        driver.get(url)\n",
    "        driver.maximize_window()\n",
    "        sleep(2)\n",
    "\n",
    "        # Buscar empleo\n",
    "        buscador_empleo = driver.find_element(By.ID, 'text-input-what')\n",
    "        buscador_empleo.send_keys(empleo)\n",
    "        sleep(1)\n",
    "\n",
    "        # Buscar ubicacion\n",
    "        buscador_ubicacion = driver.find_element(By.ID, 'text-input-where')\n",
    "        buscador_ubicacion.send_keys(ubicacion_a_buscar)\n",
    "        sleep(1)\n",
    "        buscador_ubicacion.send_keys(Keys.ENTER)\n",
    "        sleep(1)\n",
    "\n",
    "        #Seleccionamos la fecha de publicacion\n",
    "        driver.find_element(By.ID, 'filter-dateposted').click()\n",
    "        sleep(2)\n",
    "        fechas_publicacion = driver.find_element(By.ID, 'filter-dateposted-menu')\n",
    "        opciones_fechas_publicacion = fechas_publicacion.text.split('\\n')\n",
    "\n",
    "        #Seleccionamos los elementos interactuables de las fechas de publicacion\n",
    "        botones_fechas_publicacion = fechas_publicacion.find_elements(By.TAG_NAME, 'li')\n",
    "\n",
    "        #Pulsamos el que tiene el intervalo de tiempo seleccionado\n",
    "        [publicaciones_seleccionadas for publicaciones_seleccionadas in  botones_fechas_publicacion if intervalo_temporal_busqueda in publicaciones_seleccionadas.text][0].click()\n",
    "        \n",
    "        break\n",
    "        scrapear_indeed(empleo)\n",
    "        \n",
    "    except:\n",
    "        driver.quit()\n",
    "        print(f'{empleo} no scrapeado')\n",
    "        next"
   ]
  },
  {
   "cell_type": "code",
   "execution_count": null,
   "id": "2ff0c14a-6029-49bb-8564-7b22e375a317",
   "metadata": {},
   "outputs": [],
   "source": [
    "sleep(600)"
   ]
  },
  {
   "cell_type": "code",
   "execution_count": null,
   "id": "4faa24a0-0ec8-40d9-8dd1-b8d4c60bcc34",
   "metadata": {
    "tags": []
   },
   "outputs": [],
   "source": [
    "#Definimos los tipos de trabajo que nos ofrece indeed\n",
    "tipos_trabajos = ('Remoto híbrido', 'Teletrabajo')\n",
    "\n",
    "\n",
    "for empleo in empleos_ingles:\n",
    "    try:\n",
    "        driver = webdriver.Chrome()\n",
    "        driver.get(url)\n",
    "        driver.maximize_window()\n",
    "        sleep(2)\n",
    "\n",
    "        # Buscar empleo\n",
    "        buscador_empleo = driver.find_element(By.ID, 'text-input-what')\n",
    "        buscador_empleo.send_keys(empleo)\n",
    "        sleep(1)\n",
    "\n",
    "        # Buscar ubicacion\n",
    "        buscador_ubicacion = driver.find_element(By.ID, 'text-input-where')\n",
    "        buscador_ubicacion.send_keys(ubicacion_a_buscar)\n",
    "        sleep(1)\n",
    "        buscador_ubicacion.send_keys(Keys.ENTER)\n",
    "        \n",
    "        #Seleccionamos la fecha de publicacion\n",
    "\n",
    "        driver.find_element(By.ID, 'filter-dateposted').click()\n",
    "        sleep(1)\n",
    "        fechas_publicacion = driver.find_element(By.ID, 'filter-dateposted-menu')\n",
    "        opciones_fechas_publicacion = fechas_publicacion.text.split('\\n')\n",
    "\n",
    "        #Seleccionamos los elementos interactuables de las fechas de publicacion\n",
    "        botones_fechas_publicacion = fechas_publicacion.find_elements(By.TAG_NAME, 'li')\n",
    "\n",
    "        #Pulsamos el que tiene el intervalo de tiempo seleccionado\n",
    "        [publicaciones_seleccionadas for publicaciones_seleccionadas in  botones_fechas_publicacion if intervalo_temporal_busqueda in publicaciones_seleccionadas.text][0].click()\n",
    "\n",
    "        scrapear_indeed(empleo)\n",
    "        \n",
    "    except:\n",
    "        driver.quit()\n",
    "        print(f'{empleo} no scrapeado')\n",
    "        next"
   ]
  },
  {
   "cell_type": "code",
   "execution_count": null,
   "id": "44bb4912-e6d0-4b29-8da5-41a41e3a1d1e",
   "metadata": {
    "tags": []
   },
   "outputs": [],
   "source": [
    "# Actualizamos el fichero de control de extraccion de datos\n",
    "#actualizar_fichero_control_extracciones_datos(portal_busqueda, fecha_scrapeo)"
   ]
  }
 ],
 "metadata": {
  "kernelspec": {
   "display_name": "Python 3 (ipykernel)",
   "language": "python",
   "name": "python3"
  },
  "language_info": {
   "codemirror_mode": {
    "name": "ipython",
    "version": 3
   },
   "file_extension": ".py",
   "mimetype": "text/x-python",
   "name": "python",
   "nbconvert_exporter": "python",
   "pygments_lexer": "ipython3",
   "version": "3.11.5"
  }
 },
 "nbformat": 4,
 "nbformat_minor": 5
}
