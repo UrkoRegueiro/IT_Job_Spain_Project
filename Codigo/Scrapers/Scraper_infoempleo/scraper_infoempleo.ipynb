{
 "cells": [
  {
   "cell_type": "code",
   "execution_count": 24,
   "id": "59873b29-afbf-4d1b-940f-fed521bdfff1",
   "metadata": {},
   "outputs": [],
   "source": [
    "import requests \n",
    "\n",
    "from bs4 import BeautifulSoup\n",
    "import selenium\n",
    "from selenium import webdriver\n",
    "from selenium.webdriver.common.by import By\n",
    "from selenium.webdriver.common.keys import Keys\n",
    "from selenium.webdriver.chrome.options import Options\n",
    "\n",
    "from time import sleep\n",
    "import pandas as pd\n",
    "import numpy as np\n",
    "import datetime\n",
    "import os"
   ]
  },
  {
   "cell_type": "markdown",
   "id": "d590a520-a623-4c62-993f-d3459339a726",
   "metadata": {},
   "source": [
    "# Inicializar parametros de entrada"
   ]
  },
  {
   "cell_type": "code",
   "execution_count": 3,
   "id": "d4897b37-411e-4a4a-b81a-d266170714db",
   "metadata": {
    "tags": []
   },
   "outputs": [],
   "source": [
    "# PONER USER-AGENT PROPIO:\n",
    "user_agent = \"Mozilla/5.0 (Windows NT 10.0; Win64; x64) AppleWebKit/537.36 (KHTML, like Gecko) Chrome/118.0.0.0 Safari/537.36\"\n",
    "\n",
    "# Options:\n",
    "opts = Options()\n",
    "opts.add_argument(\"--disable-extensions\")\n",
    "opts.add_argument(f\"User-Agent={user_agent}\")\n",
    "\n",
    "# url_infoempleo:\n",
    "url_infoempleo = \"https://www.infoempleo.com/trabajo/area-de-empresa_tecnologia-e-informatica/\""
   ]
  },
  {
   "cell_type": "markdown",
   "id": "ff054d99-bae6-44a1-b60c-db5470eb2e69",
   "metadata": {
    "tags": []
   },
   "source": [
    "# Saco las URL de cada puesto en cada página:"
   ]
  },
  {
   "cell_type": "code",
   "execution_count": 17,
   "id": "5062de7c-01ac-42a3-9a92-7c87a7416055",
   "metadata": {
    "tags": []
   },
   "outputs": [],
   "source": [
    "def url_scraper(url, nuevas= True):\n",
    "    \n",
    "    browser = webdriver.Chrome(options=opts)\n",
    "    browser.maximize_window()\n",
    "    \n",
    "    browser.get(url)\n",
    "    sleep(2)\n",
    "    \n",
    "    # Acepto cookies\n",
    "    browser.find_element(By.ID, \"onetrust-accept-btn-handler\").click()\n",
    "    sleep(1)\n",
    "    \n",
    "    url_empleos = []\n",
    "    while True:\n",
    "\n",
    "        try:\n",
    "            browser.find_element(By.ID, \"lightbox\").find_element(By.CLASS_NAME, \"close\").click()\n",
    "            sleep(1)\n",
    "        except:\n",
    "            pass\n",
    "        \n",
    "        if nuevas:\n",
    "            # Boton ofertas en las últimas 24h:\n",
    "            browser.find_element(By.ID, \"fechapublicacion1\").click()\n",
    "            sleep(1)\n",
    "\n",
    "        soup = BeautifulSoup(browser.page_source, \"html.parser\")\n",
    "        empleos = soup.find(\"div\", class_= \"main-content\").find_all(\"li\", class_= \"offerblock\")\n",
    "\n",
    "        for url in empleos:\n",
    "            try:\n",
    "                url_oferta = \"https://www.infoempleo.com\" + url.find(\"a\")[\"href\"]\n",
    "                url_empleos.append(url_oferta)\n",
    "            except:\n",
    "                pass\n",
    "\n",
    "        try:\n",
    "            # Hago scroll hasta el final:\n",
    "            elemento_objetivo = browser.find_elements(By.CLASS_NAME, \"related-offer-item\")[-1]\n",
    "            browser.execute_script(\"arguments[0].scrollIntoView(true);\", elemento_objetivo)\n",
    "            sleep(1)\n",
    "            # Siguiente página:\n",
    "            browser.find_element(By.CLASS_NAME, \"pagination\").find_element(By.CLASS_NAME, \"next\").click()\n",
    "            sleep(2)\n",
    "        except:\n",
    "            break\n",
    "            \n",
    "    return url_empleos"
   ]
  },
  {
   "cell_type": "markdown",
   "id": "d4ddf2e1-2fc4-45f6-b691-ccedf3dcb9b6",
   "metadata": {},
   "source": [
    "# Saco la info de cada empleo:"
   ]
  },
  {
   "cell_type": "code",
   "execution_count": 21,
   "id": "faba2364-da12-44cf-b15c-69c7e617ed64",
   "metadata": {
    "tags": []
   },
   "outputs": [],
   "source": [
    "def iniciar_scraper(url_empleos):\n",
    "    # Inicio browser:\n",
    "    browser = webdriver.Chrome(options=opts)\n",
    "    browser.maximize_window()\n",
    "    \n",
    "    # Valores fijos:\n",
    "    portal = \"infoempleo\"\n",
    "    fecha_scrapeo = datetime.datetime.now().date()\n",
    "    \n",
    "    \n",
    "    datos_ofertas_empleo = []\n",
    "    contador = 0\n",
    "    for empleo in url_empleos:\n",
    "    \n",
    "        browser.get(empleo)\n",
    "        sleep(2)\n",
    "\n",
    "        try:\n",
    "            # Acepto cookies\n",
    "            browser.find_element(By.ID, \"onetrust-accept-btn-handler\").click()\n",
    "        except:\n",
    "            pass\n",
    "\n",
    "        # Cierro popup si aparece:\n",
    "        try:\n",
    "            browser.find_element(By.ID, \"lightbox\").find_element(By.CLASS_NAME, \"close\").click()\n",
    "            sleep(1)\n",
    "        except:\n",
    "            pass\n",
    "\n",
    "        soup_oferta = BeautifulSoup(browser.page_source, \"html.parser\")\n",
    "\n",
    "        try:\n",
    "            titulo = soup_oferta.find(\"div\", class_= \"title-wrapper\").find(\"h1\").text\n",
    "\n",
    "        except:\n",
    "            titulo = np.nan\n",
    "\n",
    "        try:\n",
    "            empresa = soup_oferta.find(\"div\", class_= \"title-wrapper\").find(\"li\", class_= \"companyname\").text\n",
    "\n",
    "        except:\n",
    "            empresa = np.nan\n",
    "\n",
    "        try:\n",
    "            presencialidad = soup_oferta.find(\"div\", class_= \"title-wrapper\").find(\"li\", class_= \"badge\").text\n",
    "\n",
    "        except:\n",
    "            presencialidad = np.nan    \n",
    "\n",
    "        try:\n",
    "            fecha = soup_oferta.find(\"div\", class_= \"title-wrapper\").find(\"li\", class_= \"mt10\").text.strip()\n",
    "\n",
    "        except:\n",
    "            fecha = np.nan\n",
    "\n",
    "        try:\n",
    "            ubicacion = soup_oferta.find(\"div\", class_= \"title-wrapper\").find(\"li\", class_= \"block\").text.strip()\n",
    "\n",
    "        except:\n",
    "            ubicacion = np.nan\n",
    "\n",
    "        # Bloque de características:\n",
    "\n",
    "        try:\n",
    "            browser.find_element(By.CLASS_NAME, \"areapos-vmore\").click()\n",
    "        except:\n",
    "            pass\n",
    "\n",
    "        bullet_points = soup_oferta.find(\"div\", class_= \"offer-excerpt\").find_all(\"ul\", class_= \"inline\")\n",
    "\n",
    "        try:\n",
    "            experiencia = bullet_points[0].find_all(\"p\")[0].text\n",
    "        except:\n",
    "            experiencia = np.nan\n",
    "\n",
    "        try:\n",
    "            salario = bullet_points[0].find_all(\"p\")[1].text\n",
    "        except:\n",
    "            salario = np.nan\n",
    "\n",
    "        try:\n",
    "            funciones = [funcion.text for funcion in bullet_points[1].find_all(\"li\")[1:]]\n",
    "        except:\n",
    "            funciones = np.nan\n",
    "\n",
    "        try:\n",
    "            solicitudes = bullet_points[2].find_all(\"p\")[1].text\n",
    "        except:\n",
    "            solicitudes = np.nan        \n",
    "\n",
    "        try:\n",
    "            tipo_contrato = bullet_points[3].find_all(\"p\")[0].text\n",
    "        except:\n",
    "            tipo_contrato = np.nan\n",
    "\n",
    "        try:\n",
    "            jornada = bullet_points[3].find_all(\"p\")[1].text\n",
    "        except:\n",
    "            jornada = np.nan  \n",
    "\n",
    "        cuerpo_oferta = soup_oferta.find(\"div\", class_= \"offer\").find_all(\"pre\")\n",
    "\n",
    "        try:\n",
    "            descripcion = cuerpo_oferta[0].text.replace(\"\\n\", \"\").replace(\"*\", \"\").strip()\n",
    "        except:\n",
    "            descripcion = np.nan    \n",
    "\n",
    "        try:\n",
    "            herramientas = cuerpo_oferta[1].text.replace(\"\\n\", \"\").replace(\"*\", \"\").strip()\n",
    "        except:\n",
    "            herramientas = np.nan\n",
    "\n",
    "        datos_ofertas_empleo.append([titulo, empresa, fecha, herramientas, descripcion, ubicacion, presencialidad, funciones, jornada, experiencia, tipo_contrato, salario, solicitudes, fecha_scrapeo, empleo, portal])\n",
    "        contador += 1\n",
    "\n",
    "        if contador % 100 == 0:\n",
    "            sleep(20)\n",
    "            \n",
    "            \n",
    "    df = pd.DataFrame(datos_ofertas_empleo, columns= [\"titulo\", \"empresa\", \"fecha\", \"herramientas\", \"descripcion\", \"ubicacion\", \"presencialidad\", \"funciones\", \"jornada\", \"experiencia\", \"tipo_contrato\", \"salario\", \"solicitudes\", \"fecha_scrapeo\", \"url\", \"portal\"])\n",
    "    \n",
    "    return df "
   ]
  },
  {
   "cell_type": "markdown",
   "id": "7044f9a2-99f7-400b-a909-d9b16cccce25",
   "metadata": {},
   "source": [
    "# Extraigo la url de cada empleo en la plataforma Infoempleo:"
   ]
  },
  {
   "cell_type": "code",
   "execution_count": 19,
   "id": "ce7d1362-0098-4d1d-9434-e7d10b6b20a1",
   "metadata": {
    "tags": []
   },
   "outputs": [],
   "source": [
    "url_empleos = url_scraper(url_infoempleo)"
   ]
  },
  {
   "cell_type": "markdown",
   "id": "0efe0561-71a6-44c0-a05b-310e0401707d",
   "metadata": {},
   "source": [
    "# Extraigo la información de cada oferta de empleo:"
   ]
  },
  {
   "cell_type": "code",
   "execution_count": 26,
   "id": "abb4cb6d-82b0-4232-94b3-8d1b587bf355",
   "metadata": {
    "tags": []
   },
   "outputs": [],
   "source": [
    "df = iniciar_scraper(url_empleos)\n",
    "\n",
    "# Lo guardo en la ruta de datos:\n",
    "fecha = datetime.datetime.now().strftime(\"%d-%m-%y\")\n",
    "ruta_datos = \"C:\\\\Users\\\\regue\\\\Desktop\\\\Data Science Projects\\\\PROJECTS\\\\IT_Job_Spain_Project\\\\Datos\\\\datos_sin_procesar\\\\\"\n",
    "nombre_archivo = f\"datos_infoempleo_{fecha}.csv\"\n",
    "ruta_completa = os.path.join(ruta_datos, nombre_archivo)\n",
    "\n",
    "df.to_csv(ruta_completa, index=False, sep=\",\")"
   ]
  }
 ],
 "metadata": {
  "kernelspec": {
   "display_name": "Python 3 (ipykernel)",
   "language": "python",
   "name": "python3"
  },
  "language_info": {
   "codemirror_mode": {
    "name": "ipython",
    "version": 3
   },
   "file_extension": ".py",
   "mimetype": "text/x-python",
   "name": "python",
   "nbconvert_exporter": "python",
   "pygments_lexer": "ipython3",
   "version": "3.11.5"
  }
 },
 "nbformat": 4,
 "nbformat_minor": 5
}
