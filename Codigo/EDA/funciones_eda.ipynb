{
 "cells": [
  {
   "cell_type": "code",
   "execution_count": 1,
   "id": "b2a57ebf-b9a2-4d63-9d4d-e951cc0ed126",
   "metadata": {
    "tags": []
   },
   "outputs": [],
   "source": [
    "import pandas as pd\n",
    "import numpy as np\n",
    "import matplotlib.pyplot as plt\n",
    "import seaborn as sns\n",
    "from joypy import joyplot\n",
    "import plotly.express as px\n",
    "import plotly.graph_objects as go\n",
    "import plotly.figure_factory as ff\n",
    "from plotly.subplots import make_subplots\n",
    "import os\n",
    "import json\n",
    "import ast\n",
    "import re\n",
    "from sklearn.preprocessing import MultiLabelBinarizer\n",
    "from itertools import combinations\n",
    "from collections import Counter"
   ]
  },
  {
   "cell_type": "markdown",
   "id": "8f959c67-4527-423b-af3f-90bedb63f94a",
   "metadata": {
    "tags": []
   },
   "source": [
    "## Función para limpiar las herramientas"
   ]
  },
  {
   "cell_type": "code",
   "execution_count": 5,
   "id": "ec21b49e-47b9-4d70-9f01-1a84e45e8fdf",
   "metadata": {
    "tags": []
   },
   "outputs": [],
   "source": [
    "def safe_literal_eval(s):\n",
    "    try:\n",
    "        return ast.literal_eval(s)\n",
    "    except (ValueError, SyntaxError):\n",
    "\n",
    "        return set()"
   ]
  },
  {
   "cell_type": "markdown",
   "id": "25e37362-8b9d-4621-adb1-a4b895e7969d",
   "metadata": {
    "tags": []
   },
   "source": [
    "## Función para contar las herramientas"
   ]
  },
  {
   "cell_type": "code",
   "execution_count": 6,
   "id": "318d2b40-6697-4a75-93cd-972b71b897dc",
   "metadata": {
    "tags": []
   },
   "outputs": [],
   "source": [
    "def contar_herramientas(df):\n",
    "    # Aplanamos la lista de sets en una sola lista de herramientas\n",
    "    herramientas_lista = [herramienta for sublist in df['herramientas'].tolist() for herramienta in sublist]\n",
    "    # Contamos la ocurrencia de cada herramienta\n",
    "    return pd.Series(herramientas_lista).value_counts()"
   ]
  },
  {
   "cell_type": "markdown",
   "id": "eccdee58-0900-4acd-8919-42601ece4b5b",
   "metadata": {
    "tags": []
   },
   "source": [
    "## Función para asignar rangos"
   ]
  },
  {
   "cell_type": "code",
   "execution_count": 7,
   "id": "3389eb3b-0e05-4a8e-a85c-16db278d3471",
   "metadata": {
    "tags": []
   },
   "outputs": [],
   "source": [
    "def intervalo_experiencia(experiencia):\n",
    "    if experiencia <= 1:\n",
    "        return 'Junior'\n",
    "    elif experiencia <= 4:\n",
    "        return 'Mid'\n",
    "    elif experiencia <= 7:\n",
    "        return 'Senior'\n",
    "    elif experiencia <= 10:\n",
    "        return 'Lead'\n",
    "    return np.nan"
   ]
  },
  {
   "cell_type": "markdown",
   "id": "c487c958-8e29-4f17-b62b-f31ae787ca3d",
   "metadata": {
    "tags": []
   },
   "source": [
    "## Función normalizar salarios"
   ]
  },
  {
   "cell_type": "code",
   "execution_count": 8,
   "id": "a252d960-e4e8-428c-a2ab-3fc975622e46",
   "metadata": {
    "tags": []
   },
   "outputs": [],
   "source": [
    "def normalizar_salarios_columna(df_original, salario, columnas):\n",
    "    df = df_original.copy()\n",
    "    \n",
    "    df.dropna(subset = salario)\n",
    "    #Normlaizamos la columna salario\n",
    "    \n",
    "    df[salario] = (df[salario] - df[salario].min()) / (df[salario].max() - df[salario].min())\n",
    "\n",
    "    #Multiplicamos los valores booleanos por la normalización del salario df_herramientas_salarios\n",
    "\n",
    "    for columna in columnas:\n",
    "        df[columna] = df[columna] * df[salario]\n",
    "    \n",
    "    return df"
   ]
  },
  {
   "cell_type": "markdown",
   "id": "bc8cc297-0a69-4ff3-846d-8ebfacb4af28",
   "metadata": {
    "tags": []
   },
   "source": [
    "## Funcion para obtener categoria"
   ]
  },
  {
   "cell_type": "code",
   "execution_count": 9,
   "id": "7c0efc62-3c5c-46da-bac7-adec4ef309f9",
   "metadata": {
    "tags": []
   },
   "outputs": [],
   "source": [
    "def obtener_categoria(row):\n",
    "    for columna in columnas_booleanas:\n",
    "        if row[columna] == 1:\n",
    "            return columna\n",
    "    return None    "
   ]
  },
  {
   "cell_type": "markdown",
   "id": "35e44500-559b-4474-bf27-0bce3f3096d3",
   "metadata": {
    "tags": []
   },
   "source": [
    "## Funcion para cambiar booleanos"
   ]
  },
  {
   "cell_type": "code",
   "execution_count": 10,
   "id": "08df04fa-bb25-4d18-bc5d-379772ac8a7d",
   "metadata": {
    "tags": []
   },
   "outputs": [],
   "source": [
    "def cambiar_bool_por_salario(df_original, salario, columnas):\n",
    "    df = df_original.copy()\n",
    "    \n",
    "    df.dropna(subset = salario)\n",
    "    #Multiplicamos los valores booleanos por la normalización del salario df_herramientas_salarios\n",
    "\n",
    "    for columna in columnas:\n",
    "        df[columna] = df[columna] * df[salario]\n",
    "    \n",
    "    return df"
   ]
  },
  {
   "cell_type": "markdown",
   "id": "a87437e1-9a8f-4028-8b8d-b851abeb7c53",
   "metadata": {
    "tags": []
   },
   "source": [
    "## Funcion para combinar herramientas"
   ]
  },
  {
   "cell_type": "code",
   "execution_count": 11,
   "id": "aabe58b5-225a-4b55-b401-150d382484bb",
   "metadata": {
    "tags": []
   },
   "outputs": [],
   "source": [
    "def combinaciones_herramientas(df, columnas, n):\n",
    "    combinaciones_posibles = list(combinations(df[columnas], n))\n",
    "    dic = {}\n",
    "\n",
    "    # Contar las combinaciones que más se repiten con valor 1\n",
    "    contador_combinaciones = Counter()\n",
    "\n",
    "    for combinacion in combinaciones_posibles:\n",
    "        # Filtrar filas donde todas las columnas en la combinación tienen valor 1\n",
    "        filas_con_uno = df[df[list(combinacion)].eq(1).all(axis=1)]\n",
    "        dic[combinacion] = filas_con_uno.index\n",
    "        \n",
    "        # Contar la frecuencia de la combinación\n",
    "        contador_combinaciones[combinacion] += len(filas_con_uno)\n",
    "\n",
    "    # Obtener las combinaciones más comunes\n",
    "    combinaciones_mas_comunes = contador_combinaciones.most_common()\n",
    "    \n",
    "    df = pd.DataFrame(combinaciones_mas_comunes, columns = ['combinacion', 'total'])\n",
    "    \n",
    "    return df, dic"
   ]
  },
  {
   "cell_type": "markdown",
   "id": "532af356-31c6-450d-824a-e224a7d90688",
   "metadata": {
    "tags": []
   },
   "source": [
    "## Funcion para eliminar outliers"
   ]
  },
  {
   "cell_type": "code",
   "execution_count": null,
   "id": "5d8fb9dd-cae7-43e7-bb58-7872faa828de",
   "metadata": {},
   "outputs": [],
   "source": [
    "def metodo_tukey(df, columna, alfa):\n",
    "    q1 = df[columna].quantile(0.25)\n",
    "    q3 = df[columna].quantile(0.75)\n",
    "    riq = q3 - q1\n",
    "\n",
    "    df = df[df[columna].between(q1 - alfa * riq, q3 + alfa * riq) | (df[columna].isna())]\n",
    "    \n",
    "    return df"
   ]
  }
 ],
 "metadata": {
  "kernelspec": {
   "display_name": "Python 3 (ipykernel)",
   "language": "python",
   "name": "python3"
  },
  "language_info": {
   "codemirror_mode": {
    "name": "ipython",
    "version": 3
   },
   "file_extension": ".py",
   "mimetype": "text/x-python",
   "name": "python",
   "nbconvert_exporter": "python",
   "pygments_lexer": "ipython3",
   "version": "3.11.5"
  }
 },
 "nbformat": 4,
 "nbformat_minor": 5
}
