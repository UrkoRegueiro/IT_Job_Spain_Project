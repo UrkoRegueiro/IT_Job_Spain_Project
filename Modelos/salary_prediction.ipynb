{
 "cells": [
  {
   "cell_type": "code",
   "execution_count": 1,
   "id": "feb7cdb7-e23c-47ef-a39d-f6f5997164bf",
   "metadata": {
    "tags": []
   },
   "outputs": [],
   "source": [
    "# Básicos\n",
    "import re\n",
    "import os\n",
    "import pandas as pd\n",
    "import numpy as np\n",
    "import matplotlib.pyplot as plt\n",
    "import seaborn as sns\n",
    "import pickle\n",
    "import tqdm\n",
    "from joblib import dump, load\n",
    "\n",
    "# Modelos\n",
    "from sklearn.preprocessing import MultiLabelBinarizer\n",
    "from sklearn.preprocessing import OneHotEncoder\n",
    "from sklearn.model_selection import GridSearchCV, cross_val_score, cross_val_predict\n",
    "\n",
    "\n",
    "\n",
    "# Avisos\n",
    "import warnings\n",
    "warnings.filterwarnings(\"ignore\")"
   ]
  },
  {
   "cell_type": "markdown",
   "id": "f1a01a0d-c4ec-4d8c-a972-668ac7673758",
   "metadata": {
    "tags": []
   },
   "source": [
    "# 1. Carga datos:"
   ]
  },
  {
   "cell_type": "markdown",
   "id": "4b41807a-c974-48f3-8330-b2b66086bb49",
   "metadata": {},
   "source": [
    "### Rutas"
   ]
  },
  {
   "cell_type": "code",
   "execution_count": 2,
   "id": "778ca616-e20c-427d-90a1-cc13f3264599",
   "metadata": {
    "tags": []
   },
   "outputs": [],
   "source": [
    "ruta_datos_procesados = os.getcwd().replace(\"Modelos\", \"Datos\\\\Procesados\\\\\")\n",
    "ruta_modelo = os.getcwd()"
   ]
  },
  {
   "cell_type": "markdown",
   "id": "3914f502-51be-4063-93ca-eda4aa4af275",
   "metadata": {},
   "source": [
    "### Datos empleos"
   ]
  },
  {
   "cell_type": "code",
   "execution_count": 3,
   "id": "ef369838-3a3a-4a3f-88bf-487577069e9c",
   "metadata": {
    "tags": []
   },
   "outputs": [],
   "source": [
    "df_empleos = pd.read_csv(ruta_datos_procesados + 'datos_jobs_finales.csv')\n",
    "df_empleos_nuevos = pd.read_csv(ruta_datos_procesados + 'datos_jobs_finales_nuevos.csv')"
   ]
  },
  {
   "cell_type": "code",
   "execution_count": 32,
   "id": "eef05143-f02e-44a8-9e30-5772ccfec56a",
   "metadata": {
    "tags": []
   },
   "outputs": [],
   "source": [
    "df_empleos_nuevos[\"categoria_empleo\"] = df_empleos_nuevos[\"categoria_empleo\"].apply(lambda x: \"machine learning engineer\" if x == \"machine learning\" else x)"
   ]
  },
  {
   "cell_type": "markdown",
   "id": "3c9d1257-1423-4714-800a-7256e33a7ba7",
   "metadata": {
    "tags": []
   },
   "source": [
    "# 2. Prepocesamiento de datos"
   ]
  },
  {
   "cell_type": "markdown",
   "id": "f828a413-afb7-40fa-ac77-ee1ad9d9cc5b",
   "metadata": {
    "tags": []
   },
   "source": [
    "## 2.1. Funciones de procesamiento de datos:"
   ]
  },
  {
   "cell_type": "code",
   "execution_count": 4,
   "id": "6463a813-d6e9-45e3-8534-0970bd36a4e5",
   "metadata": {
    "tags": []
   },
   "outputs": [],
   "source": [
    "def aplicar_mascara(df):\n",
    "    \n",
    "    df[\"comunidad\"] = df[\"comunidad\"].str.replace(\"Catalunya\", \"Cataluña\").replace(\"Andalusia\", \"Andalucía\").replace(\"Euskadi\", \"País Vasco\")\n",
    "    \n",
    "    lista_comunidades = [\"Región de Bruselas-Capital\", \"Distrito de Lisboa\", \"Jalisco\", \"State of Rio Grande do Sul\", \"Inglaterra\", \"Hanói\", \"Hồ Chí Minh\", \"Maryland\", \"Bogotá\", \"Baden-Wurtemberg\", \"Baja Sajonia\", \"Renania del Norte-Westfalia\"]\n",
    "    comunidades_mask = df[\"comunidad\"].isin(lista_comunidades)\n",
    "    df= df[~comunidades_mask]\n",
    "    \n",
    "    mask = (df[\"jornada\"] == \"no especificado\") | (df[\"tipo_contrato\"] == \"no especificado\") | (df[\"herramientas\"] == \"set()\")\n",
    "    df_filtrado = df[~mask].dropna()\n",
    "    df_filtrado = df_filtrado.reset_index(drop= True)\n",
    "    \n",
    "    return df_filtrado"
   ]
  },
  {
   "cell_type": "code",
   "execution_count": 5,
   "id": "45bb061b-7690-4d2e-afad-4484a277b09c",
   "metadata": {
    "tags": []
   },
   "outputs": [],
   "source": [
    "def agrupador_categorias(df):\n",
    "    \n",
    "    # Tipo de contrato\n",
    "    tipos_contrato = [\"indefinido\", \"temporal\", \"practicas\"]\n",
    "    df[\"tipo_contrato\"] = df[\"tipo_contrato\"].apply(lambda x: \"otros contratos\" if x not in tipos_contrato else x)\n",
    "    \n",
    "    # Jornada\n",
    "    jornadas = [\"jornada completa\", \"practicas\", \"media jornada\"]    \n",
    "    df[\"jornada\"] = df[\"jornada\"].apply(lambda x: \"otras jornadas\" if x not in jornadas else x)\n",
    "    \n",
    "    return df"
   ]
  },
  {
   "cell_type": "code",
   "execution_count": 6,
   "id": "06359f7e-bc18-4ec9-b9f2-d2190d6fca7a",
   "metadata": {
    "tags": []
   },
   "outputs": [],
   "source": [
    "def funcion_encoder(df, encoder):\n",
    "    \n",
    "    encoded_columns = [\"jornada\", \"tipo_contrato\", \"comunidad\", \"categoria_empleo\"]\n",
    "    for columna in encoded_columns:\n",
    "        \n",
    "        data_encoded = encoder.fit_transform(df[[columna]]).toarray()\n",
    "            \n",
    "        with open(f\"{columna}_encoder.pickle\", 'wb') as archivo:\n",
    "            pickle.dump(encoder, archivo)\n",
    "            \n",
    "        df_encoded = pd.DataFrame(data_encoded, columns= encoder.categories_)\n",
    "        df = pd.concat([df, df_encoded], axis=1).drop([columna], axis=1)\n",
    "        \n",
    "    return df"
   ]
  },
  {
   "cell_type": "code",
   "execution_count": 7,
   "id": "c47abd3e-79da-458b-933d-37909936490a",
   "metadata": {
    "tags": []
   },
   "outputs": [],
   "source": [
    "def metodo_tukey(df, columna, alfa):\n",
    "    q1 = df[columna].quantile(0.25)\n",
    "    q3 = df[columna].quantile(0.75)\n",
    "    riq = q3 - q1\n",
    "\n",
    "    df_sin_out = df[df[columna].between(q1 - alfa * riq, q3 + alfa * riq) | (df[columna].isna())]\n",
    "    \n",
    "    return df_sin_out"
   ]
  },
  {
   "cell_type": "code",
   "execution_count": 8,
   "id": "7ae873f8-e29b-4916-893f-6dfd1eb97770",
   "metadata": {
    "tags": []
   },
   "outputs": [],
   "source": [
    "def data_preparation(df, top = False, log_transf= False):\n",
    "    \n",
    "    ########################### Selecciono valores no nulos ################################\n",
    "    \n",
    "    df_mod = df.drop(['titulo', 'empresa', 'fecha', 'descripcion','presencialidad', 'solicitudes', 'portal', 'localidad', 'provincia', 'pais', 'latitud', 'longitud'], axis= 1)\n",
    "    df_mod = aplicar_mascara(df_mod)\n",
    "    \n",
    "    ########################### Agrupo categoricas ##########################################\n",
    "    \n",
    "    df_mod = agrupador_categorias(df_mod)\n",
    "    \n",
    "    ########################### Encoding columnas categoricas ###############################\n",
    "    \n",
    "    encoder = OneHotEncoder()\n",
    "    df_mod = funcion_encoder(df_mod, encoder)\n",
    "    \n",
    "    ########################### Encoding de herramientas ####################################\n",
    "    df_mod['herramientas'] = df_mod['herramientas'].apply(lambda x: re.sub(r\"[{}']\", '', x).split(', '))\n",
    "    \n",
    "    tool_encoder = MultiLabelBinarizer()\n",
    "    encoded_tools = tool_encoder.fit_transform(df_mod['herramientas'])\n",
    "    \n",
    "    with open(\"tool_encoder.pickle\", 'wb') as archivo:\n",
    "        pickle.dump(tool_encoder, archivo)\n",
    "\n",
    "    df_encoded = pd.DataFrame(encoded_tools, columns= tool_encoder.classes_)    \n",
    "    df_mod = pd.concat([df_mod, df_encoded], axis=1).drop(['herramientas'], axis=1)\n",
    "    \n",
    "    ########################### Selecciono las top 20 herramientas ###########################\n",
    "    if top:\n",
    "        herramientas_top = df_mod[tool_encoder.classes_].sum().sort_values(ascending=False)\n",
    "        columnas_top = herramientas_top[herramientas_top > 20]\n",
    "        herramientas_no_necesarias = [herramienta for herramienta in tool_encoder.classes_ if herramienta not in columnas_top.index]\n",
    "        df_mod = df_mod.drop(herramientas_no_necesarias, axis= 1)\n",
    "    \n",
    "    ########################### Elimino outliers del salario maximo y minimo ##################\n",
    "    \n",
    "    df_mod = metodo_tukey(df_mod, \"salario_min\", 1.5)\n",
    "    df_mod = metodo_tukey(df_mod, \"salario_max\", 1.5)\n",
    "    \n",
    "    ########################### Transformación logarítmica salario maximo y minimo ############\n",
    "    \n",
    "    if log_transf:\n",
    "        df_mod[\"salario_min\"] = df_mod[\"salario_min\"].apply(np.log)\n",
    "        df_mod[\"salario_max\"] = df_mod[\"salario_max\"].apply(np.log)\n",
    "    \n",
    "    ########################### Limpio nombre columnas ########################################\n",
    "    \n",
    "    df_mod.columns = [str(columna).replace(\"('\", \"\").replace(\"',)\", \"\") for columna in df_mod.columns]\n",
    "    \n",
    "    ########################### Separo dataframes #############################################\n",
    "    \n",
    "    # Salario mínimo    \n",
    "    df_salario_min = df_mod.drop([\"salario_max\"], axis= 1)\n",
    "    # Salario máximo\n",
    "    df_salario_max = df_mod.drop([\"salario_min\"], axis= 1)\n",
    "    \n",
    "    return df_salario_min, df_salario_max"
   ]
  },
  {
   "cell_type": "markdown",
   "id": "90adc7c2-cde3-4e7b-8b3a-fba8bbda064a",
   "metadata": {},
   "source": [
    "## 2.2. Selección de dataframes para predicción"
   ]
  },
  {
   "cell_type": "code",
   "execution_count": 73,
   "id": "eda8210c-8236-44cc-8332-f537caa9de67",
   "metadata": {
    "tags": []
   },
   "outputs": [],
   "source": [
    "df_salario_min, df_salario_max = data_preparation(df_empleos_nuevos, top = False, log_transf= True)"
   ]
  },
  {
   "cell_type": "markdown",
   "id": "3332bc04-6ed2-4158-a304-e4ba2d54bd52",
   "metadata": {},
   "source": [
    "## -----------------------------------------------------------------------------------------------------------------------------"
   ]
  },
  {
   "cell_type": "markdown",
   "id": "2f132649-eeda-47e5-8ef7-6ffeace9136d",
   "metadata": {
    "tags": []
   },
   "source": [
    "## Herramientas top"
   ]
  },
  {
   "cell_type": "code",
   "execution_count": 32,
   "id": "2df087f8-7c8a-4b54-80f8-7cb96ed074d8",
   "metadata": {
    "tags": []
   },
   "outputs": [],
   "source": [
    "herramientas_top = df_salario_max[tool_encoder_max.classes_].sum().sort_values(ascending=False)\n",
    "columnas_top = herramientas_top[herramientas_top > 20]\n",
    "\n",
    "herramientas_no_necesarias = [herramienta for herramienta in tool_encoder_max.classes_ if herramienta not in columnas_top.index]\n",
    "df_salario_max = df_salario_max.drop(herramientas_no_necesarias, axis= 1)"
   ]
  },
  {
   "cell_type": "markdown",
   "id": "d49ac75b-35b8-48c3-a990-8d347d360ed6",
   "metadata": {},
   "source": [
    "## -----------------------------------------------------------------------------------------------------------------------------"
   ]
  },
  {
   "cell_type": "markdown",
   "id": "ddaf9656-919b-4954-b5ec-e544ffb45cff",
   "metadata": {
    "tags": []
   },
   "source": [
    "# 3. Modelos de regresión"
   ]
  },
  {
   "cell_type": "code",
   "execution_count": 29,
   "id": "44ccc5cd-7213-459f-8bef-91e7ea69670c",
   "metadata": {
    "tags": []
   },
   "outputs": [
    {
     "name": "stdout",
     "output_type": "stream",
     "text": [
      "WARNING:tensorflow:From C:\\Users\\regue\\conda_ENV\\Lib\\site-packages\\keras\\src\\losses.py:2976: The name tf.losses.sparse_softmax_cross_entropy is deprecated. Please use tf.compat.v1.losses.sparse_softmax_cross_entropy instead.\n",
      "\n"
     ]
    }
   ],
   "source": [
    "# Preprocess:\n",
    "from sklearn.model_selection import train_test_split\n",
    "from sklearn.preprocessing import StandardScaler\n",
    "from sklearn.decomposition import PCA\n",
    "\n",
    "\n",
    "# Modelos:\n",
    "from sklearn.linear_model import LinearRegression\n",
    "from sklearn.ensemble import RandomForestRegressor\n",
    "from sklearn.ensemble import AdaBoostRegressor\n",
    "from sklearn.ensemble import GradientBoostingRegressor\n",
    "from sklearn.svm import SVR\n",
    "from sklearn.neighbors import KNeighborsRegressor\n",
    "from sklearn.tree import DecisionTreeRegressor\n",
    "\n",
    "# Modelos para matrices sparse\n",
    "from sklearn.linear_model import Ridge, Lasso, ElasticNet\n",
    "from xgboost import XGBRegressor\n",
    "from sklearn.svm import LinearSVR\n",
    "\n",
    "# Red neuronal\n",
    "from tensorflow.keras.optimizers import Adam\n",
    "\n",
    "# Metricas para regresiones:\n",
    "from sklearn.metrics import mean_absolute_error\n",
    "from sklearn.metrics import mean_squared_error\n",
    "from sklearn.metrics import r2_score"
   ]
  },
  {
   "cell_type": "markdown",
   "id": "d03af249-e049-4c6b-869a-17e76a08bfa4",
   "metadata": {},
   "source": [
    "## 3.1. Preparación de datos"
   ]
  },
  {
   "cell_type": "markdown",
   "id": "c9e384c4-108b-425c-9341-4c3325defd45",
   "metadata": {},
   "source": [
    "- ### Salario mínimo"
   ]
  },
  {
   "cell_type": "code",
   "execution_count": 74,
   "id": "4fbe44a4-6e18-473f-a6de-d1521aefce6d",
   "metadata": {
    "tags": []
   },
   "outputs": [],
   "source": [
    "X_min = df_salario_min.drop([\"salario_min\"], axis= 1)\n",
    "y_min = df_salario_min[[\"salario_min\"]]"
   ]
  },
  {
   "cell_type": "markdown",
   "id": "e91778fe-aea3-4de9-8822-862c6b87fba1",
   "metadata": {},
   "source": [
    "- ### Salario máximo"
   ]
  },
  {
   "cell_type": "code",
   "execution_count": 75,
   "id": "d96cae8d-fb10-4fff-a087-8760b7e1e38a",
   "metadata": {
    "tags": []
   },
   "outputs": [],
   "source": [
    "X_max = df_salario_max.drop([\"salario_max\"], axis= 1)\n",
    "y_max = df_salario_max[[\"salario_max\"]]"
   ]
  },
  {
   "cell_type": "markdown",
   "id": "5616558f-a437-49ff-a2fd-31a4d14f5d7c",
   "metadata": {
    "tags": []
   },
   "source": [
    "## 3.2. Testeo de modelos"
   ]
  },
  {
   "cell_type": "code",
   "execution_count": 26,
   "id": "21977ad3-2a66-4eae-a618-93d199750e79",
   "metadata": {
    "tags": []
   },
   "outputs": [],
   "source": [
    "def model_tester(modelos, X, y):\n",
    "    \n",
    "    model_cross_holdout = []\n",
    "    \n",
    "    for modelo in modelos:\n",
    "\n",
    "        r2_score_results, mean_squared_error_results, mean_absolute_error_results = [], [], []\n",
    "\n",
    "        for i in range(20):\n",
    "            X_train, X_test, y_train, y_test = train_test_split(X, y, test_size = 0.2)\n",
    "            modelo.fit(X_train, y_train)\n",
    "            y_pred = modelo.predict(X_test)\n",
    "\n",
    "            r2_score_results.append(r2_score(y_test, y_pred))\n",
    "            mean_squared_error_results.append(mean_squared_error(y_test, y_pred))\n",
    "            mean_absolute_error_results.append(mean_absolute_error(y_test, y_pred))\n",
    "            \n",
    "\n",
    "        model_cross_holdout.append([str(modelo).split(\"(\")[0],\n",
    "                                    np.array(r2_score_results).mean(),\n",
    "                                    np.array(mean_squared_error_results).mean(),\n",
    "                                    np.array(mean_absolute_error_results).mean()\n",
    "                                   ])\n",
    "        \n",
    "    \n",
    "\n",
    "    df_cross_holdout = pd.DataFrame(model_cross_holdout, columns= [\"nombre\", \"mean_r2\", \"mean_MSE\", \"mean_MAE\"])\n",
    "    #df_cross_holdout.to_csv(\"cross_holdout_results.csv\", index= False, sep= \",\")\n",
    "    \n",
    "    return df_cross_holdout"
   ]
  },
  {
   "cell_type": "code",
   "execution_count": 30,
   "id": "e65b9025-3903-4a0e-b968-7e8d91cc4fa8",
   "metadata": {
    "tags": []
   },
   "outputs": [],
   "source": [
    "modelos = [LinearRegression(), RandomForestRegressor(), AdaBoostRegressor(), GradientBoostingRegressor(), SVR(), KNeighborsRegressor(), DecisionTreeRegressor(), Ridge(), Lasso(), ElasticNet(), XGBRegressor(), LinearSVR()]"
   ]
  },
  {
   "cell_type": "markdown",
   "id": "efaa17c3-dde1-4e3c-84b6-3976a577f36d",
   "metadata": {},
   "source": [
    "- ### Salario mínimo"
   ]
  },
  {
   "cell_type": "code",
   "execution_count": 76,
   "id": "60aa1e0e-a4b9-460e-a9ae-84ef18069a98",
   "metadata": {
    "tags": []
   },
   "outputs": [],
   "source": [
    "MIN_SIN_PCA = model_tester(modelos, X_min, y_min)"
   ]
  },
  {
   "cell_type": "code",
   "execution_count": 77,
   "id": "14ce4bbf-5f57-4b9a-9297-5d50f3569901",
   "metadata": {
    "tags": []
   },
   "outputs": [
    {
     "data": {
      "text/html": [
       "<div>\n",
       "<style scoped>\n",
       "    .dataframe tbody tr th:only-of-type {\n",
       "        vertical-align: middle;\n",
       "    }\n",
       "\n",
       "    .dataframe tbody tr th {\n",
       "        vertical-align: top;\n",
       "    }\n",
       "\n",
       "    .dataframe thead th {\n",
       "        text-align: right;\n",
       "    }\n",
       "</style>\n",
       "<table border=\"1\" class=\"dataframe\">\n",
       "  <thead>\n",
       "    <tr style=\"text-align: right;\">\n",
       "      <th></th>\n",
       "      <th>nombre</th>\n",
       "      <th>mean_r2</th>\n",
       "      <th>mean_MSE</th>\n",
       "      <th>mean_MAE</th>\n",
       "    </tr>\n",
       "  </thead>\n",
       "  <tbody>\n",
       "    <tr>\n",
       "      <th>0</th>\n",
       "      <td>SVR</td>\n",
       "      <td>0.455291</td>\n",
       "      <td>0.048527</td>\n",
       "      <td>0.165536</td>\n",
       "    </tr>\n",
       "  </tbody>\n",
       "</table>\n",
       "</div>"
      ],
      "text/plain": [
       "  nombre   mean_r2  mean_MSE  mean_MAE\n",
       "0    SVR  0.455291  0.048527  0.165536"
      ]
     },
     "execution_count": 77,
     "metadata": {},
     "output_type": "execute_result"
    }
   ],
   "source": [
    "MIN_SIN_PCA[MIN_SIN_PCA[\"mean_r2\"] > 0.3].sort_values(by= \"mean_r2\", ascending= False)"
   ]
  },
  {
   "cell_type": "markdown",
   "id": "a26f197b-be81-4b9b-9292-d17151ee635e",
   "metadata": {},
   "source": [
    "- ### Salario máximo"
   ]
  },
  {
   "cell_type": "code",
   "execution_count": 78,
   "id": "fe3e3954-2342-437d-8a5a-1ba038196ea1",
   "metadata": {
    "tags": []
   },
   "outputs": [],
   "source": [
    "MAX_SIN_PCA = model_tester(modelos, X_max, y_max)"
   ]
  },
  {
   "cell_type": "code",
   "execution_count": 79,
   "id": "0e53656b-857e-49bb-a24e-44ce82243ef8",
   "metadata": {
    "tags": []
   },
   "outputs": [
    {
     "data": {
      "text/html": [
       "<div>\n",
       "<style scoped>\n",
       "    .dataframe tbody tr th:only-of-type {\n",
       "        vertical-align: middle;\n",
       "    }\n",
       "\n",
       "    .dataframe tbody tr th {\n",
       "        vertical-align: top;\n",
       "    }\n",
       "\n",
       "    .dataframe thead th {\n",
       "        text-align: right;\n",
       "    }\n",
       "</style>\n",
       "<table border=\"1\" class=\"dataframe\">\n",
       "  <thead>\n",
       "    <tr style=\"text-align: right;\">\n",
       "      <th></th>\n",
       "      <th>nombre</th>\n",
       "      <th>mean_r2</th>\n",
       "      <th>mean_MSE</th>\n",
       "      <th>mean_MAE</th>\n",
       "    </tr>\n",
       "  </thead>\n",
       "  <tbody>\n",
       "    <tr>\n",
       "      <th>0</th>\n",
       "      <td>SVR</td>\n",
       "      <td>0.475734</td>\n",
       "      <td>0.050949</td>\n",
       "      <td>0.173339</td>\n",
       "    </tr>\n",
       "  </tbody>\n",
       "</table>\n",
       "</div>"
      ],
      "text/plain": [
       "  nombre   mean_r2  mean_MSE  mean_MAE\n",
       "0    SVR  0.475734  0.050949  0.173339"
      ]
     },
     "execution_count": 79,
     "metadata": {},
     "output_type": "execute_result"
    }
   ],
   "source": [
    "MAX_SIN_PCA[MAX_SIN_PCA[\"mean_r2\"] > 0.3].sort_values(by= \"mean_r2\", ascending= False)"
   ]
  },
  {
   "cell_type": "markdown",
   "id": "e4724f34-96fa-4764-9765-01bab39f648d",
   "metadata": {},
   "source": [
    "### 3.2.1. TUNING SVR"
   ]
  },
  {
   "cell_type": "code",
   "execution_count": 60,
   "id": "6f622756-dace-475c-bdb6-32e3013f9bad",
   "metadata": {
    "tags": []
   },
   "outputs": [],
   "source": [
    "def tunning(modelo, parametros, X_train, X_test, y_train, y_test, salario):\n",
    "    \n",
    "    resultados = []\n",
    "    \n",
    "    grid_search = GridSearchCV(estimator  = modelo,\n",
    "                               param_grid = parametros,\n",
    "                               scoring    = \"neg_mean_squared_error\",\n",
    "                               cv         = 5,\n",
    "                               refit      = True,\n",
    "                               n_jobs     = -1,  # Use all available processors\n",
    "                               verbose    = 2)\n",
    "\n",
    "    model_result = grid_search.fit(X_train, y_train)\n",
    "\n",
    "    # Mejor modelo:\n",
    "    best_model = model_result.best_estimator_\n",
    "    params_best_model = best_model.get_params()\n",
    "\n",
    "    y_pred = best_model.predict(X_test)\n",
    "\n",
    "    # Metricas:\n",
    "    r2 = r2_score(y_test, y_pred)\n",
    "    MAE = mean_absolute_error(y_test, y_pred)\n",
    "    MSE = mean_squared_error(y_test, y_pred)\n",
    "\n",
    "    resultados.append([str(modelo).split(\"(\")[0], best_model, params_best_model, r2, MAE, MSE])\n",
    "    df_resultados = pd.DataFrame(resultados, columns= [\"Nombre\", \"Modelo\", \"Parametros\",\"r2_score\", \"MAE\", \"MSE\"])\n",
    "    df_resultados.to_csv(f\"salario_{salario}_tuning_svr.csv\", index= \"False\", sep= \",\")\n",
    "    dump(best_model, f'salario_{salario}_svr.pkl')\n",
    "    \n",
    "    return df_resultados"
   ]
  },
  {
   "cell_type": "code",
   "execution_count": 53,
   "id": "9f18ccef-39fc-4969-a66f-ab5aa09ee648",
   "metadata": {
    "tags": []
   },
   "outputs": [],
   "source": [
    "modelo_SVR = SVR()\n",
    "\n",
    "params_SVR = {'kernel': ['linear', 'poly', 'rbf', 'sigmoid'],\n",
    "              'degree': [3, 4],\n",
    "              'gamma': ['scale', 'auto'],\n",
    "              'coef0': [-0.5, -0.4, -0.6],\n",
    "              'C': [0.2, 0.3, 0.4],\n",
    "              'epsilon': [0.01],\n",
    "              'shrinking': [True],\n",
    "              'tol': [1e-6, 1e-7],\n",
    "              'cache_size': [100, 200],\n",
    "              'verbose': [False],\n",
    "              'max_iter': [550, 600, 700],\n",
    "             }"
   ]
  },
  {
   "cell_type": "code",
   "execution_count": 55,
   "id": "2924b0a9-e4e0-4fda-bde6-1037ab4d9d22",
   "metadata": {
    "tags": []
   },
   "outputs": [
    {
     "name": "stdout",
     "output_type": "stream",
     "text": [
      "Fitting 5 folds for each of 1728 candidates, totalling 8640 fits\n"
     ]
    }
   ],
   "source": [
    "X_train_min, X_test_min, y_train_min, y_test_min = train_test_split(X_min, y_min, test_size = 0.2, random_state=42)\n",
    "X_train_max, X_test_max, y_train_max, y_test_max = train_test_split(X_max, y_max, test_size = 0.2, random_state=42)\n",
    "\n",
    "resultados = []\n",
    "\n",
    "for modelo, params in zip(modelos,parametros):\n",
    "    resultado = tunning(modelo, params, X_train_max, X_test_max, y_train_max, y_test_max)\n",
    "    resultados.append(resultado)\n",
    "    \n",
    "resultados = [resultado[0] for resultado in resultados]\n",
    "df_resultados = pd.DataFrame(resultados, columns= [\"Nombre\", \"Modelo\", \"Parametros\",\"r2_score\", \"MAE\", \"MSE\"])"
   ]
  },
  {
   "cell_type": "code",
   "execution_count": 58,
   "id": "b79456dd-3ded-4452-9a18-94b0447bf8ae",
   "metadata": {
    "tags": []
   },
   "outputs": [
    {
     "data": {
      "text/plain": [
       "array([{'C': 0.2, 'cache_size': 100, 'coef0': -0.5, 'degree': 3, 'epsilon': 0.01, 'gamma': 'scale', 'kernel': 'rbf', 'max_iter': 500, 'shrinking': True, 'tol': 1e-06, 'verbose': False}],\n",
       "      dtype=object)"
      ]
     },
     "execution_count": 58,
     "metadata": {},
     "output_type": "execute_result"
    }
   ],
   "source": [
    "df_resultados[\"Parametros\"].values"
   ]
  },
  {
   "cell_type": "markdown",
   "id": "68e4d3f4-2db5-4f97-8788-44ad70732935",
   "metadata": {},
   "source": [
    "### 3.2.2. Best SVR models"
   ]
  },
  {
   "cell_type": "code",
   "execution_count": 59,
   "id": "a72204e1-fb3c-4207-9909-c2fb27b73faa",
   "metadata": {
    "tags": []
   },
   "outputs": [],
   "source": [
    "modelo_SVR = SVR()\n",
    "params_SVR_min = {'kernel': ['rbf'],\n",
    "                  'degree': [3],\n",
    "                  'gamma': ['scale'],\n",
    "                  'coef0': [-0.5],\n",
    "                  'C': [0.2],\n",
    "                  'epsilon': [0.01],\n",
    "                  'shrinking': [True],\n",
    "                  'tol': [1e-6],\n",
    "                  'cache_size': [100],\n",
    "                  'verbose': [False],\n",
    "                  'max_iter': [600],\n",
    "                 }\n",
    "    \n",
    "params_SVR_max = {'kernel': ['rbf'],\n",
    "                  'degree': [3],\n",
    "                  'gamma': ['scale'],\n",
    "                  'coef0': [-0.5],\n",
    "                  'C': [0.2],\n",
    "                  'epsilon': [0.01],\n",
    "                  'shrinking': [True],\n",
    "                  'tol': [1e-6],\n",
    "                  'cache_size': [100],\n",
    "                  'verbose': [False],\n",
    "                  'max_iter': [500],\n",
    "                 }\n",
    "\n",
    "X_train_min, X_test_min, y_train_min, y_test_min = train_test_split(X_min, y_min, test_size = 0.2, random_state=42)\n",
    "X_train_max, X_test_max, y_train_max, y_test_max = train_test_split(X_max, y_max, test_size = 0.2, random_state=42)"
   ]
  },
  {
   "cell_type": "code",
   "execution_count": 61,
   "id": "96792762-34f9-4834-b75a-4234ccec9f2c",
   "metadata": {
    "tags": []
   },
   "outputs": [
    {
     "name": "stdout",
     "output_type": "stream",
     "text": [
      "Fitting 5 folds for each of 1 candidates, totalling 5 fits\n",
      "Fitting 5 folds for each of 1 candidates, totalling 5 fits\n"
     ]
    }
   ],
   "source": [
    "df_resultados_tuning_min = tunning(modelo_SVR, params_SVR_min, X_train_min, X_test_min, y_train_min, y_test_min, \"min\")\n",
    "df_resultados_tuning_max = tunning(modelo_SVR, params_SVR_max, X_train_max, X_test_max, y_train_max, y_test_max, \"max\")"
   ]
  },
  {
   "cell_type": "code",
   "execution_count": 62,
   "id": "15591b4e-d168-4287-b930-b956d846fd6e",
   "metadata": {
    "tags": []
   },
   "outputs": [
    {
     "data": {
      "text/html": [
       "<div>\n",
       "<style scoped>\n",
       "    .dataframe tbody tr th:only-of-type {\n",
       "        vertical-align: middle;\n",
       "    }\n",
       "\n",
       "    .dataframe tbody tr th {\n",
       "        vertical-align: top;\n",
       "    }\n",
       "\n",
       "    .dataframe thead th {\n",
       "        text-align: right;\n",
       "    }\n",
       "</style>\n",
       "<table border=\"1\" class=\"dataframe\">\n",
       "  <thead>\n",
       "    <tr style=\"text-align: right;\">\n",
       "      <th></th>\n",
       "      <th>Nombre</th>\n",
       "      <th>Modelo</th>\n",
       "      <th>Parametros</th>\n",
       "      <th>r2_score</th>\n",
       "      <th>MAE</th>\n",
       "      <th>MSE</th>\n",
       "    </tr>\n",
       "  </thead>\n",
       "  <tbody>\n",
       "    <tr>\n",
       "      <th>0</th>\n",
       "      <td>SVR</td>\n",
       "      <td>SVR(C=0.2, cache_size=100, coef0=-0.5, epsilon...</td>\n",
       "      <td>{'C': 0.2, 'cache_size': 100, 'coef0': -0.5, '...</td>\n",
       "      <td>0.450102</td>\n",
       "      <td>0.172478</td>\n",
       "      <td>0.050469</td>\n",
       "    </tr>\n",
       "  </tbody>\n",
       "</table>\n",
       "</div>"
      ],
      "text/plain": [
       "  Nombre                                             Modelo  \\\n",
       "0    SVR  SVR(C=0.2, cache_size=100, coef0=-0.5, epsilon...   \n",
       "\n",
       "                                          Parametros  r2_score       MAE  \\\n",
       "0  {'C': 0.2, 'cache_size': 100, 'coef0': -0.5, '...  0.450102  0.172478   \n",
       "\n",
       "        MSE  \n",
       "0  0.050469  "
      ]
     },
     "execution_count": 62,
     "metadata": {},
     "output_type": "execute_result"
    }
   ],
   "source": [
    "df_resultados_tuning_min"
   ]
  },
  {
   "cell_type": "code",
   "execution_count": 63,
   "id": "0359cf7f-9029-451d-9a1f-b30d4b88c97c",
   "metadata": {
    "tags": []
   },
   "outputs": [
    {
     "data": {
      "text/html": [
       "<div>\n",
       "<style scoped>\n",
       "    .dataframe tbody tr th:only-of-type {\n",
       "        vertical-align: middle;\n",
       "    }\n",
       "\n",
       "    .dataframe tbody tr th {\n",
       "        vertical-align: top;\n",
       "    }\n",
       "\n",
       "    .dataframe thead th {\n",
       "        text-align: right;\n",
       "    }\n",
       "</style>\n",
       "<table border=\"1\" class=\"dataframe\">\n",
       "  <thead>\n",
       "    <tr style=\"text-align: right;\">\n",
       "      <th></th>\n",
       "      <th>Nombre</th>\n",
       "      <th>Modelo</th>\n",
       "      <th>Parametros</th>\n",
       "      <th>r2_score</th>\n",
       "      <th>MAE</th>\n",
       "      <th>MSE</th>\n",
       "    </tr>\n",
       "  </thead>\n",
       "  <tbody>\n",
       "    <tr>\n",
       "      <th>0</th>\n",
       "      <td>SVR</td>\n",
       "      <td>SVR(C=0.2, cache_size=100, coef0=-0.5, epsilon...</td>\n",
       "      <td>{'C': 0.2, 'cache_size': 100, 'coef0': -0.5, '...</td>\n",
       "      <td>0.500629</td>\n",
       "      <td>0.1779</td>\n",
       "      <td>0.051512</td>\n",
       "    </tr>\n",
       "  </tbody>\n",
       "</table>\n",
       "</div>"
      ],
      "text/plain": [
       "  Nombre                                             Modelo  \\\n",
       "0    SVR  SVR(C=0.2, cache_size=100, coef0=-0.5, epsilon...   \n",
       "\n",
       "                                          Parametros  r2_score     MAE  \\\n",
       "0  {'C': 0.2, 'cache_size': 100, 'coef0': -0.5, '...  0.500629  0.1779   \n",
       "\n",
       "        MSE  \n",
       "0  0.051512  "
      ]
     },
     "execution_count": 63,
     "metadata": {},
     "output_type": "execute_result"
    }
   ],
   "source": [
    "df_resultados_tuning_max"
   ]
  },
  {
   "cell_type": "markdown",
   "id": "f4ef6357-febc-4aba-9420-6b5134cbfd50",
   "metadata": {},
   "source": [
    "## 3.3. PCA"
   ]
  },
  {
   "cell_type": "markdown",
   "id": "dd14a15a-57c6-4a51-90a0-eacb78e5447a",
   "metadata": {},
   "source": [
    "Abrir los mejores modelos guardados y probar con PCA"
   ]
  },
  {
   "cell_type": "code",
   "execution_count": 119,
   "id": "6b8e1eaa-eb4b-4d8f-8288-d76b415e3fcc",
   "metadata": {
    "tags": []
   },
   "outputs": [],
   "source": [
    "def pca_tester(salarios, modelos_svr, X_sal, y_sal):\n",
    "    resultados_PCA = []\n",
    "\n",
    "    for salario, modelo_svr, X, y in zip(salarios, modelos_svr, X_sal, y_sal):\n",
    "\n",
    "        resultados = []\n",
    "        for componentes in range(2, X.shape[1]):\n",
    "\n",
    "            pca = PCA(componentes, random_state=42)\n",
    "            X_pca = pca.fit_transform(X)\n",
    "            X_train, X_test, y_train, y_test = train_test_split(X_pca, y, test_size = 0.2, random_state=42)\n",
    "\n",
    "            modelo_svr.fit(X_train, y_train)\n",
    "            y_pred = modelo_svr.predict(X_test)\n",
    "\n",
    "            # Métricas:\n",
    "            r2 = r2_score(y_test, y_pred)\n",
    "            MAE = mean_absolute_error(y_test, y_pred)\n",
    "            MSE = mean_squared_error(y_test, y_pred)\n",
    "\n",
    "            if r2 > 0.46:\n",
    "                resultados.append([salario, componentes, r2, MAE, MSE])\n",
    "\n",
    "        resultados_PCA.extend(resultados)\n",
    "\n",
    "    df_resultados_PCA = pd.DataFrame(resultados_PCA, columns= [\"salario\", \"componentes\", \"R2\", \"MAE\", \"MSE\"])\n",
    "    return df_resultados_PCA"
   ]
  },
  {
   "cell_type": "code",
   "execution_count": 120,
   "id": "13d3ae1e-8b6d-4a5e-9e47-ad4eeae60111",
   "metadata": {
    "tags": []
   },
   "outputs": [],
   "source": [
    "modelo_svr_min = load('salario_min_svr.pkl')\n",
    "modelo_svr_max = load('salario_max_svr.pkl')"
   ]
  },
  {
   "cell_type": "code",
   "execution_count": 121,
   "id": "e3b386bb-0c8b-473b-96c6-c3f9a891f18c",
   "metadata": {
    "tags": []
   },
   "outputs": [],
   "source": [
    "salarios = [\"min\", \"max\"]\n",
    "modelos_svr = [modelo_svr_min, modelo_svr_max]\n",
    "X = [X_min, X_max]\n",
    "y = [y_min, y_max]"
   ]
  },
  {
   "cell_type": "code",
   "execution_count": 122,
   "id": "d6c520a8-52c1-49fe-8ea1-40ee8d0f828b",
   "metadata": {
    "jupyter": {
     "source_hidden": true
    },
    "tags": []
   },
   "outputs": [],
   "source": [
    "df_resultados_PCA = pca_tester(salarios, modelos_svr, X, y)"
   ]
  },
  {
   "cell_type": "code",
   "execution_count": 131,
   "id": "7c067e06-40d3-4573-aa60-ccaf11ae26a9",
   "metadata": {
    "tags": []
   },
   "outputs": [
    {
     "data": {
      "text/html": [
       "<div>\n",
       "<style scoped>\n",
       "    .dataframe tbody tr th:only-of-type {\n",
       "        vertical-align: middle;\n",
       "    }\n",
       "\n",
       "    .dataframe tbody tr th {\n",
       "        vertical-align: top;\n",
       "    }\n",
       "\n",
       "    .dataframe thead th {\n",
       "        text-align: right;\n",
       "    }\n",
       "</style>\n",
       "<table border=\"1\" class=\"dataframe\">\n",
       "  <thead>\n",
       "    <tr style=\"text-align: right;\">\n",
       "      <th></th>\n",
       "      <th>salario</th>\n",
       "      <th>componentes</th>\n",
       "      <th>R2</th>\n",
       "      <th>MAE</th>\n",
       "      <th>MSE</th>\n",
       "    </tr>\n",
       "  </thead>\n",
       "  <tbody>\n",
       "    <tr>\n",
       "      <th>33</th>\n",
       "      <td>min</td>\n",
       "      <td>136</td>\n",
       "      <td>0.464965</td>\n",
       "      <td>0.167694</td>\n",
       "      <td>0.049105</td>\n",
       "    </tr>\n",
       "  </tbody>\n",
       "</table>\n",
       "</div>"
      ],
      "text/plain": [
       "   salario  componentes        R2       MAE       MSE\n",
       "33     min          136  0.464965  0.167694  0.049105"
      ]
     },
     "execution_count": 131,
     "metadata": {},
     "output_type": "execute_result"
    }
   ],
   "source": [
    "df_resultados_PCA[df_resultados_PCA[\"salario\"] == \"min\"].sort_values(by= \"R2\", ascending= False).head(1)"
   ]
  },
  {
   "cell_type": "code",
   "execution_count": 132,
   "id": "6aebf879-2e65-466a-b861-a9ff48500b6b",
   "metadata": {
    "jupyter": {
     "source_hidden": true
    },
    "tags": []
   },
   "outputs": [
    {
     "data": {
      "text/html": [
       "<div>\n",
       "<style scoped>\n",
       "    .dataframe tbody tr th:only-of-type {\n",
       "        vertical-align: middle;\n",
       "    }\n",
       "\n",
       "    .dataframe tbody tr th {\n",
       "        vertical-align: top;\n",
       "    }\n",
       "\n",
       "    .dataframe thead th {\n",
       "        text-align: right;\n",
       "    }\n",
       "</style>\n",
       "<table border=\"1\" class=\"dataframe\">\n",
       "  <thead>\n",
       "    <tr style=\"text-align: right;\">\n",
       "      <th></th>\n",
       "      <th>salario</th>\n",
       "      <th>componentes</th>\n",
       "      <th>R2</th>\n",
       "      <th>MAE</th>\n",
       "      <th>MSE</th>\n",
       "    </tr>\n",
       "  </thead>\n",
       "  <tbody>\n",
       "    <tr>\n",
       "      <th>176</th>\n",
       "      <td>max</td>\n",
       "      <td>130</td>\n",
       "      <td>0.517913</td>\n",
       "      <td>0.171782</td>\n",
       "      <td>0.049729</td>\n",
       "    </tr>\n",
       "  </tbody>\n",
       "</table>\n",
       "</div>"
      ],
      "text/plain": [
       "    salario  componentes        R2       MAE       MSE\n",
       "176     max          130  0.517913  0.171782  0.049729"
      ]
     },
     "execution_count": 132,
     "metadata": {},
     "output_type": "execute_result"
    }
   ],
   "source": [
    "df_resultados_PCA[df_resultados_PCA[\"salario\"] == \"max\"].sort_values(by= \"R2\", ascending= False).head(1)"
   ]
  },
  {
   "cell_type": "markdown",
   "id": "3b562d3c-08ac-4c1b-8736-6bc5a9ee6172",
   "metadata": {},
   "source": [
    "# 4. Redes Neuronales"
   ]
  },
  {
   "cell_type": "code",
   "execution_count": 472,
   "id": "13a7efbe-58c0-4e9d-971d-db4ea911c558",
   "metadata": {
    "tags": []
   },
   "outputs": [],
   "source": [
    "from tensorflow.keras.models import Sequential\n",
    "from tensorflow.keras.layers import RNN, Dense, LSTM, Embedding, Input\n",
    "from tensorflow.keras.optimizers import Adam\n",
    "\n",
    "from sklearn.preprocessing import OneHotEncoder, StandardScaler\n",
    "from tensorflow.keras.callbacks import EarlyStopping, ModelCheckpoint\n",
    "from tensorflow.keras.layers import BatchNormalization\n",
    "from keras.layers import Dense, Flatten, Dropout, Activation\n",
    "from keras.callbacks import ReduceLROnPlateau"
   ]
  },
  {
   "cell_type": "code",
   "execution_count": 307,
   "id": "0cffaa64-acfe-44fe-a7db-e51431f4d188",
   "metadata": {
    "tags": []
   },
   "outputs": [],
   "source": [
    "# Escalado:\n",
    "scaler = StandardScaler()\n",
    "X_min_scaled = scaler.fit_transform(X_min)"
   ]
  },
  {
   "cell_type": "code",
   "execution_count": 642,
   "id": "dbb2b269-4d7e-4b9b-bdf9-cb4f759ad739",
   "metadata": {
    "tags": []
   },
   "outputs": [],
   "source": [
    "X_min = X_min.values.astype(int)"
   ]
  },
  {
   "cell_type": "code",
   "execution_count": 643,
   "id": "f8bb794c-7714-4226-8fe3-8f071d0484f8",
   "metadata": {
    "tags": []
   },
   "outputs": [],
   "source": [
    "X_train, X_test, y_train, y_test = train_test_split(X_min, y_min, test_size = 0.2, random_state=42)"
   ]
  },
  {
   "cell_type": "code",
   "execution_count": 644,
   "id": "6154f5e8-ff07-4f1c-9a0e-8b07daa4904b",
   "metadata": {
    "tags": []
   },
   "outputs": [],
   "source": [
    "X_train, X_val, y_train, y_val = train_test_split(X_train, y_train, test_size = 0.2, random_state=42)"
   ]
  },
  {
   "cell_type": "code",
   "execution_count": null,
   "id": "119864c1-2420-46b8-8d6b-2f69ef22e5e4",
   "metadata": {},
   "outputs": [],
   "source": []
  },
  {
   "cell_type": "code",
   "execution_count": 645,
   "id": "cf9af2b6-7941-4822-be93-a67de6029f41",
   "metadata": {
    "tags": []
   },
   "outputs": [],
   "source": [
    "# Model definition\n",
    "np.random.seed(42)\n",
    "model = Sequential()\n",
    "\n",
    "model.add(Dense(units = 200, input_shape= (X_train.shape[1],), activation=\"linear\"))  # Adjust input shape\n",
    "model.add(Activation(\"relu\"))\n",
    "model.add(Dropout(0.2))\n",
    "\n",
    "model.add(Dense(units = 128))\n",
    "model.add(Activation(\"relu\"))\n",
    "model.add(Dropout(0.2))\n",
    "\n",
    "model.add(Dense(units = 64))\n",
    "model.add(Activation(\"relu\"))\n",
    "model.add(Dropout(0.2))\n",
    "\n",
    "# Hidden layers (optional, experiment with number and neurons)\n",
    "##model.add(Dense(128, activation=\"relu\"))\n",
    "#model.add(Dense(64, activation=\"relu\"))\n",
    "#model.add(Dense(32, activation=\"relu\"))\n",
    "\n",
    "model.add(Dense(1, activation=\"linear\"))  # Output layer for regression\n",
    "\n",
    "# Model compilation\n",
    "model.compile(loss=\"mse\", optimizer=Adam(learning_rate=0.001))  # Adjust loss and optimizer as needed\n",
    "\n",
    "#model.summary()"
   ]
  },
  {
   "cell_type": "code",
   "execution_count": 646,
   "id": "b0f9e4f0-8125-4e0d-b19e-b012f2d66129",
   "metadata": {
    "tags": []
   },
   "outputs": [
    {
     "name": "stdout",
     "output_type": "stream",
     "text": [
      "Epoch 1/100\n",
      "22/22 [==============================] - 1s 9ms/step - loss: 61.4733 - val_loss: 5.3962\n",
      "Epoch 2/100\n",
      "22/22 [==============================] - 0s 4ms/step - loss: 10.5281 - val_loss: 6.5306\n",
      "Epoch 3/100\n",
      "22/22 [==============================] - 0s 4ms/step - loss: 5.5870 - val_loss: 2.1335\n",
      "Epoch 4/100\n",
      "22/22 [==============================] - 0s 4ms/step - loss: 4.2049 - val_loss: 1.4136\n",
      "Epoch 5/100\n",
      "22/22 [==============================] - 0s 4ms/step - loss: 3.2637 - val_loss: 1.0693\n",
      "Epoch 6/100\n",
      "22/22 [==============================] - 0s 4ms/step - loss: 2.7416 - val_loss: 0.6402\n",
      "Epoch 7/100\n",
      "22/22 [==============================] - 0s 3ms/step - loss: 2.4298 - val_loss: 0.7467\n",
      "Epoch 8/100\n",
      "22/22 [==============================] - 0s 4ms/step - loss: 2.3262 - val_loss: 0.3773\n",
      "Epoch 9/100\n",
      "22/22 [==============================] - 0s 3ms/step - loss: 2.2521 - val_loss: 0.3101\n",
      "Epoch 10/100\n",
      "22/22 [==============================] - 0s 3ms/step - loss: 2.0882 - val_loss: 0.3828\n",
      "Epoch 11/100\n",
      "22/22 [==============================] - 0s 3ms/step - loss: 2.1406 - val_loss: 0.3614\n",
      "Epoch 12/100\n",
      "22/22 [==============================] - 0s 3ms/step - loss: 2.0718 - val_loss: 0.3293\n",
      "Epoch 13/100\n",
      "22/22 [==============================] - 0s 4ms/step - loss: 2.0861 - val_loss: 0.4641\n",
      "Epoch 14/100\n",
      "22/22 [==============================] - 0s 4ms/step - loss: 1.9184 - val_loss: 0.3832\n",
      "7/7 [==============================] - 0s 2ms/step - loss: 0.3453\n"
     ]
    },
    {
     "data": {
      "text/plain": [
       "0.34529343247413635"
      ]
     },
     "execution_count": 646,
     "metadata": {},
     "output_type": "execute_result"
    }
   ],
   "source": [
    "# Early stopping to prevent overfitting\n",
    "early_stopping = EarlyStopping(monitor=\"val_loss\", patience= 5)\n",
    "\n",
    "# Model training\n",
    "history = model.fit(X_train,\n",
    "                    y_train.values,\n",
    "                    validation_data=(X_val, y_val.values),\n",
    "                    epochs= 100,\n",
    "                    #batch_size= 100,\n",
    "                    callbacks=[early_stopping],\n",
    "                    verbose = 1\n",
    ")\n",
    "\n",
    "# Model evaluation on test set\n",
    "model.evaluate(X_test, y_test.values)"
   ]
  },
  {
   "cell_type": "code",
   "execution_count": 647,
   "id": "1973f4d8-cd52-4db2-ba92-2d5362f3ba38",
   "metadata": {
    "tags": []
   },
   "outputs": [
    {
     "data": {
      "image/png": "[encoded data removed]",
      "text/plain": [
       "<Figure size 640x480 with 1 Axes>"
      ]
     },
     "metadata": {},
     "output_type": "display_data"
    }
   ],
   "source": [
    "# loss\n",
    "plt.plot(history.history[\"loss\"], label = \"loss\")\n",
    "plt.legend()\n",
    "plt.show()"
   ]
  },
  {
   "cell_type": "code",
   "execution_count": 648,
   "id": "338c06c1-549e-4c95-a3e1-db9ed21b7f29",
   "metadata": {
    "tags": []
   },
   "outputs": [
    {
     "name": "stdout",
     "output_type": "stream",
     "text": [
      "7/7 [==============================] - 0s 1ms/step\n"
     ]
    }
   ],
   "source": [
    "y_pred = model.predict(X_test)"
   ]
  },
  {
   "cell_type": "code",
   "execution_count": 649,
   "id": "c63f0c24-44e2-4eac-9cb2-a19687049d5a",
   "metadata": {
    "tags": []
   },
   "outputs": [],
   "source": [
    "r2_score_results = r2_score(y_test, y_pred)\n",
    "mean_squared_error_results = mean_squared_error(y_test, y_pred)\n",
    "mean_absolute_error_results = mean_absolute_error(y_test, y_pred)"
   ]
  },
  {
   "cell_type": "code",
   "execution_count": 650,
   "id": "a9af7e7f-4d86-4b32-8d54-1cac4ac0489e",
   "metadata": {
    "tags": []
   },
   "outputs": [
    {
     "name": "stdout",
     "output_type": "stream",
     "text": [
      "-2.762215262873278\n",
      "0.34529359046991415\n",
      "0.4713082304183239\n"
     ]
    }
   ],
   "source": [
    "print(r2_score_results)\n",
    "print(mean_squared_error_results)\n",
    "print(mean_absolute_error_results)"
   ]
  },
  {
   "cell_type": "code",
   "execution_count": null,
   "id": "e3a8c891-48ea-41cc-b5a2-ad0a994c9706",
   "metadata": {},
   "outputs": [],
   "source": []
  },
  {
   "cell_type": "code",
   "execution_count": null,
   "id": "3ecac718-fe5f-4c16-a9fc-5e0de02124da",
   "metadata": {},
   "outputs": [],
   "source": []
  },
  {
   "cell_type": "code",
   "execution_count": null,
   "id": "7b5a0f3d-9c38-423f-9fed-79dc84b7a7a3",
   "metadata": {},
   "outputs": [],
   "source": []
  },
  {
   "cell_type": "code",
   "execution_count": null,
   "id": "4a6f4bae-8ba5-4d4f-8399-04a565bc0b43",
   "metadata": {},
   "outputs": [],
   "source": []
  },
  {
   "cell_type": "code",
   "execution_count": 17,
   "id": "3001b7e3-40a9-4c67-8196-bd367c239059",
   "metadata": {
    "tags": []
   },
   "outputs": [],
   "source": [
    "import tensorflow as tf\n",
    "from tensorflow.keras import Sequential\n"
   ]
  },
  {
   "cell_type": "code",
   "execution_count": 52,
   "id": "da583c96-2c4f-4505-a8a4-96a3a6de4df9",
   "metadata": {
    "tags": []
   },
   "outputs": [],
   "source": [
    "X = df_salario_max.drop([\"salario_max\"], axis= 1)\n",
    "y = df_salario_max[[\"salario_max\"]]\n",
    "\n",
    "X_train, X_test, y_train, y_test = train_test_split(X, y, test_size = 0.2)"
   ]
  },
  {
   "cell_type": "code",
   "execution_count": 53,
   "id": "51829d98-5bc9-4fd1-9b56-9b1e291b697d",
   "metadata": {
    "tags": []
   },
   "outputs": [
    {
     "name": "stdout",
     "output_type": "stream",
     "text": [
      "WARNING:tensorflow:From C:\\Users\\regue\\conda_ENV\\Lib\\site-packages\\keras\\src\\optimizers\\__init__.py:309: The name tf.train.Optimizer is deprecated. Please use tf.compat.v1.train.Optimizer instead.\n",
      "\n",
      "Model: \"sequential_4\"\n",
      "_________________________________________________________________\n",
      " Layer (type)                Output Shape              Param #   \n",
      "=================================================================\n",
      " dense_12 (Dense)            (None, 64)                5568      \n",
      "                                                                 \n",
      " dense_13 (Dense)            (None, 64)                4160      \n",
      "                                                                 \n",
      " dense_14 (Dense)            (None, 1)                 65        \n",
      "                                                                 \n",
      "=================================================================\n",
      "Total params: 9793 (38.25 KB)\n",
      "Trainable params: 9793 (38.25 KB)\n",
      "Non-trainable params: 0 (0.00 Byte)\n",
      "_________________________________________________________________\n"
     ]
    }
   ],
   "source": [
    "def create_regression_model(input_shape):\n",
    "    model = tf.keras.Sequential([\n",
    "        tf.keras.layers.Dense(64, activation='relu', input_shape=(input_shape,)),\n",
    "        tf.keras.layers.Dense(64, activation='relu'),\n",
    "        tf.keras.layers.Dense(1) \n",
    "    ])\n",
    "\n",
    "    model.compile(optimizer= \"adam\", loss='mean_squared_error')\n",
    "    \n",
    "    return model\n",
    "\n",
    "imput_shape = X.shape[1]\n",
    "\n",
    "regression_model = create_regression_model(imput_shape)\n",
    "\n",
    "regression_model.summary()"
   ]
  },
  {
   "cell_type": "code",
   "execution_count": null,
   "id": "2e9da3b7-af64-4e16-8241-5fe403adeae6",
   "metadata": {
    "tags": []
   },
   "outputs": [],
   "source": [
    "history = regression_model.fit(X_train.values.astype(int), y_train.values, epochs= 100)"
   ]
  },
  {
   "cell_type": "code",
   "execution_count": 55,
   "id": "ba84de83-7466-405e-93c3-861566cc1304",
   "metadata": {
    "tags": []
   },
   "outputs": [
    {
     "data": {
      "image/png": "[encoded data removed]",
      "text/plain": [
       "<Figure size 640x480 with 1 Axes>"
      ]
     },
     "metadata": {},
     "output_type": "display_data"
    }
   ],
   "source": [
    "# loss\n",
    "plt.plot(history.history[\"loss\"], label = \"loss\")\n",
    "plt.legend()\n",
    "plt.show()"
   ]
  },
  {
   "cell_type": "code",
   "execution_count": 56,
   "id": "10b641ce-91b1-46f8-8cac-0634f94e28c0",
   "metadata": {
    "tags": []
   },
   "outputs": [
    {
     "name": "stdout",
     "output_type": "stream",
     "text": [
      "7/7 [==============================] - 0s 1ms/step\n"
     ]
    }
   ],
   "source": [
    "y_pred = regression_model.predict(X_test.values.astype(int))"
   ]
  },
  {
   "cell_type": "code",
   "execution_count": 58,
   "id": "f7eb442e-c613-4a35-95ba-ec5136de042c",
   "metadata": {
    "tags": []
   },
   "outputs": [],
   "source": [
    "r2_score_results = r2_score(y_test, y_pred)\n",
    "mean_squared_error_results = mean_squared_error(y_test, y_pred)\n",
    "mean_absolute_error_results = mean_absolute_error(y_test, y_pred)"
   ]
  },
  {
   "cell_type": "code",
   "execution_count": 59,
   "id": "d8c18333-e5ee-4b5d-a568-140acade2347",
   "metadata": {
    "tags": []
   },
   "outputs": [
    {
     "name": "stdout",
     "output_type": "stream",
     "text": [
      "0.40049333194970516\n",
      "94005198.67956196\n",
      "7431.486504878394\n"
     ]
    }
   ],
   "source": [
    "print(r2_score_results)\n",
    "print(mean_squared_error_results)\n",
    "print(mean_absolute_error_results)"
   ]
  },
  {
   "cell_type": "code",
   "execution_count": null,
   "id": "e5e14302-6801-4c0d-a928-7234947a71a1",
   "metadata": {
    "tags": []
   },
   "outputs": [],
   "source": []
  },
  {
   "cell_type": "code",
   "execution_count": null,
   "id": "84fd98eb-49a7-418a-aa4b-93e608743101",
   "metadata": {},
   "outputs": [],
   "source": []
  },
  {
   "cell_type": "code",
   "execution_count": null,
   "id": "7c0eb1dc-7c96-406d-a902-382e8dbcb331",
   "metadata": {},
   "outputs": [],
   "source": []
  },
  {
   "cell_type": "code",
   "execution_count": null,
   "id": "6e877a58-0771-402f-870d-2ef3b5b0ee5c",
   "metadata": {},
   "outputs": [],
   "source": []
  },
  {
   "cell_type": "code",
   "execution_count": null,
   "id": "c3961172-ec2c-478a-92c6-32767b13cd76",
   "metadata": {},
   "outputs": [],
   "source": []
  },
  {
   "cell_type": "code",
   "execution_count": null,
   "id": "b069d787-4230-43ca-9bf1-b29a8faf5be6",
   "metadata": {},
   "outputs": [],
   "source": []
  },
  {
   "cell_type": "code",
   "execution_count": null,
   "id": "88a795c4-a4eb-4360-b1b9-5feff128abdc",
   "metadata": {},
   "outputs": [],
   "source": []
  },
  {
   "cell_type": "code",
   "execution_count": null,
   "id": "2dee565a-926a-4dc1-b191-2c67bd3de127",
   "metadata": {},
   "outputs": [],
   "source": []
  },
  {
   "cell_type": "code",
   "execution_count": null,
   "id": "91609e08-0887-468f-8597-c2428f90118f",
   "metadata": {},
   "outputs": [],
   "source": []
  },
  {
   "cell_type": "code",
   "execution_count": 38,
   "id": "10052414-816d-4b2b-9453-7a813fd6431d",
   "metadata": {
    "tags": []
   },
   "outputs": [],
   "source": [
    "# Para graficar:\n",
    "\n",
    "modelo_gbr = GradientBoostingRegressor()\n",
    "df_salario_max.columns = df_salario_max.columns.astype(str)\n",
    "modelo_gbr.fit(X_train, y_train)\n",
    "y_pred = modelo_gbr.predict(X_test)"
   ]
  },
  {
   "cell_type": "code",
   "execution_count": 39,
   "id": "588d627c-171b-4096-9581-2860817eeea0",
   "metadata": {
    "tags": []
   },
   "outputs": [],
   "source": [
    "test_y = y_test[\"salario_max\"].values.flatten()"
   ]
  },
  {
   "cell_type": "code",
   "execution_count": 40,
   "id": "a8631d88-aae2-4f57-8aa7-66959ba2bc17",
   "metadata": {
    "tags": []
   },
   "outputs": [],
   "source": [
    "pred_y = y_pred.flatten()"
   ]
  },
  {
   "cell_type": "code",
   "execution_count": 41,
   "id": "c9602575-bc14-44b9-8826-282bd948d633",
   "metadata": {
    "tags": []
   },
   "outputs": [
    {
     "data": {
      "text/plain": [
       "<Axes: >"
      ]
     },
     "execution_count": 41,
     "metadata": {},
     "output_type": "execute_result"
    },
    {
     "data": {
      "image/png": "[encoded data removed]",
      "text/plain": [
       "<Figure size 640x480 with 1 Axes>"
      ]
     },
     "metadata": {},
     "output_type": "display_data"
    }
   ],
   "source": [
    "sns.scatterplot(x= test_y, y= pred_y)"
   ]
  },
  {
   "cell_type": "code",
   "execution_count": null,
   "id": "b6d2c632-eb50-4f22-b908-143fd293152b",
   "metadata": {},
   "outputs": [],
   "source": []
  },
  {
   "cell_type": "code",
   "execution_count": null,
   "id": "722d8135-faf8-4bdf-810c-68e3a13a06cb",
   "metadata": {},
   "outputs": [],
   "source": []
  }
 ],
 "metadata": {
  "kernelspec": {
   "display_name": "Python 3 (ipykernel)",
   "language": "python",
   "name": "python3"
  },
  "language_info": {
   "codemirror_mode": {
    "name": "ipython",
    "version": 3
   },
   "file_extension": ".py",
   "mimetype": "text/x-python",
   "name": "python",
   "nbconvert_exporter": "python",
   "pygments_lexer": "ipython3",
   "version": "3.11.5"
  }
 },
 "nbformat": 4,
 "nbformat_minor": 5
}
