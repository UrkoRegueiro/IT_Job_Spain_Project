{
 "cells": [
  {
   "cell_type": "code",
   "execution_count": 1,
   "id": "9d6185b4-d352-4128-822b-a37e4d3ae02f",
   "metadata": {
    "tags": []
   },
   "outputs": [],
   "source": [
    "# Básicos\n",
    "import re\n",
    "import os\n",
    "import pandas as pd\n",
    "import numpy as np\n",
    "import matplotlib.pyplot as plt\n",
    "import seaborn as sns\n",
    "import pickle\n",
    "import tqdm\n",
    "# Avisos\n",
    "import warnings\n",
    "warnings.filterwarnings(\"ignore\")"
   ]
  },
  {
   "cell_type": "code",
   "execution_count": 24,
   "id": "0ae30a22-6505-4d64-96ca-f88cd3576f43",
   "metadata": {
    "tags": []
   },
   "outputs": [
    {
     "data": {
      "text/plain": [
       "'C:\\\\Users\\\\regue\\\\Desktop\\\\Data Science Projects\\\\PROJECTS\\\\IT_Job_Spain_Project\\\\Streamlit'"
      ]
     },
     "execution_count": 24,
     "metadata": {},
     "output_type": "execute_result"
    }
   ],
   "source": [
    "ruta_EDA"
   ]
  },
  {
   "cell_type": "code",
   "execution_count": 4,
   "id": "7d4b58f1-3125-4c69-abb5-f54592c8b070",
   "metadata": {
    "tags": []
   },
   "outputs": [],
   "source": [
    "ruta_datos_procesados = os.getcwd().replace(\"Streamlit\", \"Datos\\\\Procesados\\\\\")\n",
    "ruta_EDA = os.getcwd()"
   ]
  },
  {
   "cell_type": "code",
   "execution_count": 6,
   "id": "305a76bc-6257-4b69-afdb-5e28fdd479ff",
   "metadata": {
    "tags": []
   },
   "outputs": [],
   "source": [
    "df_empleos = pd.read_csv(ruta_datos_procesados + 'datos_jobs_finales.csv')"
   ]
  },
  {
   "cell_type": "code",
   "execution_count": 18,
   "id": "5b30837b-92aa-40a5-a37a-3c8a5cf50aa5",
   "metadata": {
    "tags": []
   },
   "outputs": [],
   "source": [
    "df_empleos[\"salario_max\"] = df_empleos[\"salario_max\"].apply(np.log)"
   ]
  },
  {
   "cell_type": "code",
   "execution_count": 23,
   "id": "e2ccba9b-4ec0-43fb-9a27-147ac5730837",
   "metadata": {
    "tags": []
   },
   "outputs": [
    {
     "data": {
      "text/plain": [
       "<Axes: >"
      ]
     },
     "execution_count": 23,
     "metadata": {},
     "output_type": "execute_result"
    },
    {
     "data": {
      "image/png": "[encoded data removed]",
      "text/plain": [
       "<Figure size 640x480 with 1 Axes>"
      ]
     },
     "metadata": {},
     "output_type": "display_data"
    }
   ],
   "source": [
    "df_empleos[df_empleos[\"salario_max\"]< 13][\"salario_max\"].hist(bins= 20)"
   ]
  },
  {
   "cell_type": "code",
   "execution_count": 9,
   "id": "d47b8bcf-b335-4064-be16-925779310981",
   "metadata": {
    "tags": []
   },
   "outputs": [
    {
     "data": {
      "text/plain": [
       "jornada\n",
       "jornada completa               10545\n",
       "no especificado                 6957\n",
       "practicas                        326\n",
       "media jornada                    124\n",
       "contrato temporal                 69\n",
       "trabajo autonomo                  61\n",
       "contrato por obra                 60\n",
       "jornada indiferente               58\n",
       "jornada de tarde                  11\n",
       "jornada parcial indiferente       11\n",
       "trabajo para estudiantes           7\n",
       "por horas                          4\n",
       "turno rotatorio                    4\n",
       "Name: count, dtype: int64"
      ]
     },
     "execution_count": 9,
     "metadata": {},
     "output_type": "execute_result"
    }
   ],
   "source": [
    "df_empleos[\"jornada\"].value_counts()"
   ]
  },
  {
   "cell_type": "code",
   "execution_count": 10,
   "id": "d26def90-7c73-4ede-ae6b-40ea039d5927",
   "metadata": {
    "tags": []
   },
   "outputs": [
    {
     "data": {
      "text/plain": [
       "tipo_contrato\n",
       "no especificado    12341\n",
       "indefinido          5492\n",
       "temporal             181\n",
       "otros contratos      129\n",
       "practicas             45\n",
       "autonomo              21\n",
       "obra o servicio       16\n",
       "parcial               11\n",
       "relevo                 1\n",
       "Name: count, dtype: int64"
      ]
     },
     "execution_count": 10,
     "metadata": {},
     "output_type": "execute_result"
    }
   ],
   "source": [
    "df_empleos[\"tipo_contrato\"].value_counts()"
   ]
  },
  {
   "cell_type": "code",
   "execution_count": null,
   "id": "241efa64-4c18-44f7-90e2-a494c77a8977",
   "metadata": {},
   "outputs": [],
   "source": []
  }
 ],
 "metadata": {
  "kernelspec": {
   "display_name": "Python 3 (ipykernel)",
   "language": "python",
   "name": "python3"
  },
  "language_info": {
   "codemirror_mode": {
    "name": "ipython",
    "version": 3
   },
   "file_extension": ".py",
   "mimetype": "text/x-python",
   "name": "python",
   "nbconvert_exporter": "python",
   "pygments_lexer": "ipython3",
   "version": "3.11.5"
  }
 },
 "nbformat": 4,
 "nbformat_minor": 5
}
