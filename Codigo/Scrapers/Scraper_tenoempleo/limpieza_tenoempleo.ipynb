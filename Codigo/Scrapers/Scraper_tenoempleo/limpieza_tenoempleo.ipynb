{
 "cells": [
  {
   "cell_type": "code",
   "execution_count": 1,
   "id": "8ec23334-1e69-46e5-bc34-4491b79bd24f",
   "metadata": {
    "tags": []
   },
   "outputs": [],
   "source": [
    "import pandas as pd\n",
    "import datetime\n",
    "from datetime import date, datetime, timedelta"
   ]
  },
  {
   "cell_type": "code",
   "execution_count": 2,
   "id": "dd577565-4ddf-4855-b908-bd3af0900216",
   "metadata": {
    "tags": []
   },
   "outputs": [],
   "source": [
    "# día 24/01\n",
    "df_1 = pd.read_csv(\"tecnoempleo_pags_1_18.csv\")\n",
    "df_2 = pd.read_csv(\"tecnoempleo_pags_19_55.csv\")\n",
    "df_3 = pd.read_csv(\"tecnoempleo_pags_56_73.csv\")"
   ]
  },
  {
   "cell_type": "code",
   "execution_count": 3,
   "id": "391ec914-1982-4bd3-b8c8-f39c04ac9686",
   "metadata": {
    "tags": []
   },
   "outputs": [],
   "source": [
    "df = pd.concat([df_1, df_2, df_3], ignore_index=True)"
   ]
  },
  {
   "cell_type": "code",
   "execution_count": 5,
   "id": "436ffbfa-679f-49d3-abe0-d6003a9c7c02",
   "metadata": {
    "tags": []
   },
   "outputs": [],
   "source": [
    "df[\"fecha_scrapeo\"] = datetime(year = 2024, month = 1, day = 24).strftime(\"%d/%m/%y\")"
   ]
  },
  {
   "cell_type": "code",
   "execution_count": 7,
   "id": "445bedd8-bdad-440e-8399-f62b7a70958a",
   "metadata": {
    "tags": []
   },
   "outputs": [],
   "source": [
    "#df.to_csv(\"datos_tecnoempleo.csv\", index= False, sep=\",\")"
   ]
  },
  {
   "cell_type": "code",
   "execution_count": null,
   "id": "087f4c35-43dd-4785-95db-cfc2be5faf4a",
   "metadata": {},
   "outputs": [],
   "source": []
  }
 ],
 "metadata": {
  "kernelspec": {
   "display_name": "Python 3 (ipykernel)",
   "language": "python",
   "name": "python3"
  },
  "language_info": {
   "codemirror_mode": {
    "name": "ipython",
    "version": 3
   },
   "file_extension": ".py",
   "mimetype": "text/x-python",
   "name": "python",
   "nbconvert_exporter": "python",
   "pygments_lexer": "ipython3",
   "version": "3.11.5"
  }
 },
 "nbformat": 4,
 "nbformat_minor": 5
}
